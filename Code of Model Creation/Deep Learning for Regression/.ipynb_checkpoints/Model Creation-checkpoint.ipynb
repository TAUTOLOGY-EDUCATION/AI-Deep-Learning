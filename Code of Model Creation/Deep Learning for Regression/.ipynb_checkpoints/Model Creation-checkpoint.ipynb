{
 "cells": [
  {
   "cell_type": "code",
   "execution_count": 1,
   "id": "d19cac4c",
   "metadata": {},
   "outputs": [
    {
     "name": "stderr",
     "output_type": "stream",
     "text": [
      "C:\\ProgramData\\Anaconda3\\lib\\site-packages\\scipy\\__init__.py:138: UserWarning: A NumPy version >=1.16.5 and <1.23.0 is required for this version of SciPy (detected version 1.23.1)\n",
      "  warnings.warn(f\"A NumPy version >={np_minversion} and <{np_maxversion} is required for this version of \"\n"
     ]
    }
   ],
   "source": [
    "import matplotlib.pyplot as plt\n",
    "import numpy as np\n",
    "import pandas as pd\n",
    "from sklearn.neural_network import MLPRegressor\n",
    "\n",
    "np.random.seed(12345)"
   ]
  },
  {
   "cell_type": "markdown",
   "id": "17eb4b80",
   "metadata": {},
   "source": [
    "# ========== Data =========="
   ]
  },
  {
   "cell_type": "code",
   "execution_count": 2,
   "id": "c1b1fa37",
   "metadata": {},
   "outputs": [],
   "source": [
    "data = pd.read_csv(\"dataset.csv\")"
   ]
  },
  {
   "cell_type": "code",
   "execution_count": 3,
   "id": "9a238791",
   "metadata": {},
   "outputs": [
    {
     "data": {
      "text/html": [
       "<div>\n",
       "<style scoped>\n",
       "    .dataframe tbody tr th:only-of-type {\n",
       "        vertical-align: middle;\n",
       "    }\n",
       "\n",
       "    .dataframe tbody tr th {\n",
       "        vertical-align: top;\n",
       "    }\n",
       "\n",
       "    .dataframe thead th {\n",
       "        text-align: right;\n",
       "    }\n",
       "</style>\n",
       "<table border=\"1\" class=\"dataframe\">\n",
       "  <thead>\n",
       "    <tr style=\"text-align: right;\">\n",
       "      <th></th>\n",
       "      <th>x1</th>\n",
       "      <th>x2</th>\n",
       "      <th>y</th>\n",
       "    </tr>\n",
       "  </thead>\n",
       "  <tbody>\n",
       "    <tr>\n",
       "      <th>0</th>\n",
       "      <td>1.305926</td>\n",
       "      <td>1.500783</td>\n",
       "      <td>3.0</td>\n",
       "    </tr>\n",
       "    <tr>\n",
       "      <th>1</th>\n",
       "      <td>-1.717671</td>\n",
       "      <td>0.612735</td>\n",
       "      <td>4.0</td>\n",
       "    </tr>\n",
       "    <tr>\n",
       "      <th>2</th>\n",
       "      <td>-1.467331</td>\n",
       "      <td>1.843626</td>\n",
       "      <td>4.0</td>\n",
       "    </tr>\n",
       "    <tr>\n",
       "      <th>3</th>\n",
       "      <td>1.062857</td>\n",
       "      <td>-0.393577</td>\n",
       "      <td>1.0</td>\n",
       "    </tr>\n",
       "    <tr>\n",
       "      <th>4</th>\n",
       "      <td>1.378435</td>\n",
       "      <td>-0.722736</td>\n",
       "      <td>1.0</td>\n",
       "    </tr>\n",
       "    <tr>\n",
       "      <th>...</th>\n",
       "      <td>...</td>\n",
       "      <td>...</td>\n",
       "      <td>...</td>\n",
       "    </tr>\n",
       "    <tr>\n",
       "      <th>95</th>\n",
       "      <td>-0.710393</td>\n",
       "      <td>-0.851150</td>\n",
       "      <td>-0.0</td>\n",
       "    </tr>\n",
       "    <tr>\n",
       "      <th>96</th>\n",
       "      <td>0.291995</td>\n",
       "      <td>-1.458279</td>\n",
       "      <td>-1.0</td>\n",
       "    </tr>\n",
       "    <tr>\n",
       "      <th>97</th>\n",
       "      <td>-0.324825</td>\n",
       "      <td>0.045712</td>\n",
       "      <td>0.0</td>\n",
       "    </tr>\n",
       "    <tr>\n",
       "      <th>98</th>\n",
       "      <td>0.897479</td>\n",
       "      <td>-1.046809</td>\n",
       "      <td>-0.0</td>\n",
       "    </tr>\n",
       "    <tr>\n",
       "      <th>99</th>\n",
       "      <td>0.959070</td>\n",
       "      <td>-0.892272</td>\n",
       "      <td>0.0</td>\n",
       "    </tr>\n",
       "  </tbody>\n",
       "</table>\n",
       "<p>100 rows × 3 columns</p>\n",
       "</div>"
      ],
      "text/plain": [
       "          x1        x2    y\n",
       "0   1.305926  1.500783  3.0\n",
       "1  -1.717671  0.612735  4.0\n",
       "2  -1.467331  1.843626  4.0\n",
       "3   1.062857 -0.393577  1.0\n",
       "4   1.378435 -0.722736  1.0\n",
       "..       ...       ...  ...\n",
       "95 -0.710393 -0.851150 -0.0\n",
       "96  0.291995 -1.458279 -1.0\n",
       "97 -0.324825  0.045712  0.0\n",
       "98  0.897479 -1.046809 -0.0\n",
       "99  0.959070 -0.892272  0.0\n",
       "\n",
       "[100 rows x 3 columns]"
      ]
     },
     "execution_count": 3,
     "metadata": {},
     "output_type": "execute_result"
    }
   ],
   "source": [
    "data"
   ]
  },
  {
   "cell_type": "code",
   "execution_count": 4,
   "id": "ea938163",
   "metadata": {},
   "outputs": [],
   "source": [
    "X_train_scaled = data[[\"x1\", \"x2\"]]"
   ]
  },
  {
   "cell_type": "code",
   "execution_count": 5,
   "id": "5addee36",
   "metadata": {},
   "outputs": [],
   "source": [
    "y_train = data[\"y\"]"
   ]
  },
  {
   "cell_type": "markdown",
   "id": "f2784d94",
   "metadata": {},
   "source": [
    "# ========== Model =========="
   ]
  },
  {
   "cell_type": "markdown",
   "id": "77396ec0-219e-4ad4-ae1d-f4cb97552689",
   "metadata": {},
   "source": [
    "## Setting Parameter"
   ]
  },
  {
   "cell_type": "code",
   "execution_count": 6,
   "id": "37e8e3fb",
   "metadata": {},
   "outputs": [],
   "source": [
    "reg = MLPRegressor(\n",
    "    hidden_layer_sizes=(10, 5),\n",
    "    activation=\"relu\",\n",
    "    solver=\"sgd\",\n",
    "    alpha=0,\n",
    "    batch_size=X_train_scaled.shape[0],\n",
    "    learning_rate_init=0.01,\n",
    "    max_iter=1000,\n",
    "    momentum=0,\n",
    ")"
   ]
  },
  {
   "cell_type": "markdown",
   "id": "5f64c380-d1da-48df-add3-d905c3bda5db",
   "metadata": {},
   "source": [
    "## Train Model"
   ]
  },
  {
   "cell_type": "code",
   "execution_count": 7,
   "id": "cf2c798a-4e2d-4583-8696-18cc1eb701ee",
   "metadata": {},
   "outputs": [
    {
     "data": {
      "text/plain": [
       "MLPRegressor(alpha=0, batch_size=100, hidden_layer_sizes=(10, 5),\n",
       "             learning_rate_init=0.01, max_iter=1000, momentum=0, solver='sgd')"
      ]
     },
     "execution_count": 7,
     "metadata": {},
     "output_type": "execute_result"
    }
   ],
   "source": [
    "reg.fit(X_train_scaled, y_train)"
   ]
  },
  {
   "cell_type": "markdown",
   "id": "19399a9a-199a-44c4-a274-d9cccd1921c5",
   "metadata": {},
   "source": [
    "## Loss curve"
   ]
  },
  {
   "cell_type": "code",
   "execution_count": 8,
   "id": "6fef2a39",
   "metadata": {},
   "outputs": [
    {
     "data": {
      "text/plain": [
       "[<matplotlib.lines.Line2D at 0x1f26cee4670>]"
      ]
     },
     "execution_count": 8,
     "metadata": {},
     "output_type": "execute_result"
    },
    {
     "data": {
      "image/png": "[encoded data removed]",
      "text/plain": [
       "<Figure size 640x480 with 1 Axes>"
      ]
     },
     "metadata": {},
     "output_type": "display_data"
    }
   ],
   "source": [
    "plt.plot(reg.loss_curve_)"
   ]
  },
  {
   "cell_type": "markdown",
   "id": "c5b33059-8a96-40f1-bbcb-533d3e9f761f",
   "metadata": {},
   "source": [
    "## Model's Weight & Bias"
   ]
  },
  {
   "cell_type": "code",
   "execution_count": 9,
   "id": "b759dee4",
   "metadata": {},
   "outputs": [
    {
     "data": {
      "text/plain": [
       "[array([ 0.21214382,  0.0444629 ,  0.15198816, -0.23487969, -0.03861985,\n",
       "         0.03668109,  0.84618864,  0.14976769,  0.40384666, -0.44191357]),\n",
       " array([ 0.73832575, -0.04137055, -0.15155036,  0.0847531 , -0.2386591 ]),\n",
       " array([0.05764183])]"
      ]
     },
     "execution_count": 9,
     "metadata": {},
     "output_type": "execute_result"
    }
   ],
   "source": [
    "reg.intercepts_"
   ]
  },
  {
   "cell_type": "code",
   "execution_count": 10,
   "id": "ec2cdbb5",
   "metadata": {},
   "outputs": [
    {
     "data": {
      "text/plain": [
       "[array([[ 0.30346995, -1.0068764 , -0.25547002, -0.92496054,  0.50549896,\n",
       "          0.66251457,  0.46760136,  0.59825986,  0.55844964,  0.28230907],\n",
       "        [ 0.3084262 ,  0.50777497, -0.89272978, -0.34567219, -0.18944672,\n",
       "          0.14248197,  0.42007426,  0.49925495,  0.68719585,  0.33459048]]),\n",
       " array([[-0.62784509,  0.33760103,  0.423284  , -0.37000659, -0.01919384],\n",
       "        [-0.08304723,  0.02155091, -0.56778126,  1.00001568,  0.16078881],\n",
       "        [ 0.45118033, -0.01229982,  0.63835305, -0.40455859, -0.35862184],\n",
       "        [-0.42865911, -0.04869741,  0.02877893,  0.68127669, -0.40897924],\n",
       "        [-0.0028915 , -0.42078484,  0.35327925,  0.6931259 ,  0.13849974],\n",
       "        [-0.4974385 , -0.05552565, -0.22682661,  0.66006472,  0.48424825],\n",
       "        [-0.08692559, -0.31287992, -0.01106156, -0.29816353, -0.51864735],\n",
       "        [ 0.20376155,  0.3163176 ,  0.02068535,  0.82721014,  0.111241  ],\n",
       "        [ 0.48308388, -0.09138641, -0.28755791,  0.49350466, -0.07063003],\n",
       "        [-0.36956268, -0.33026132,  0.3672792 ,  0.0797148 ,  0.52307144]]),\n",
       " array([[-0.65702967],\n",
       "        [-0.52002513],\n",
       "        [-0.49796746],\n",
       "        [ 1.30615725],\n",
       "        [-0.33256578]])]"
      ]
     },
     "execution_count": 10,
     "metadata": {},
     "output_type": "execute_result"
    }
   ],
   "source": [
    "reg.coefs_"
   ]
  },
  {
   "cell_type": "markdown",
   "id": "fbb76602",
   "metadata": {},
   "source": [
    "# ========== Prediction =========="
   ]
  },
  {
   "cell_type": "code",
   "execution_count": 11,
   "id": "c08f25ac",
   "metadata": {},
   "outputs": [],
   "source": [
    "X_test_scaled = pd.read_csv(\"incoming_data.csv\")"
   ]
  },
  {
   "cell_type": "code",
   "execution_count": 12,
   "id": "f8991b3c-cc67-4913-95c1-cf36d86f2be4",
   "metadata": {},
   "outputs": [
    {
     "data": {
      "text/html": [
       "<div>\n",
       "<style scoped>\n",
       "    .dataframe tbody tr th:only-of-type {\n",
       "        vertical-align: middle;\n",
       "    }\n",
       "\n",
       "    .dataframe tbody tr th {\n",
       "        vertical-align: top;\n",
       "    }\n",
       "\n",
       "    .dataframe thead th {\n",
       "        text-align: right;\n",
       "    }\n",
       "</style>\n",
       "<table border=\"1\" class=\"dataframe\">\n",
       "  <thead>\n",
       "    <tr style=\"text-align: right;\">\n",
       "      <th></th>\n",
       "      <th>x1</th>\n",
       "      <th>x2</th>\n",
       "    </tr>\n",
       "  </thead>\n",
       "  <tbody>\n",
       "    <tr>\n",
       "      <th>0</th>\n",
       "      <td>1</td>\n",
       "      <td>1</td>\n",
       "    </tr>\n",
       "    <tr>\n",
       "      <th>1</th>\n",
       "      <td>2</td>\n",
       "      <td>0</td>\n",
       "    </tr>\n",
       "    <tr>\n",
       "      <th>2</th>\n",
       "      <td>3</td>\n",
       "      <td>1</td>\n",
       "    </tr>\n",
       "    <tr>\n",
       "      <th>3</th>\n",
       "      <td>3</td>\n",
       "      <td>0</td>\n",
       "    </tr>\n",
       "  </tbody>\n",
       "</table>\n",
       "</div>"
      ],
      "text/plain": [
       "   x1  x2\n",
       "0   1   1\n",
       "1   2   0\n",
       "2   3   1\n",
       "3   3   0"
      ]
     },
     "execution_count": 12,
     "metadata": {},
     "output_type": "execute_result"
    }
   ],
   "source": [
    "X_test_scaled"
   ]
  },
  {
   "cell_type": "code",
   "execution_count": 13,
   "id": "e920d06f",
   "metadata": {},
   "outputs": [
    {
     "data": {
      "text/plain": [
       "array([2.0822054 , 3.34899987, 5.90153992, 5.2522485 ])"
      ]
     },
     "execution_count": 13,
     "metadata": {},
     "output_type": "execute_result"
    }
   ],
   "source": [
    "reg.predict(X_test_scaled)"
   ]
  }
 ],
 "metadata": {
  "kernelspec": {
   "display_name": "Python 3 (ipykernel)",
   "language": "python",
   "name": "python3"
  },
  "language_info": {
   "codemirror_mode": {
    "name": "ipython",
    "version": 3
   },
   "file_extension": ".py",
   "mimetype": "text/x-python",
   "name": "python",
   "nbconvert_exporter": "python",
   "pygments_lexer": "ipython3",
   "version": "3.8.13"
  }
 },
 "nbformat": 4,
 "nbformat_minor": 5
}
