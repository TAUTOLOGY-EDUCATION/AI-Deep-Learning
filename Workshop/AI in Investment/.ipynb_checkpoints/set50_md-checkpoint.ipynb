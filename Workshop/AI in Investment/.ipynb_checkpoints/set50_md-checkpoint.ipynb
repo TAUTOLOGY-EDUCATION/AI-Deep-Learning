{
 "cells": [
  {
   "cell_type": "code",
   "execution_count": 1,
   "id": "1b8cd87e-5da1-42c0-b569-0b9737ff519d",
   "metadata": {},
   "outputs": [],
   "source": [
    "import pickle\n",
    "\n",
    "import numpy as np\n",
    "import pandas as pd"
   ]
  },
  {
   "cell_type": "code",
   "execution_count": 2,
   "id": "5d406da4-0f55-4290-8342-cac1af82cf8d",
   "metadata": {},
   "outputs": [
    {
     "name": "stderr",
     "output_type": "stream",
     "text": [
      "C:\\ProgramData\\Anaconda3\\lib\\site-packages\\scipy\\__init__.py:138: UserWarning: A NumPy version >=1.16.5 and <1.23.0 is required for this version of SciPy (detected version 1.23.1)\n",
      "  warnings.warn(f\"A NumPy version >={np_minversion} and <{np_maxversion} is required for this version of \"\n"
     ]
    }
   ],
   "source": [
    "saved_model = pickle.load(open(\"set50_model.pickle\", \"rb\"))"
   ]
  },
  {
   "cell_type": "code",
   "execution_count": 3,
   "id": "661ab435-4392-4796-8840-c1eac31ec8e5",
   "metadata": {},
   "outputs": [],
   "source": [
    "reg = saved_model[0]\n",
    "feature_name = saved_model[1]"
   ]
  },
  {
   "cell_type": "code",
   "execution_count": 4,
   "id": "56a12247-9d87-45ab-b534-37464c0d6abf",
   "metadata": {},
   "outputs": [
    {
     "data": {
      "text/plain": [
       "['Open_0', 'STD5_Open_0', 'RSI14_Open_0', 'ATR14_0']"
      ]
     },
     "execution_count": 4,
     "metadata": {},
     "output_type": "execute_result"
    }
   ],
   "source": [
    "feature_name"
   ]
  },
  {
   "cell_type": "code",
   "execution_count": 5,
   "id": "e59d060e-3089-4347-a74c-aa75f7683b8e",
   "metadata": {},
   "outputs": [],
   "source": [
    "Open_0 = 1613.72\n",
    "STD5_Open_0 = 15.277493\n",
    "RSI14_Open_0 = 61.520575\n",
    "ATR14_0 = 19.932244"
   ]
  },
  {
   "cell_type": "code",
   "execution_count": 6,
   "id": "60d2f196-1a1a-4216-aa04-c4ae65e7028b",
   "metadata": {},
   "outputs": [
    {
     "data": {
      "text/html": [
       "<div>\n",
       "<style scoped>\n",
       "    .dataframe tbody tr th:only-of-type {\n",
       "        vertical-align: middle;\n",
       "    }\n",
       "\n",
       "    .dataframe tbody tr th {\n",
       "        vertical-align: top;\n",
       "    }\n",
       "\n",
       "    .dataframe thead th {\n",
       "        text-align: right;\n",
       "    }\n",
       "</style>\n",
       "<table border=\"1\" class=\"dataframe\">\n",
       "  <thead>\n",
       "    <tr style=\"text-align: right;\">\n",
       "      <th></th>\n",
       "      <th>Open_0</th>\n",
       "      <th>STD5_Open_0</th>\n",
       "      <th>RSI14_Open_0</th>\n",
       "      <th>ATR14_0</th>\n",
       "    </tr>\n",
       "  </thead>\n",
       "  <tbody>\n",
       "    <tr>\n",
       "      <th>0</th>\n",
       "      <td>1613.72</td>\n",
       "      <td>15.277493</td>\n",
       "      <td>61.520575</td>\n",
       "      <td>19.932244</td>\n",
       "    </tr>\n",
       "  </tbody>\n",
       "</table>\n",
       "</div>"
      ],
      "text/plain": [
       "    Open_0  STD5_Open_0  RSI14_Open_0    ATR14_0\n",
       "0  1613.72    15.277493     61.520575  19.932244"
      ]
     },
     "execution_count": 6,
     "metadata": {},
     "output_type": "execute_result"
    }
   ],
   "source": [
    "incoming_data = pd.DataFrame(\n",
    "    np.array([[Open_0, STD5_Open_0, RSI14_Open_0, ATR14_0]]), columns=feature_name\n",
    ")\n",
    "\n",
    "incoming_data"
   ]
  },
  {
   "cell_type": "markdown",
   "id": "1cc6651f-00ec-4919-a2e8-42b5d0704e25",
   "metadata": {},
   "source": [
    "### Prediction"
   ]
  },
  {
   "cell_type": "code",
   "execution_count": 7,
   "id": "c00c810a-3367-48d2-a6fa-420067ad1164",
   "metadata": {},
   "outputs": [],
   "source": [
    "predicted_target = reg.predict(incoming_data)"
   ]
  },
  {
   "cell_type": "code",
   "execution_count": 8,
   "id": "82c22dbd-fc96-4371-92f5-6c9c944217fa",
   "metadata": {},
   "outputs": [
    {
     "data": {
      "text/plain": [
       "array([1621.18962878])"
      ]
     },
     "execution_count": 8,
     "metadata": {},
     "output_type": "execute_result"
    }
   ],
   "source": [
    "predicted_target"
   ]
  }
 ],
 "metadata": {
  "kernelspec": {
   "display_name": "Python 3 (ipykernel)",
   "language": "python",
   "name": "python3"
  },
  "language_info": {
   "codemirror_mode": {
    "name": "ipython",
    "version": 3
   },
   "file_extension": ".py",
   "mimetype": "text/x-python",
   "name": "python",
   "nbconvert_exporter": "python",
   "pygments_lexer": "ipython3",
   "version": "3.8.13"
  }
 },
 "nbformat": 4,
 "nbformat_minor": 5
}
