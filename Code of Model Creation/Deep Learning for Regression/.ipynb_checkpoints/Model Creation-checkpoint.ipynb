{
 "cells": [
  {
   "cell_type": "code",
   "execution_count": 1,
   "id": "d19cac4c",
   "metadata": {},
   "outputs": [
    {
     "name": "stderr",
     "output_type": "stream",
     "text": [
      "C:\\ProgramData\\Anaconda3\\lib\\site-packages\\scipy\\__init__.py:138: UserWarning: A NumPy version >=1.16.5 and <1.23.0 is required for this version of SciPy (detected version 1.23.1)\n",
      "  warnings.warn(f\"A NumPy version >={np_minversion} and <{np_maxversion} is required for this version of \"\n"
     ]
    }
   ],
   "source": [
    "import matplotlib.pyplot as plt\n",
    "import numpy as np\n",
    "import pandas as pd\n",
    "from sklearn.neural_network import MLPRegressor\n",
    "\n",
    "np.random.seed(12345)"
   ]
  },
  {
   "cell_type": "markdown",
   "id": "17eb4b80",
   "metadata": {},
   "source": [
    "# ========== Data =========="
   ]
  },
  {
   "cell_type": "code",
   "execution_count": 2,
   "id": "c1b1fa37",
   "metadata": {},
   "outputs": [],
   "source": [
    "data = pd.read_csv(\"dataset.csv\")"
   ]
  },
  {
   "cell_type": "code",
   "execution_count": 3,
   "id": "9a238791",
   "metadata": {},
   "outputs": [
    {
     "data": {
      "text/html": [
       "<div>\n",
       "<style scoped>\n",
       "    .dataframe tbody tr th:only-of-type {\n",
       "        vertical-align: middle;\n",
       "    }\n",
       "\n",
       "    .dataframe tbody tr th {\n",
       "        vertical-align: top;\n",
       "    }\n",
       "\n",
       "    .dataframe thead th {\n",
       "        text-align: right;\n",
       "    }\n",
       "</style>\n",
       "<table border=\"1\" class=\"dataframe\">\n",
       "  <thead>\n",
       "    <tr style=\"text-align: right;\">\n",
       "      <th></th>\n",
       "      <th>x1</th>\n",
       "      <th>x2</th>\n",
       "      <th>y</th>\n",
       "    </tr>\n",
       "  </thead>\n",
       "  <tbody>\n",
       "    <tr>\n",
       "      <th>0</th>\n",
       "      <td>1.305926</td>\n",
       "      <td>1.500783</td>\n",
       "      <td>-0.546906</td>\n",
       "    </tr>\n",
       "    <tr>\n",
       "      <th>1</th>\n",
       "      <td>-1.717671</td>\n",
       "      <td>0.612735</td>\n",
       "      <td>2.574949</td>\n",
       "    </tr>\n",
       "    <tr>\n",
       "      <th>2</th>\n",
       "      <td>-1.467331</td>\n",
       "      <td>1.843626</td>\n",
       "      <td>-1.245897</td>\n",
       "    </tr>\n",
       "    <tr>\n",
       "      <th>3</th>\n",
       "      <td>1.062857</td>\n",
       "      <td>-0.393577</td>\n",
       "      <td>0.974762</td>\n",
       "    </tr>\n",
       "    <tr>\n",
       "      <th>4</th>\n",
       "      <td>1.378435</td>\n",
       "      <td>-0.722736</td>\n",
       "      <td>1.377737</td>\n",
       "    </tr>\n",
       "    <tr>\n",
       "      <th>...</th>\n",
       "      <td>...</td>\n",
       "      <td>...</td>\n",
       "      <td>...</td>\n",
       "    </tr>\n",
       "    <tr>\n",
       "      <th>95</th>\n",
       "      <td>-0.710393</td>\n",
       "      <td>-0.851150</td>\n",
       "      <td>-0.219798</td>\n",
       "    </tr>\n",
       "    <tr>\n",
       "      <th>96</th>\n",
       "      <td>0.291995</td>\n",
       "      <td>-1.458279</td>\n",
       "      <td>-2.041317</td>\n",
       "    </tr>\n",
       "    <tr>\n",
       "      <th>97</th>\n",
       "      <td>-0.324825</td>\n",
       "      <td>0.045712</td>\n",
       "      <td>0.103422</td>\n",
       "    </tr>\n",
       "    <tr>\n",
       "      <th>98</th>\n",
       "      <td>0.897479</td>\n",
       "      <td>-1.046809</td>\n",
       "      <td>-0.290341</td>\n",
       "    </tr>\n",
       "    <tr>\n",
       "      <th>99</th>\n",
       "      <td>0.959070</td>\n",
       "      <td>-0.892272</td>\n",
       "      <td>0.123665</td>\n",
       "    </tr>\n",
       "  </tbody>\n",
       "</table>\n",
       "<p>100 rows × 3 columns</p>\n",
       "</div>"
      ],
      "text/plain": [
       "          x1        x2         y\n",
       "0   1.305926  1.500783 -0.546906\n",
       "1  -1.717671  0.612735  2.574949\n",
       "2  -1.467331  1.843626 -1.245897\n",
       "3   1.062857 -0.393577  0.974762\n",
       "4   1.378435 -0.722736  1.377737\n",
       "..       ...       ...       ...\n",
       "95 -0.710393 -0.851150 -0.219798\n",
       "96  0.291995 -1.458279 -2.041317\n",
       "97 -0.324825  0.045712  0.103422\n",
       "98  0.897479 -1.046809 -0.290341\n",
       "99  0.959070 -0.892272  0.123665\n",
       "\n",
       "[100 rows x 3 columns]"
      ]
     },
     "execution_count": 3,
     "metadata": {},
     "output_type": "execute_result"
    }
   ],
   "source": [
    "data"
   ]
  },
  {
   "cell_type": "code",
   "execution_count": 4,
   "id": "ea938163",
   "metadata": {},
   "outputs": [],
   "source": [
    "X_train_scaled = data[[\"x1\", \"x2\"]]"
   ]
  },
  {
   "cell_type": "code",
   "execution_count": 5,
   "id": "5addee36",
   "metadata": {},
   "outputs": [],
   "source": [
    "y_train = data[\"y\"]"
   ]
  },
  {
   "cell_type": "markdown",
   "id": "f2784d94",
   "metadata": {},
   "source": [
    "# ========== Model =========="
   ]
  },
  {
   "cell_type": "markdown",
   "id": "77396ec0-219e-4ad4-ae1d-f4cb97552689",
   "metadata": {},
   "source": [
    "## Setting Parameter"
   ]
  },
  {
   "cell_type": "code",
   "execution_count": 6,
   "id": "37e8e3fb",
   "metadata": {},
   "outputs": [],
   "source": [
    "reg = MLPRegressor(\n",
    "    hidden_layer_sizes=(10, 5),\n",
    "    activation=\"relu\",\n",
    "    solver=\"sgd\",\n",
    "    alpha=0,\n",
    "    batch_size=X_train_scaled.shape[0],\n",
    "    learning_rate_init=0.01,\n",
    "    max_iter=1000,\n",
    "    momentum=0,\n",
    ")"
   ]
  },
  {
   "cell_type": "markdown",
   "id": "5f64c380-d1da-48df-add3-d905c3bda5db",
   "metadata": {},
   "source": [
    "## Train Model"
   ]
  },
  {
   "cell_type": "code",
   "execution_count": 7,
   "id": "cf2c798a-4e2d-4583-8696-18cc1eb701ee",
   "metadata": {},
   "outputs": [
    {
     "name": "stderr",
     "output_type": "stream",
     "text": [
      "C:\\ProgramData\\Anaconda3\\lib\\site-packages\\sklearn\\neural_network\\_multilayer_perceptron.py:614: ConvergenceWarning: Stochastic Optimizer: Maximum iterations (1000) reached and the optimization hasn't converged yet.\n",
      "  warnings.warn(\n"
     ]
    },
    {
     "data": {
      "text/plain": [
       "MLPRegressor(alpha=0, batch_size=100, hidden_layer_sizes=(10, 5),\n",
       "             learning_rate_init=0.01, max_iter=1000, momentum=0, solver='sgd')"
      ]
     },
     "execution_count": 7,
     "metadata": {},
     "output_type": "execute_result"
    }
   ],
   "source": [
    "reg.fit(X_train_scaled, y_train)"
   ]
  },
  {
   "cell_type": "markdown",
   "id": "19399a9a-199a-44c4-a274-d9cccd1921c5",
   "metadata": {},
   "source": [
    "## Loss curve"
   ]
  },
  {
   "cell_type": "code",
   "execution_count": 8,
   "id": "6fef2a39",
   "metadata": {},
   "outputs": [
    {
     "data": {
      "text/plain": [
       "[<matplotlib.lines.Line2D at 0x1df1b44c4c0>]"
      ]
     },
     "execution_count": 8,
     "metadata": {},
     "output_type": "execute_result"
    },
    {
     "data": {
      "image/png": "[encoded data removed]",
      "text/plain": [
       "<Figure size 640x480 with 1 Axes>"
      ]
     },
     "metadata": {},
     "output_type": "display_data"
    }
   ],
   "source": [
    "plt.plot(reg.loss_curve_)"
   ]
  },
  {
   "cell_type": "markdown",
   "id": "c5b33059-8a96-40f1-bbcb-533d3e9f761f",
   "metadata": {},
   "source": [
    "## Model's Weight & Bias"
   ]
  },
  {
   "cell_type": "code",
   "execution_count": 9,
   "id": "b759dee4",
   "metadata": {},
   "outputs": [
    {
     "data": {
      "text/plain": [
       "[array([ 0.15444093,  0.38638043,  0.15905986, -0.26888162,  0.03026546,\n",
       "         0.27080396,  0.71456017,  0.09923605,  0.46772138, -0.50592148]),\n",
       " array([ 0.75993326, -0.27113124, -0.23086718,  0.26644587, -0.21406844]),\n",
       " array([1.17919634])]"
      ]
     },
     "execution_count": 9,
     "metadata": {},
     "output_type": "execute_result"
    }
   ],
   "source": [
    "reg.intercepts_"
   ]
  },
  {
   "cell_type": "code",
   "execution_count": 10,
   "id": "ec2cdbb5",
   "metadata": {},
   "outputs": [
    {
     "data": {
      "text/plain": [
       "[array([[ 0.55228806, -0.73341071, -0.22977105, -1.18056303, -0.07365611,\n",
       "          0.36377612,  1.06974329,  0.03969211,  0.26981604,  0.14757918],\n",
       "        [ 0.47800319,  0.700591  , -1.12623182, -0.27152179, -0.56179643,\n",
       "          0.18170297,  0.23145215,  0.83355956,  0.87456645,  0.2642531 ]]),\n",
       " array([[-0.56224974,  0.3902033 ,  0.28618544, -0.7680094 ,  0.09778417],\n",
       "        [ 0.068088  ,  0.32807299, -0.69594295,  0.63166186,  0.5149421 ],\n",
       "        [ 0.63716037, -0.07711225,  0.82771818, -0.36022085, -0.37138551],\n",
       "        [-0.67912908, -0.21083755, -0.23016097,  0.7227064 , -0.49664405],\n",
       "        [ 0.18203844, -0.44469793,  0.54617406,  0.53133512,  0.13821719],\n",
       "        [-0.44587244, -0.00638523, -0.31450144,  0.33641028,  0.58302747],\n",
       "        [-0.31869026, -0.44772389, -0.37804638, -0.62741244, -0.4714365 ],\n",
       "        [ 0.43491053,  0.60000924,  0.06570731,  0.461401  ,  0.38613175],\n",
       "        [ 0.71236918,  0.15199659, -0.31115886,  0.07291307,  0.22234886],\n",
       "        [-0.3012308 , -0.27122542,  0.36818674, -0.0356857 ,  0.56567134]]),\n",
       " array([[-1.14814114],\n",
       "        [-0.94625294],\n",
       "        [-1.02725421],\n",
       "        [ 0.84603641],\n",
       "        [-0.85002788]])]"
      ]
     },
     "execution_count": 10,
     "metadata": {},
     "output_type": "execute_result"
    }
   ],
   "source": [
    "reg.coefs_"
   ]
  },
  {
   "cell_type": "markdown",
   "id": "fbb76602",
   "metadata": {},
   "source": [
    "# ========== Prediction =========="
   ]
  },
  {
   "cell_type": "code",
   "execution_count": 11,
   "id": "c08f25ac",
   "metadata": {},
   "outputs": [],
   "source": [
    "X_test_scaled = pd.read_csv(\"incoming_data.csv\")"
   ]
  },
  {
   "cell_type": "code",
   "execution_count": 12,
   "id": "f8991b3c-cc67-4913-95c1-cf36d86f2be4",
   "metadata": {},
   "outputs": [
    {
     "data": {
      "text/html": [
       "<div>\n",
       "<style scoped>\n",
       "    .dataframe tbody tr th:only-of-type {\n",
       "        vertical-align: middle;\n",
       "    }\n",
       "\n",
       "    .dataframe tbody tr th {\n",
       "        vertical-align: top;\n",
       "    }\n",
       "\n",
       "    .dataframe thead th {\n",
       "        text-align: right;\n",
       "    }\n",
       "</style>\n",
       "<table border=\"1\" class=\"dataframe\">\n",
       "  <thead>\n",
       "    <tr style=\"text-align: right;\">\n",
       "      <th></th>\n",
       "      <th>x1</th>\n",
       "      <th>x2</th>\n",
       "    </tr>\n",
       "  </thead>\n",
       "  <tbody>\n",
       "    <tr>\n",
       "      <th>0</th>\n",
       "      <td>1</td>\n",
       "      <td>1</td>\n",
       "    </tr>\n",
       "    <tr>\n",
       "      <th>1</th>\n",
       "      <td>1</td>\n",
       "      <td>0</td>\n",
       "    </tr>\n",
       "    <tr>\n",
       "      <th>2</th>\n",
       "      <td>-1</td>\n",
       "      <td>1</td>\n",
       "    </tr>\n",
       "    <tr>\n",
       "      <th>3</th>\n",
       "      <td>-1</td>\n",
       "      <td>0</td>\n",
       "    </tr>\n",
       "  </tbody>\n",
       "</table>\n",
       "</div>"
      ],
      "text/plain": [
       "   x1  x2\n",
       "0   1   1\n",
       "1   1   0\n",
       "2  -1   1\n",
       "3  -1   0"
      ]
     },
     "execution_count": 12,
     "metadata": {},
     "output_type": "execute_result"
    }
   ],
   "source": [
    "X_test_scaled"
   ]
  },
  {
   "cell_type": "code",
   "execution_count": 13,
   "id": "e920d06f",
   "metadata": {},
   "outputs": [
    {
     "data": {
      "text/plain": [
       "array([-0.11248799,  1.06804087, -0.34709656,  1.77719996])"
      ]
     },
     "execution_count": 13,
     "metadata": {},
     "output_type": "execute_result"
    }
   ],
   "source": [
    "reg.predict(X_test_scaled)"
   ]
  }
 ],
 "metadata": {
  "kernelspec": {
   "display_name": "Python 3 (ipykernel)",
   "language": "python",
   "name": "python3"
  },
  "language_info": {
   "codemirror_mode": {
    "name": "ipython",
    "version": 3
   },
   "file_extension": ".py",
   "mimetype": "text/x-python",
   "name": "python",
   "nbconvert_exporter": "python",
   "pygments_lexer": "ipython3",
   "version": "3.8.13"
  }
 },
 "nbformat": 4,
 "nbformat_minor": 5
}
