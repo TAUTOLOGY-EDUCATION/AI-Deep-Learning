{
 "cells": [
  {
   "cell_type": "markdown",
   "id": "75aef6b6",
   "metadata": {},
   "source": [
    "# 1. Import Libraries"
   ]
  },
  {
   "cell_type": "code",
   "execution_count": 1,
   "id": "bdd14c79",
   "metadata": {},
   "outputs": [
    {
     "name": "stderr",
     "output_type": "stream",
     "text": [
      "C:\\ProgramData\\Anaconda3\\lib\\site-packages\\scipy\\__init__.py:138: UserWarning: A NumPy version >=1.16.5 and <1.23.0 is required for this version of SciPy (detected version 1.23.1)\n",
      "  warnings.warn(f\"A NumPy version >={np_minversion} and <{np_maxversion} is required for this version of \"\n"
     ]
    }
   ],
   "source": [
    "import warnings\n",
    "\n",
    "import matplotlib.pyplot as plt\n",
    "import numpy as np\n",
    "import pandas as pd\n",
    "from sklearn.metrics import classification_report, plot_confusion_matrix\n",
    "from sklearn.model_selection import train_test_split\n",
    "from sklearn.neural_network import MLPClassifier\n",
    "from sklearn.preprocessing import (\n",
    "    MinMaxScaler,\n",
    "    OneHotEncoder,\n",
    "    OrdinalEncoder,\n",
    "    StandardScaler,\n",
    ")\n",
    "\n",
    "warnings.filterwarnings(\"ignore\")\n",
    "\n",
    "np.random.seed(123)"
   ]
  },
  {
   "cell_type": "markdown",
   "id": "369ea276",
   "metadata": {},
   "source": [
    "# 2. Read Data"
   ]
  },
  {
   "cell_type": "code",
   "execution_count": 2,
   "id": "1fc6a453",
   "metadata": {},
   "outputs": [
    {
     "data": {
      "text/html": [
       "<div>\n",
       "<style scoped>\n",
       "    .dataframe tbody tr th:only-of-type {\n",
       "        vertical-align: middle;\n",
       "    }\n",
       "\n",
       "    .dataframe tbody tr th {\n",
       "        vertical-align: top;\n",
       "    }\n",
       "\n",
       "    .dataframe thead th {\n",
       "        text-align: right;\n",
       "    }\n",
       "</style>\n",
       "<table border=\"1\" class=\"dataframe\">\n",
       "  <thead>\n",
       "    <tr style=\"text-align: right;\">\n",
       "      <th></th>\n",
       "      <th>pixel_0</th>\n",
       "      <th>pixel_1</th>\n",
       "      <th>pixel_2</th>\n",
       "      <th>pixel_3</th>\n",
       "      <th>pixel_4</th>\n",
       "      <th>pixel_5</th>\n",
       "      <th>pixel_6</th>\n",
       "      <th>pixel_7</th>\n",
       "      <th>pixel_8</th>\n",
       "      <th>pixel_9</th>\n",
       "      <th>...</th>\n",
       "      <th>pixel_12279</th>\n",
       "      <th>pixel_12280</th>\n",
       "      <th>pixel_12281</th>\n",
       "      <th>pixel_12282</th>\n",
       "      <th>pixel_12283</th>\n",
       "      <th>pixel_12284</th>\n",
       "      <th>pixel_12285</th>\n",
       "      <th>pixel_12286</th>\n",
       "      <th>pixel_12287</th>\n",
       "      <th>label</th>\n",
       "    </tr>\n",
       "  </thead>\n",
       "  <tbody>\n",
       "    <tr>\n",
       "      <th>0</th>\n",
       "      <td>114.0</td>\n",
       "      <td>179.0</td>\n",
       "      <td>99.0</td>\n",
       "      <td>116.0</td>\n",
       "      <td>180.0</td>\n",
       "      <td>90.0</td>\n",
       "      <td>112.0</td>\n",
       "      <td>183.0</td>\n",
       "      <td>80.0</td>\n",
       "      <td>127.0</td>\n",
       "      <td>...</td>\n",
       "      <td>94.0</td>\n",
       "      <td>150.0</td>\n",
       "      <td>58.0</td>\n",
       "      <td>155.0</td>\n",
       "      <td>194.0</td>\n",
       "      <td>112.0</td>\n",
       "      <td>175.0</td>\n",
       "      <td>217.0</td>\n",
       "      <td>119.0</td>\n",
       "      <td>healthy</td>\n",
       "    </tr>\n",
       "    <tr>\n",
       "      <th>1</th>\n",
       "      <td>68.0</td>\n",
       "      <td>88.0</td>\n",
       "      <td>46.0</td>\n",
       "      <td>134.0</td>\n",
       "      <td>159.0</td>\n",
       "      <td>111.0</td>\n",
       "      <td>166.0</td>\n",
       "      <td>195.0</td>\n",
       "      <td>144.0</td>\n",
       "      <td>121.0</td>\n",
       "      <td>...</td>\n",
       "      <td>119.0</td>\n",
       "      <td>152.0</td>\n",
       "      <td>86.0</td>\n",
       "      <td>126.0</td>\n",
       "      <td>158.0</td>\n",
       "      <td>101.0</td>\n",
       "      <td>129.0</td>\n",
       "      <td>163.0</td>\n",
       "      <td>132.0</td>\n",
       "      <td>healthy</td>\n",
       "    </tr>\n",
       "    <tr>\n",
       "      <th>2</th>\n",
       "      <td>39.0</td>\n",
       "      <td>82.0</td>\n",
       "      <td>23.0</td>\n",
       "      <td>80.0</td>\n",
       "      <td>119.0</td>\n",
       "      <td>36.0</td>\n",
       "      <td>119.0</td>\n",
       "      <td>145.0</td>\n",
       "      <td>77.0</td>\n",
       "      <td>98.0</td>\n",
       "      <td>...</td>\n",
       "      <td>29.0</td>\n",
       "      <td>54.0</td>\n",
       "      <td>17.0</td>\n",
       "      <td>111.0</td>\n",
       "      <td>129.0</td>\n",
       "      <td>81.0</td>\n",
       "      <td>116.0</td>\n",
       "      <td>130.0</td>\n",
       "      <td>77.0</td>\n",
       "      <td>healthy</td>\n",
       "    </tr>\n",
       "    <tr>\n",
       "      <th>3</th>\n",
       "      <td>91.0</td>\n",
       "      <td>122.0</td>\n",
       "      <td>42.0</td>\n",
       "      <td>41.0</td>\n",
       "      <td>59.0</td>\n",
       "      <td>20.0</td>\n",
       "      <td>33.0</td>\n",
       "      <td>45.0</td>\n",
       "      <td>16.0</td>\n",
       "      <td>50.0</td>\n",
       "      <td>...</td>\n",
       "      <td>136.0</td>\n",
       "      <td>181.0</td>\n",
       "      <td>113.0</td>\n",
       "      <td>115.0</td>\n",
       "      <td>165.0</td>\n",
       "      <td>94.0</td>\n",
       "      <td>90.0</td>\n",
       "      <td>146.0</td>\n",
       "      <td>69.0</td>\n",
       "      <td>healthy</td>\n",
       "    </tr>\n",
       "    <tr>\n",
       "      <th>4</th>\n",
       "      <td>39.0</td>\n",
       "      <td>83.0</td>\n",
       "      <td>46.0</td>\n",
       "      <td>39.0</td>\n",
       "      <td>84.0</td>\n",
       "      <td>47.0</td>\n",
       "      <td>37.0</td>\n",
       "      <td>79.0</td>\n",
       "      <td>43.0</td>\n",
       "      <td>38.0</td>\n",
       "      <td>...</td>\n",
       "      <td>88.0</td>\n",
       "      <td>143.0</td>\n",
       "      <td>97.0</td>\n",
       "      <td>83.0</td>\n",
       "      <td>134.0</td>\n",
       "      <td>85.0</td>\n",
       "      <td>105.0</td>\n",
       "      <td>148.0</td>\n",
       "      <td>106.0</td>\n",
       "      <td>healthy</td>\n",
       "    </tr>\n",
       "    <tr>\n",
       "      <th>...</th>\n",
       "      <td>...</td>\n",
       "      <td>...</td>\n",
       "      <td>...</td>\n",
       "      <td>...</td>\n",
       "      <td>...</td>\n",
       "      <td>...</td>\n",
       "      <td>...</td>\n",
       "      <td>...</td>\n",
       "      <td>...</td>\n",
       "      <td>...</td>\n",
       "      <td>...</td>\n",
       "      <td>...</td>\n",
       "      <td>...</td>\n",
       "      <td>...</td>\n",
       "      <td>...</td>\n",
       "      <td>...</td>\n",
       "      <td>...</td>\n",
       "      <td>...</td>\n",
       "      <td>...</td>\n",
       "      <td>...</td>\n",
       "      <td>...</td>\n",
       "    </tr>\n",
       "    <tr>\n",
       "      <th>916</th>\n",
       "      <td>163.0</td>\n",
       "      <td>110.0</td>\n",
       "      <td>117.0</td>\n",
       "      <td>141.0</td>\n",
       "      <td>133.0</td>\n",
       "      <td>119.0</td>\n",
       "      <td>118.0</td>\n",
       "      <td>139.0</td>\n",
       "      <td>121.0</td>\n",
       "      <td>135.0</td>\n",
       "      <td>...</td>\n",
       "      <td>163.0</td>\n",
       "      <td>177.0</td>\n",
       "      <td>200.0</td>\n",
       "      <td>172.0</td>\n",
       "      <td>175.0</td>\n",
       "      <td>187.0</td>\n",
       "      <td>171.0</td>\n",
       "      <td>171.0</td>\n",
       "      <td>181.0</td>\n",
       "      <td>rust</td>\n",
       "    </tr>\n",
       "    <tr>\n",
       "      <th>917</th>\n",
       "      <td>236.0</td>\n",
       "      <td>252.0</td>\n",
       "      <td>212.0</td>\n",
       "      <td>221.0</td>\n",
       "      <td>244.0</td>\n",
       "      <td>195.0</td>\n",
       "      <td>232.0</td>\n",
       "      <td>249.0</td>\n",
       "      <td>206.0</td>\n",
       "      <td>243.0</td>\n",
       "      <td>...</td>\n",
       "      <td>119.0</td>\n",
       "      <td>147.0</td>\n",
       "      <td>106.0</td>\n",
       "      <td>112.0</td>\n",
       "      <td>144.0</td>\n",
       "      <td>103.0</td>\n",
       "      <td>121.0</td>\n",
       "      <td>152.0</td>\n",
       "      <td>112.0</td>\n",
       "      <td>rust</td>\n",
       "    </tr>\n",
       "    <tr>\n",
       "      <th>918</th>\n",
       "      <td>41.0</td>\n",
       "      <td>78.0</td>\n",
       "      <td>27.0</td>\n",
       "      <td>54.0</td>\n",
       "      <td>98.0</td>\n",
       "      <td>35.0</td>\n",
       "      <td>49.0</td>\n",
       "      <td>91.0</td>\n",
       "      <td>35.0</td>\n",
       "      <td>46.0</td>\n",
       "      <td>...</td>\n",
       "      <td>138.0</td>\n",
       "      <td>168.0</td>\n",
       "      <td>124.0</td>\n",
       "      <td>146.0</td>\n",
       "      <td>158.0</td>\n",
       "      <td>129.0</td>\n",
       "      <td>137.0</td>\n",
       "      <td>161.0</td>\n",
       "      <td>114.0</td>\n",
       "      <td>rust</td>\n",
       "    </tr>\n",
       "    <tr>\n",
       "      <th>919</th>\n",
       "      <td>175.0</td>\n",
       "      <td>150.0</td>\n",
       "      <td>126.0</td>\n",
       "      <td>186.0</td>\n",
       "      <td>162.0</td>\n",
       "      <td>137.0</td>\n",
       "      <td>187.0</td>\n",
       "      <td>163.0</td>\n",
       "      <td>138.0</td>\n",
       "      <td>177.0</td>\n",
       "      <td>...</td>\n",
       "      <td>186.0</td>\n",
       "      <td>223.0</td>\n",
       "      <td>138.0</td>\n",
       "      <td>186.0</td>\n",
       "      <td>222.0</td>\n",
       "      <td>145.0</td>\n",
       "      <td>177.0</td>\n",
       "      <td>218.0</td>\n",
       "      <td>131.0</td>\n",
       "      <td>rust</td>\n",
       "    </tr>\n",
       "    <tr>\n",
       "      <th>920</th>\n",
       "      <td>114.0</td>\n",
       "      <td>140.0</td>\n",
       "      <td>88.0</td>\n",
       "      <td>163.0</td>\n",
       "      <td>191.0</td>\n",
       "      <td>116.0</td>\n",
       "      <td>199.0</td>\n",
       "      <td>235.0</td>\n",
       "      <td>138.0</td>\n",
       "      <td>182.0</td>\n",
       "      <td>...</td>\n",
       "      <td>108.0</td>\n",
       "      <td>126.0</td>\n",
       "      <td>53.0</td>\n",
       "      <td>76.0</td>\n",
       "      <td>102.0</td>\n",
       "      <td>60.0</td>\n",
       "      <td>60.0</td>\n",
       "      <td>86.0</td>\n",
       "      <td>61.0</td>\n",
       "      <td>rust</td>\n",
       "    </tr>\n",
       "  </tbody>\n",
       "</table>\n",
       "<p>921 rows × 12289 columns</p>\n",
       "</div>"
      ],
      "text/plain": [
       "     pixel_0  pixel_1  pixel_2  pixel_3  pixel_4  pixel_5  pixel_6  pixel_7  \\\n",
       "0      114.0    179.0     99.0    116.0    180.0     90.0    112.0    183.0   \n",
       "1       68.0     88.0     46.0    134.0    159.0    111.0    166.0    195.0   \n",
       "2       39.0     82.0     23.0     80.0    119.0     36.0    119.0    145.0   \n",
       "3       91.0    122.0     42.0     41.0     59.0     20.0     33.0     45.0   \n",
       "4       39.0     83.0     46.0     39.0     84.0     47.0     37.0     79.0   \n",
       "..       ...      ...      ...      ...      ...      ...      ...      ...   \n",
       "916    163.0    110.0    117.0    141.0    133.0    119.0    118.0    139.0   \n",
       "917    236.0    252.0    212.0    221.0    244.0    195.0    232.0    249.0   \n",
       "918     41.0     78.0     27.0     54.0     98.0     35.0     49.0     91.0   \n",
       "919    175.0    150.0    126.0    186.0    162.0    137.0    187.0    163.0   \n",
       "920    114.0    140.0     88.0    163.0    191.0    116.0    199.0    235.0   \n",
       "\n",
       "     pixel_8  pixel_9  ...  pixel_12279  pixel_12280  pixel_12281  \\\n",
       "0       80.0    127.0  ...         94.0        150.0         58.0   \n",
       "1      144.0    121.0  ...        119.0        152.0         86.0   \n",
       "2       77.0     98.0  ...         29.0         54.0         17.0   \n",
       "3       16.0     50.0  ...        136.0        181.0        113.0   \n",
       "4       43.0     38.0  ...         88.0        143.0         97.0   \n",
       "..       ...      ...  ...          ...          ...          ...   \n",
       "916    121.0    135.0  ...        163.0        177.0        200.0   \n",
       "917    206.0    243.0  ...        119.0        147.0        106.0   \n",
       "918     35.0     46.0  ...        138.0        168.0        124.0   \n",
       "919    138.0    177.0  ...        186.0        223.0        138.0   \n",
       "920    138.0    182.0  ...        108.0        126.0         53.0   \n",
       "\n",
       "     pixel_12282  pixel_12283  pixel_12284  pixel_12285  pixel_12286  \\\n",
       "0          155.0        194.0        112.0        175.0        217.0   \n",
       "1          126.0        158.0        101.0        129.0        163.0   \n",
       "2          111.0        129.0         81.0        116.0        130.0   \n",
       "3          115.0        165.0         94.0         90.0        146.0   \n",
       "4           83.0        134.0         85.0        105.0        148.0   \n",
       "..           ...          ...          ...          ...          ...   \n",
       "916        172.0        175.0        187.0        171.0        171.0   \n",
       "917        112.0        144.0        103.0        121.0        152.0   \n",
       "918        146.0        158.0        129.0        137.0        161.0   \n",
       "919        186.0        222.0        145.0        177.0        218.0   \n",
       "920         76.0        102.0         60.0         60.0         86.0   \n",
       "\n",
       "     pixel_12287    label  \n",
       "0          119.0  healthy  \n",
       "1          132.0  healthy  \n",
       "2           77.0  healthy  \n",
       "3           69.0  healthy  \n",
       "4          106.0  healthy  \n",
       "..           ...      ...  \n",
       "916        181.0     rust  \n",
       "917        112.0     rust  \n",
       "918        114.0     rust  \n",
       "919        131.0     rust  \n",
       "920         61.0     rust  \n",
       "\n",
       "[921 rows x 12289 columns]"
      ]
     },
     "execution_count": 2,
     "metadata": {},
     "output_type": "execute_result"
    }
   ],
   "source": [
    "data = pd.read_csv(\"plant_disease_dataset.csv\")\n",
    "\n",
    "data"
   ]
  },
  {
   "cell_type": "markdown",
   "id": "f0af3da4",
   "metadata": {},
   "source": [
    "# 3. Clean Data"
   ]
  },
  {
   "cell_type": "markdown",
   "id": "ed3aa503",
   "metadata": {},
   "source": [
    "## 3.1. Handle Missing Values"
   ]
  },
  {
   "cell_type": "markdown",
   "id": "d0bad093",
   "metadata": {},
   "source": [
    "### 3.1.1. Check Missing Values"
   ]
  },
  {
   "cell_type": "code",
   "execution_count": 3,
   "id": "7ebf4fc8",
   "metadata": {},
   "outputs": [
    {
     "name": "stdout",
     "output_type": "stream",
     "text": [
      "<class 'pandas.core.frame.DataFrame'>\n",
      "RangeIndex: 921 entries, 0 to 920\n",
      "Columns: 12289 entries, pixel_0 to label\n",
      "dtypes: float64(12288), object(1)\n",
      "memory usage: 86.4+ MB\n"
     ]
    }
   ],
   "source": [
    "data.info()"
   ]
  },
  {
   "cell_type": "markdown",
   "id": "145dd4ca",
   "metadata": {},
   "source": [
    "### 3.1.2. Remove Missing Values"
   ]
  },
  {
   "cell_type": "code",
   "execution_count": 4,
   "id": "43632aac",
   "metadata": {},
   "outputs": [],
   "source": [
    "# no NaN to remove\n",
    "# data.dropna(axis=0, inplace=True)"
   ]
  },
  {
   "cell_type": "markdown",
   "id": "97c6a871",
   "metadata": {},
   "source": [
    "## 3.2. Handle Outliers"
   ]
  },
  {
   "cell_type": "markdown",
   "id": "cea3a33a",
   "metadata": {},
   "source": [
    "### 3.2.1. Check Outliers"
   ]
  },
  {
   "cell_type": "code",
   "execution_count": 5,
   "id": "d9078a64",
   "metadata": {},
   "outputs": [
    {
     "data": {
      "text/html": [
       "<div>\n",
       "<style scoped>\n",
       "    .dataframe tbody tr th:only-of-type {\n",
       "        vertical-align: middle;\n",
       "    }\n",
       "\n",
       "    .dataframe tbody tr th {\n",
       "        vertical-align: top;\n",
       "    }\n",
       "\n",
       "    .dataframe thead th {\n",
       "        text-align: right;\n",
       "    }\n",
       "</style>\n",
       "<table border=\"1\" class=\"dataframe\">\n",
       "  <thead>\n",
       "    <tr style=\"text-align: right;\">\n",
       "      <th></th>\n",
       "      <th>pixel_0</th>\n",
       "      <th>pixel_1</th>\n",
       "      <th>pixel_2</th>\n",
       "      <th>pixel_3</th>\n",
       "      <th>pixel_4</th>\n",
       "      <th>pixel_5</th>\n",
       "      <th>pixel_6</th>\n",
       "      <th>pixel_7</th>\n",
       "      <th>pixel_8</th>\n",
       "      <th>pixel_9</th>\n",
       "      <th>...</th>\n",
       "      <th>pixel_12278</th>\n",
       "      <th>pixel_12279</th>\n",
       "      <th>pixel_12280</th>\n",
       "      <th>pixel_12281</th>\n",
       "      <th>pixel_12282</th>\n",
       "      <th>pixel_12283</th>\n",
       "      <th>pixel_12284</th>\n",
       "      <th>pixel_12285</th>\n",
       "      <th>pixel_12286</th>\n",
       "      <th>pixel_12287</th>\n",
       "    </tr>\n",
       "  </thead>\n",
       "  <tbody>\n",
       "    <tr>\n",
       "      <th>count</th>\n",
       "      <td>921.000000</td>\n",
       "      <td>921.000000</td>\n",
       "      <td>921.000000</td>\n",
       "      <td>921.000000</td>\n",
       "      <td>921.000000</td>\n",
       "      <td>921.000000</td>\n",
       "      <td>921.000000</td>\n",
       "      <td>921.000000</td>\n",
       "      <td>921.000000</td>\n",
       "      <td>921.000000</td>\n",
       "      <td>...</td>\n",
       "      <td>921.000000</td>\n",
       "      <td>921.000000</td>\n",
       "      <td>921.000000</td>\n",
       "      <td>921.000000</td>\n",
       "      <td>921.000000</td>\n",
       "      <td>921.000000</td>\n",
       "      <td>921.000000</td>\n",
       "      <td>921.000000</td>\n",
       "      <td>921.000000</td>\n",
       "      <td>921.000000</td>\n",
       "    </tr>\n",
       "    <tr>\n",
       "      <th>mean</th>\n",
       "      <td>119.376764</td>\n",
       "      <td>145.420195</td>\n",
       "      <td>101.475570</td>\n",
       "      <td>119.030402</td>\n",
       "      <td>145.839305</td>\n",
       "      <td>101.428882</td>\n",
       "      <td>118.775244</td>\n",
       "      <td>145.965255</td>\n",
       "      <td>100.831705</td>\n",
       "      <td>119.912052</td>\n",
       "      <td>...</td>\n",
       "      <td>94.056460</td>\n",
       "      <td>112.555917</td>\n",
       "      <td>137.952226</td>\n",
       "      <td>93.427796</td>\n",
       "      <td>111.946797</td>\n",
       "      <td>136.919653</td>\n",
       "      <td>92.795874</td>\n",
       "      <td>111.003257</td>\n",
       "      <td>135.596091</td>\n",
       "      <td>91.625407</td>\n",
       "    </tr>\n",
       "    <tr>\n",
       "      <th>std</th>\n",
       "      <td>53.608487</td>\n",
       "      <td>49.882039</td>\n",
       "      <td>54.545849</td>\n",
       "      <td>52.458505</td>\n",
       "      <td>49.167485</td>\n",
       "      <td>54.512898</td>\n",
       "      <td>52.346322</td>\n",
       "      <td>48.766312</td>\n",
       "      <td>55.474406</td>\n",
       "      <td>52.317798</td>\n",
       "      <td>...</td>\n",
       "      <td>47.221323</td>\n",
       "      <td>49.642739</td>\n",
       "      <td>45.366765</td>\n",
       "      <td>48.270743</td>\n",
       "      <td>50.850039</td>\n",
       "      <td>46.746728</td>\n",
       "      <td>48.703312</td>\n",
       "      <td>51.269397</td>\n",
       "      <td>47.561399</td>\n",
       "      <td>48.026915</td>\n",
       "    </tr>\n",
       "    <tr>\n",
       "      <th>min</th>\n",
       "      <td>16.000000</td>\n",
       "      <td>19.000000</td>\n",
       "      <td>2.000000</td>\n",
       "      <td>16.000000</td>\n",
       "      <td>21.000000</td>\n",
       "      <td>3.000000</td>\n",
       "      <td>15.000000</td>\n",
       "      <td>23.000000</td>\n",
       "      <td>4.000000</td>\n",
       "      <td>11.000000</td>\n",
       "      <td>...</td>\n",
       "      <td>7.000000</td>\n",
       "      <td>0.000000</td>\n",
       "      <td>3.000000</td>\n",
       "      <td>0.000000</td>\n",
       "      <td>3.000000</td>\n",
       "      <td>4.000000</td>\n",
       "      <td>2.000000</td>\n",
       "      <td>5.000000</td>\n",
       "      <td>7.000000</td>\n",
       "      <td>3.000000</td>\n",
       "    </tr>\n",
       "    <tr>\n",
       "      <th>25%</th>\n",
       "      <td>79.000000</td>\n",
       "      <td>113.000000</td>\n",
       "      <td>61.000000</td>\n",
       "      <td>82.000000</td>\n",
       "      <td>115.000000</td>\n",
       "      <td>61.000000</td>\n",
       "      <td>81.000000</td>\n",
       "      <td>114.000000</td>\n",
       "      <td>60.000000</td>\n",
       "      <td>81.000000</td>\n",
       "      <td>...</td>\n",
       "      <td>58.000000</td>\n",
       "      <td>74.000000</td>\n",
       "      <td>109.000000</td>\n",
       "      <td>57.000000</td>\n",
       "      <td>73.000000</td>\n",
       "      <td>107.000000</td>\n",
       "      <td>55.000000</td>\n",
       "      <td>72.000000</td>\n",
       "      <td>105.000000</td>\n",
       "      <td>54.000000</td>\n",
       "    </tr>\n",
       "    <tr>\n",
       "      <th>50%</th>\n",
       "      <td>112.000000</td>\n",
       "      <td>143.000000</td>\n",
       "      <td>95.000000</td>\n",
       "      <td>113.000000</td>\n",
       "      <td>145.000000</td>\n",
       "      <td>94.000000</td>\n",
       "      <td>113.000000</td>\n",
       "      <td>145.000000</td>\n",
       "      <td>93.000000</td>\n",
       "      <td>116.000000</td>\n",
       "      <td>...</td>\n",
       "      <td>90.000000</td>\n",
       "      <td>109.000000</td>\n",
       "      <td>136.000000</td>\n",
       "      <td>89.000000</td>\n",
       "      <td>109.000000</td>\n",
       "      <td>135.000000</td>\n",
       "      <td>88.000000</td>\n",
       "      <td>105.000000</td>\n",
       "      <td>132.000000</td>\n",
       "      <td>86.000000</td>\n",
       "    </tr>\n",
       "    <tr>\n",
       "      <th>75%</th>\n",
       "      <td>151.000000</td>\n",
       "      <td>177.000000</td>\n",
       "      <td>134.000000</td>\n",
       "      <td>150.000000</td>\n",
       "      <td>176.000000</td>\n",
       "      <td>132.000000</td>\n",
       "      <td>148.000000</td>\n",
       "      <td>176.000000</td>\n",
       "      <td>133.000000</td>\n",
       "      <td>151.000000</td>\n",
       "      <td>...</td>\n",
       "      <td>121.000000</td>\n",
       "      <td>140.000000</td>\n",
       "      <td>166.000000</td>\n",
       "      <td>121.000000</td>\n",
       "      <td>142.000000</td>\n",
       "      <td>166.000000</td>\n",
       "      <td>121.000000</td>\n",
       "      <td>143.000000</td>\n",
       "      <td>166.000000</td>\n",
       "      <td>121.000000</td>\n",
       "    </tr>\n",
       "    <tr>\n",
       "      <th>max</th>\n",
       "      <td>255.000000</td>\n",
       "      <td>255.000000</td>\n",
       "      <td>255.000000</td>\n",
       "      <td>255.000000</td>\n",
       "      <td>255.000000</td>\n",
       "      <td>255.000000</td>\n",
       "      <td>255.000000</td>\n",
       "      <td>255.000000</td>\n",
       "      <td>255.000000</td>\n",
       "      <td>255.000000</td>\n",
       "      <td>...</td>\n",
       "      <td>255.000000</td>\n",
       "      <td>255.000000</td>\n",
       "      <td>255.000000</td>\n",
       "      <td>255.000000</td>\n",
       "      <td>255.000000</td>\n",
       "      <td>255.000000</td>\n",
       "      <td>255.000000</td>\n",
       "      <td>255.000000</td>\n",
       "      <td>255.000000</td>\n",
       "      <td>255.000000</td>\n",
       "    </tr>\n",
       "  </tbody>\n",
       "</table>\n",
       "<p>8 rows × 12288 columns</p>\n",
       "</div>"
      ],
      "text/plain": [
       "          pixel_0     pixel_1     pixel_2     pixel_3     pixel_4     pixel_5  \\\n",
       "count  921.000000  921.000000  921.000000  921.000000  921.000000  921.000000   \n",
       "mean   119.376764  145.420195  101.475570  119.030402  145.839305  101.428882   \n",
       "std     53.608487   49.882039   54.545849   52.458505   49.167485   54.512898   \n",
       "min     16.000000   19.000000    2.000000   16.000000   21.000000    3.000000   \n",
       "25%     79.000000  113.000000   61.000000   82.000000  115.000000   61.000000   \n",
       "50%    112.000000  143.000000   95.000000  113.000000  145.000000   94.000000   \n",
       "75%    151.000000  177.000000  134.000000  150.000000  176.000000  132.000000   \n",
       "max    255.000000  255.000000  255.000000  255.000000  255.000000  255.000000   \n",
       "\n",
       "          pixel_6     pixel_7     pixel_8     pixel_9  ...  pixel_12278  \\\n",
       "count  921.000000  921.000000  921.000000  921.000000  ...   921.000000   \n",
       "mean   118.775244  145.965255  100.831705  119.912052  ...    94.056460   \n",
       "std     52.346322   48.766312   55.474406   52.317798  ...    47.221323   \n",
       "min     15.000000   23.000000    4.000000   11.000000  ...     7.000000   \n",
       "25%     81.000000  114.000000   60.000000   81.000000  ...    58.000000   \n",
       "50%    113.000000  145.000000   93.000000  116.000000  ...    90.000000   \n",
       "75%    148.000000  176.000000  133.000000  151.000000  ...   121.000000   \n",
       "max    255.000000  255.000000  255.000000  255.000000  ...   255.000000   \n",
       "\n",
       "       pixel_12279  pixel_12280  pixel_12281  pixel_12282  pixel_12283  \\\n",
       "count   921.000000   921.000000   921.000000   921.000000   921.000000   \n",
       "mean    112.555917   137.952226    93.427796   111.946797   136.919653   \n",
       "std      49.642739    45.366765    48.270743    50.850039    46.746728   \n",
       "min       0.000000     3.000000     0.000000     3.000000     4.000000   \n",
       "25%      74.000000   109.000000    57.000000    73.000000   107.000000   \n",
       "50%     109.000000   136.000000    89.000000   109.000000   135.000000   \n",
       "75%     140.000000   166.000000   121.000000   142.000000   166.000000   \n",
       "max     255.000000   255.000000   255.000000   255.000000   255.000000   \n",
       "\n",
       "       pixel_12284  pixel_12285  pixel_12286  pixel_12287  \n",
       "count   921.000000   921.000000   921.000000   921.000000  \n",
       "mean     92.795874   111.003257   135.596091    91.625407  \n",
       "std      48.703312    51.269397    47.561399    48.026915  \n",
       "min       2.000000     5.000000     7.000000     3.000000  \n",
       "25%      55.000000    72.000000   105.000000    54.000000  \n",
       "50%      88.000000   105.000000   132.000000    86.000000  \n",
       "75%     121.000000   143.000000   166.000000   121.000000  \n",
       "max     255.000000   255.000000   255.000000   255.000000  \n",
       "\n",
       "[8 rows x 12288 columns]"
      ]
     },
     "execution_count": 5,
     "metadata": {},
     "output_type": "execute_result"
    }
   ],
   "source": [
    "data.describe()"
   ]
  },
  {
   "cell_type": "markdown",
   "id": "4d1dd758",
   "metadata": {},
   "source": [
    "### 3.2.2. Remove Outliers"
   ]
  },
  {
   "cell_type": "code",
   "execution_count": 6,
   "id": "a8aab29e",
   "metadata": {},
   "outputs": [],
   "source": [
    "# no outlier to remove"
   ]
  },
  {
   "cell_type": "markdown",
   "id": "adfb56c2",
   "metadata": {},
   "source": [
    "# 4. Split Dataset into Training & Test Sets"
   ]
  },
  {
   "cell_type": "code",
   "execution_count": 7,
   "id": "11de06ac",
   "metadata": {},
   "outputs": [],
   "source": [
    "target_name = \"label\"\n",
    "feature_name = list(data.columns.drop(target_name))"
   ]
  },
  {
   "cell_type": "code",
   "execution_count": 8,
   "id": "d67c58c6",
   "metadata": {},
   "outputs": [],
   "source": [
    "X = data[feature_name].astype(int)\n",
    "y = data[target_name]"
   ]
  },
  {
   "cell_type": "code",
   "execution_count": 9,
   "id": "6417cb29",
   "metadata": {},
   "outputs": [],
   "source": [
    "X_train, X_test, y_train, y_test = train_test_split(X, y, test_size=0.20, shuffle=True)"
   ]
  },
  {
   "cell_type": "code",
   "execution_count": 10,
   "id": "52a4eb26",
   "metadata": {},
   "outputs": [
    {
     "data": {
      "text/plain": [
       "<AxesSubplot:>"
      ]
     },
     "execution_count": 10,
     "metadata": {},
     "output_type": "execute_result"
    },
    {
     "data": {
      "image/png": "[encoded data removed]",
      "text/plain": [
       "<Figure size 640x480 with 1 Axes>"
      ]
     },
     "metadata": {},
     "output_type": "display_data"
    }
   ],
   "source": [
    "y_train.hist()"
   ]
  },
  {
   "cell_type": "code",
   "execution_count": 11,
   "id": "fe10646e",
   "metadata": {},
   "outputs": [
    {
     "data": {
      "text/plain": [
       "<AxesSubplot:>"
      ]
     },
     "execution_count": 11,
     "metadata": {},
     "output_type": "execute_result"
    },
    {
     "data": {
      "image/png": "[encoded data removed]",
      "text/plain": [
       "<Figure size 640x480 with 1 Axes>"
      ]
     },
     "metadata": {},
     "output_type": "display_data"
    }
   ],
   "source": [
    "y_test.hist()"
   ]
  },
  {
   "cell_type": "markdown",
   "id": "220efa9d",
   "metadata": {},
   "source": [
    "# 5. Data Preparation"
   ]
  },
  {
   "cell_type": "markdown",
   "id": "22dde087",
   "metadata": {},
   "source": [
    "## ### 5.1. Ordinal Encoding"
   ]
  },
  {
   "cell_type": "markdown",
   "id": "bc5a91f5",
   "metadata": {},
   "source": [
    "## ### 5.2. One Hot Encoding"
   ]
  },
  {
   "cell_type": "markdown",
   "id": "2c0fd7b8",
   "metadata": {},
   "source": [
    "## 5.3. Feature Scaling"
   ]
  },
  {
   "cell_type": "markdown",
   "id": "951ffd96",
   "metadata": {},
   "source": [
    "### 5.3.1. Training Set"
   ]
  },
  {
   "cell_type": "code",
   "execution_count": 12,
   "id": "b001a3b8",
   "metadata": {},
   "outputs": [],
   "source": [
    "scaler = MinMaxScaler()\n",
    "X_train_scaled = scaler.fit_transform(X_train)"
   ]
  },
  {
   "cell_type": "markdown",
   "id": "a4f34a35",
   "metadata": {},
   "source": [
    "### 5.3.2. Test Set"
   ]
  },
  {
   "cell_type": "code",
   "execution_count": 13,
   "id": "031f9aea",
   "metadata": {},
   "outputs": [],
   "source": [
    "X_test_scaled = scaler.transform(X_test)"
   ]
  },
  {
   "cell_type": "markdown",
   "id": "52771a1f",
   "metadata": {},
   "source": [
    "# 6. Model Creation"
   ]
  },
  {
   "cell_type": "markdown",
   "id": "31f9bbbf",
   "metadata": {},
   "source": [
    "## 6.1. Setting Parameters"
   ]
  },
  {
   "cell_type": "code",
   "execution_count": 14,
   "id": "1dde71d6",
   "metadata": {},
   "outputs": [],
   "source": [
    "clf = MLPClassifier(\n",
    "    hidden_layer_sizes=(60),\n",
    "    activation=\"relu\",\n",
    "    learning_rate_init=0.0001,\n",
    "    max_iter=1800,\n",
    "    batch_size=X_train_scaled.shape[0],\n",
    ")"
   ]
  },
  {
   "cell_type": "markdown",
   "id": "d9e31ce3",
   "metadata": {},
   "source": [
    "## 6.2. Train Model"
   ]
  },
  {
   "cell_type": "code",
   "execution_count": 15,
   "id": "ef1c518f",
   "metadata": {},
   "outputs": [
    {
     "data": {
      "text/plain": [
       "MLPClassifier(batch_size=736, hidden_layer_sizes=60, learning_rate_init=0.0001,\n",
       "              max_iter=1800)"
      ]
     },
     "execution_count": 15,
     "metadata": {},
     "output_type": "execute_result"
    }
   ],
   "source": [
    "clf.fit(X_train_scaled, y_train)"
   ]
  },
  {
   "cell_type": "markdown",
   "id": "ff6472bb",
   "metadata": {},
   "source": [
    "## 6.3. Loss Curve"
   ]
  },
  {
   "cell_type": "code",
   "execution_count": 16,
   "id": "515aba40",
   "metadata": {
    "tags": []
   },
   "outputs": [
    {
     "data": {
      "text/plain": [
       "<matplotlib.legend.Legend at 0x1ee952d0610>"
      ]
     },
     "execution_count": 16,
     "metadata": {},
     "output_type": "execute_result"
    },
    {
     "data": {
      "image/png": "[encoded data removed]",
      "text/plain": [
       "<Figure size 640x480 with 1 Axes>"
      ]
     },
     "metadata": {},
     "output_type": "display_data"
    }
   ],
   "source": [
    "plt.plot(clf.loss_curve_, label=\"training_loss\")\n",
    "plt.xlabel(\"epoch\")\n",
    "plt.ylabel(\"loss\")\n",
    "plt.legend()"
   ]
  },
  {
   "cell_type": "markdown",
   "id": "2fca0e6c",
   "metadata": {},
   "source": [
    "## 6.4. Model's Weight & Bias"
   ]
  },
  {
   "cell_type": "code",
   "execution_count": 17,
   "id": "deea40bc",
   "metadata": {},
   "outputs": [
    {
     "name": "stdout",
     "output_type": "stream",
     "text": [
      "(12288, 60)\n",
      "(60, 3)\n"
     ]
    }
   ],
   "source": [
    "for coef_ in clf.coefs_:\n",
    "    print(coef_.shape)"
   ]
  },
  {
   "cell_type": "code",
   "execution_count": 18,
   "id": "792faaf8",
   "metadata": {
    "tags": []
   },
   "outputs": [
    {
     "name": "stdout",
     "output_type": "stream",
     "text": [
      "(60,)\n",
      "(3,)\n"
     ]
    }
   ],
   "source": [
    "for intercept_ in clf.intercepts_:\n",
    "    print(intercept_.shape)"
   ]
  },
  {
   "cell_type": "markdown",
   "id": "47990680",
   "metadata": {},
   "source": [
    "# 7. Prediction"
   ]
  },
  {
   "cell_type": "markdown",
   "id": "5b654431",
   "metadata": {},
   "source": [
    "## 7.1. Training Set"
   ]
  },
  {
   "cell_type": "code",
   "execution_count": 19,
   "id": "0e408f26",
   "metadata": {},
   "outputs": [],
   "source": [
    "y_pred_train = clf.predict(X_train_scaled)"
   ]
  },
  {
   "cell_type": "markdown",
   "id": "91edf905",
   "metadata": {},
   "source": [
    "## 7.2. Test Set"
   ]
  },
  {
   "cell_type": "code",
   "execution_count": 20,
   "id": "67394d79",
   "metadata": {},
   "outputs": [],
   "source": [
    "y_pred_test = clf.predict(X_test_scaled)"
   ]
  },
  {
   "cell_type": "markdown",
   "id": "9339a8a1",
   "metadata": {},
   "source": [
    "# 8. Model Evaluation"
   ]
  },
  {
   "cell_type": "markdown",
   "id": "61367cb6",
   "metadata": {},
   "source": [
    "## 8.1. Training Set"
   ]
  },
  {
   "cell_type": "markdown",
   "id": "0140b59d",
   "metadata": {},
   "source": [
    "### 8.1.1. Confusion Matrix"
   ]
  },
  {
   "cell_type": "code",
   "execution_count": 21,
   "id": "06cb9462",
   "metadata": {},
   "outputs": [
    {
     "data": {
      "text/plain": [
       "<sklearn.metrics._plot.confusion_matrix.ConfusionMatrixDisplay at 0x1ee80a580d0>"
      ]
     },
     "execution_count": 21,
     "metadata": {},
     "output_type": "execute_result"
    },
    {
     "data": {
      "image/png": "[encoded data removed]",
      "text/plain": [
       "<Figure size 640x480 with 2 Axes>"
      ]
     },
     "metadata": {},
     "output_type": "display_data"
    }
   ],
   "source": [
    "plot_confusion_matrix(clf, X_train_scaled, y_train)"
   ]
  },
  {
   "cell_type": "markdown",
   "id": "60aca5bb",
   "metadata": {},
   "source": [
    "### 8.1.2. Scoring"
   ]
  },
  {
   "cell_type": "code",
   "execution_count": 22,
   "id": "32aaa2a7",
   "metadata": {},
   "outputs": [],
   "source": [
    "report = classification_report(y_train, y_pred_train, output_dict=True)"
   ]
  },
  {
   "cell_type": "code",
   "execution_count": 23,
   "id": "efac7512",
   "metadata": {},
   "outputs": [
    {
     "data": {
      "text/html": [
       "<div>\n",
       "<style scoped>\n",
       "    .dataframe tbody tr th:only-of-type {\n",
       "        vertical-align: middle;\n",
       "    }\n",
       "\n",
       "    .dataframe tbody tr th {\n",
       "        vertical-align: top;\n",
       "    }\n",
       "\n",
       "    .dataframe thead th {\n",
       "        text-align: right;\n",
       "    }\n",
       "</style>\n",
       "<table border=\"1\" class=\"dataframe\">\n",
       "  <thead>\n",
       "    <tr style=\"text-align: right;\">\n",
       "      <th></th>\n",
       "      <th>precision</th>\n",
       "      <th>recall</th>\n",
       "      <th>f1-score</th>\n",
       "      <th>support</th>\n",
       "    </tr>\n",
       "  </thead>\n",
       "  <tbody>\n",
       "    <tr>\n",
       "      <th>healthy</th>\n",
       "      <td>1.0</td>\n",
       "      <td>1.0</td>\n",
       "      <td>1.0</td>\n",
       "      <td>199.0</td>\n",
       "    </tr>\n",
       "    <tr>\n",
       "      <th>powdery</th>\n",
       "      <td>1.0</td>\n",
       "      <td>1.0</td>\n",
       "      <td>1.0</td>\n",
       "      <td>198.0</td>\n",
       "    </tr>\n",
       "    <tr>\n",
       "      <th>rust</th>\n",
       "      <td>1.0</td>\n",
       "      <td>1.0</td>\n",
       "      <td>1.0</td>\n",
       "      <td>339.0</td>\n",
       "    </tr>\n",
       "    <tr>\n",
       "      <th>accuracy</th>\n",
       "      <td>1.0</td>\n",
       "      <td>1.0</td>\n",
       "      <td>1.0</td>\n",
       "      <td>1.0</td>\n",
       "    </tr>\n",
       "    <tr>\n",
       "      <th>macro avg</th>\n",
       "      <td>1.0</td>\n",
       "      <td>1.0</td>\n",
       "      <td>1.0</td>\n",
       "      <td>736.0</td>\n",
       "    </tr>\n",
       "    <tr>\n",
       "      <th>weighted avg</th>\n",
       "      <td>1.0</td>\n",
       "      <td>1.0</td>\n",
       "      <td>1.0</td>\n",
       "      <td>736.0</td>\n",
       "    </tr>\n",
       "  </tbody>\n",
       "</table>\n",
       "</div>"
      ],
      "text/plain": [
       "              precision  recall  f1-score  support\n",
       "healthy             1.0     1.0       1.0    199.0\n",
       "powdery             1.0     1.0       1.0    198.0\n",
       "rust                1.0     1.0       1.0    339.0\n",
       "accuracy            1.0     1.0       1.0      1.0\n",
       "macro avg           1.0     1.0       1.0    736.0\n",
       "weighted avg        1.0     1.0       1.0    736.0"
      ]
     },
     "execution_count": 23,
     "metadata": {},
     "output_type": "execute_result"
    }
   ],
   "source": [
    "pd.DataFrame.from_dict(report).T"
   ]
  },
  {
   "cell_type": "markdown",
   "id": "2d517595",
   "metadata": {},
   "source": [
    "## 8.2. Test Set"
   ]
  },
  {
   "cell_type": "markdown",
   "id": "34e82135",
   "metadata": {},
   "source": [
    "### 8.2.1. Confusion Matrix"
   ]
  },
  {
   "cell_type": "code",
   "execution_count": 24,
   "id": "bc355367",
   "metadata": {},
   "outputs": [
    {
     "data": {
      "text/plain": [
       "<sklearn.metrics._plot.confusion_matrix.ConfusionMatrixDisplay at 0x1ee80a752e0>"
      ]
     },
     "execution_count": 24,
     "metadata": {},
     "output_type": "execute_result"
    },
    {
     "data": {
      "image/png": "[encoded data removed]",
      "text/plain": [
       "<Figure size 640x480 with 2 Axes>"
      ]
     },
     "metadata": {},
     "output_type": "display_data"
    }
   ],
   "source": [
    "plot_confusion_matrix(clf, X_test_scaled, y_test)"
   ]
  },
  {
   "cell_type": "markdown",
   "id": "2279a2ce",
   "metadata": {},
   "source": [
    "### 8.2.2. Scoring"
   ]
  },
  {
   "cell_type": "code",
   "execution_count": 25,
   "id": "044a9a7f",
   "metadata": {},
   "outputs": [],
   "source": [
    "report = classification_report(y_test, y_pred_test, output_dict=True)"
   ]
  },
  {
   "cell_type": "code",
   "execution_count": 26,
   "id": "0cbe2b0f",
   "metadata": {
    "tags": []
   },
   "outputs": [
    {
     "data": {
      "text/html": [
       "<div>\n",
       "<style scoped>\n",
       "    .dataframe tbody tr th:only-of-type {\n",
       "        vertical-align: middle;\n",
       "    }\n",
       "\n",
       "    .dataframe tbody tr th {\n",
       "        vertical-align: top;\n",
       "    }\n",
       "\n",
       "    .dataframe thead th {\n",
       "        text-align: right;\n",
       "    }\n",
       "</style>\n",
       "<table border=\"1\" class=\"dataframe\">\n",
       "  <thead>\n",
       "    <tr style=\"text-align: right;\">\n",
       "      <th></th>\n",
       "      <th>precision</th>\n",
       "      <th>recall</th>\n",
       "      <th>f1-score</th>\n",
       "      <th>support</th>\n",
       "    </tr>\n",
       "  </thead>\n",
       "  <tbody>\n",
       "    <tr>\n",
       "      <th>healthy</th>\n",
       "      <td>0.714286</td>\n",
       "      <td>0.686275</td>\n",
       "      <td>0.700000</td>\n",
       "      <td>51.00000</td>\n",
       "    </tr>\n",
       "    <tr>\n",
       "      <th>powdery</th>\n",
       "      <td>0.773585</td>\n",
       "      <td>0.788462</td>\n",
       "      <td>0.780952</td>\n",
       "      <td>52.00000</td>\n",
       "    </tr>\n",
       "    <tr>\n",
       "      <th>rust</th>\n",
       "      <td>0.710843</td>\n",
       "      <td>0.719512</td>\n",
       "      <td>0.715152</td>\n",
       "      <td>82.00000</td>\n",
       "    </tr>\n",
       "    <tr>\n",
       "      <th>accuracy</th>\n",
       "      <td>0.729730</td>\n",
       "      <td>0.729730</td>\n",
       "      <td>0.729730</td>\n",
       "      <td>0.72973</td>\n",
       "    </tr>\n",
       "    <tr>\n",
       "      <th>macro avg</th>\n",
       "      <td>0.732905</td>\n",
       "      <td>0.731416</td>\n",
       "      <td>0.732035</td>\n",
       "      <td>185.00000</td>\n",
       "    </tr>\n",
       "    <tr>\n",
       "      <th>weighted avg</th>\n",
       "      <td>0.729428</td>\n",
       "      <td>0.729730</td>\n",
       "      <td>0.729470</td>\n",
       "      <td>185.00000</td>\n",
       "    </tr>\n",
       "  </tbody>\n",
       "</table>\n",
       "</div>"
      ],
      "text/plain": [
       "              precision    recall  f1-score    support\n",
       "healthy        0.714286  0.686275  0.700000   51.00000\n",
       "powdery        0.773585  0.788462  0.780952   52.00000\n",
       "rust           0.710843  0.719512  0.715152   82.00000\n",
       "accuracy       0.729730  0.729730  0.729730    0.72973\n",
       "macro avg      0.732905  0.731416  0.732035  185.00000\n",
       "weighted avg   0.729428  0.729730  0.729470  185.00000"
      ]
     },
     "execution_count": 26,
     "metadata": {},
     "output_type": "execute_result"
    }
   ],
   "source": [
    "pd.DataFrame.from_dict(report).T"
   ]
  },
  {
   "cell_type": "markdown",
   "id": "1769123d",
   "metadata": {},
   "source": [
    "# 9. Save Model"
   ]
  },
  {
   "cell_type": "code",
   "execution_count": 27,
   "id": "65a4cfeb",
   "metadata": {},
   "outputs": [],
   "source": [
    "import pickle"
   ]
  },
  {
   "cell_type": "code",
   "execution_count": 28,
   "id": "c8bfee3b",
   "metadata": {},
   "outputs": [],
   "source": [
    "pickle.dump((clf, scaler), open(\"plant_disease.pickle\", \"wb\"))"
   ]
  }
 ],
 "metadata": {
  "kernelspec": {
   "display_name": "Python 3 (ipykernel)",
   "language": "python",
   "name": "python3"
  },
  "language_info": {
   "codemirror_mode": {
    "name": "ipython",
    "version": 3
   },
   "file_extension": ".py",
   "mimetype": "text/x-python",
   "name": "python",
   "nbconvert_exporter": "python",
   "pygments_lexer": "ipython3",
   "version": "3.8.13"
  }
 },
 "nbformat": 4,
 "nbformat_minor": 5
}
