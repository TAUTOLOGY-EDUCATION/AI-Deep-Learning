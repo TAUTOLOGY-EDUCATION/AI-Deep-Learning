{
 "cells": [
  {
   "cell_type": "markdown",
   "id": "d855ee63-f88b-479d-942b-5b65d5f3965a",
   "metadata": {},
   "source": [
    "# 1. Import Libraries"
   ]
  },
  {
   "cell_type": "code",
   "execution_count": 1,
   "id": "61589d75-6806-4c88-b2d4-2c1b187209e0",
   "metadata": {},
   "outputs": [
    {
     "name": "stderr",
     "output_type": "stream",
     "text": [
      "C:\\ProgramData\\Anaconda3\\lib\\site-packages\\scipy\\__init__.py:138: UserWarning: A NumPy version >=1.16.5 and <1.23.0 is required for this version of SciPy (detected version 1.23.1)\n",
      "  warnings.warn(f\"A NumPy version >={np_minversion} and <{np_maxversion} is required for this version of \"\n"
     ]
    }
   ],
   "source": [
    "import warnings\n",
    "\n",
    "import matplotlib.pyplot as plt\n",
    "import numpy as np\n",
    "import pandas as pd\n",
    "from sklearn.neural_network import MLPClassifier\n",
    "from sklearn.metrics import classification_report, plot_confusion_matrix\n",
    "from sklearn.model_selection import train_test_split\n",
    "from sklearn.preprocessing import MinMaxScaler, OneHotEncoder, OrdinalEncoder\n",
    "\n",
    "warnings.filterwarnings(\"ignore\")\n",
    "\n",
    "np.random.seed(12345)"
   ]
  },
  {
   "cell_type": "markdown",
   "id": "d72897e0-4fb9-4899-8a80-4b572d36cb70",
   "metadata": {},
   "source": [
    "# 2. Read Data"
   ]
  },
  {
   "cell_type": "code",
   "execution_count": 2,
   "id": "76b85cb2-71a9-49fb-8c26-c3640cc38f6a",
   "metadata": {
    "tags": []
   },
   "outputs": [
    {
     "data": {
      "text/html": [
       "<div>\n",
       "<style scoped>\n",
       "    .dataframe tbody tr th:only-of-type {\n",
       "        vertical-align: middle;\n",
       "    }\n",
       "\n",
       "    .dataframe tbody tr th {\n",
       "        vertical-align: top;\n",
       "    }\n",
       "\n",
       "    .dataframe thead th {\n",
       "        text-align: right;\n",
       "    }\n",
       "</style>\n",
       "<table border=\"1\" class=\"dataframe\">\n",
       "  <thead>\n",
       "    <tr style=\"text-align: right;\">\n",
       "      <th></th>\n",
       "      <th>age</th>\n",
       "      <th>experience</th>\n",
       "      <th>gpa</th>\n",
       "      <th>degree</th>\n",
       "      <th>position</th>\n",
       "      <th>expected_salary</th>\n",
       "      <th>result</th>\n",
       "    </tr>\n",
       "  </thead>\n",
       "  <tbody>\n",
       "    <tr>\n",
       "      <th>0</th>\n",
       "      <td>29.0</td>\n",
       "      <td>7</td>\n",
       "      <td>2.71</td>\n",
       "      <td>bachelor</td>\n",
       "      <td>secretary</td>\n",
       "      <td>19500</td>\n",
       "      <td>accept</td>\n",
       "    </tr>\n",
       "    <tr>\n",
       "      <th>1</th>\n",
       "      <td>29.0</td>\n",
       "      <td>4</td>\n",
       "      <td>NaN</td>\n",
       "      <td>bachelor</td>\n",
       "      <td>secretary</td>\n",
       "      <td>20500</td>\n",
       "      <td>accept</td>\n",
       "    </tr>\n",
       "    <tr>\n",
       "      <th>2</th>\n",
       "      <td>27.0</td>\n",
       "      <td>2</td>\n",
       "      <td>3.40</td>\n",
       "      <td>doctorate</td>\n",
       "      <td>accountant</td>\n",
       "      <td>43000</td>\n",
       "      <td>reject</td>\n",
       "    </tr>\n",
       "    <tr>\n",
       "      <th>3</th>\n",
       "      <td>33.0</td>\n",
       "      <td>11</td>\n",
       "      <td>3.25</td>\n",
       "      <td>bachelor</td>\n",
       "      <td>NaN</td>\n",
       "      <td>39000</td>\n",
       "      <td>reject</td>\n",
       "    </tr>\n",
       "    <tr>\n",
       "      <th>4</th>\n",
       "      <td>34.0</td>\n",
       "      <td>9</td>\n",
       "      <td>3.22</td>\n",
       "      <td>master</td>\n",
       "      <td>engineer</td>\n",
       "      <td>46500</td>\n",
       "      <td>reject</td>\n",
       "    </tr>\n",
       "    <tr>\n",
       "      <th>...</th>\n",
       "      <td>...</td>\n",
       "      <td>...</td>\n",
       "      <td>...</td>\n",
       "      <td>...</td>\n",
       "      <td>...</td>\n",
       "      <td>...</td>\n",
       "      <td>...</td>\n",
       "    </tr>\n",
       "    <tr>\n",
       "      <th>85</th>\n",
       "      <td>30.0</td>\n",
       "      <td>9</td>\n",
       "      <td>2.95</td>\n",
       "      <td>doctorate</td>\n",
       "      <td>accountant</td>\n",
       "      <td>48500</td>\n",
       "      <td>accept</td>\n",
       "    </tr>\n",
       "    <tr>\n",
       "      <th>86</th>\n",
       "      <td>28.0</td>\n",
       "      <td>6</td>\n",
       "      <td>3.31</td>\n",
       "      <td>master</td>\n",
       "      <td>engineer</td>\n",
       "      <td>45500</td>\n",
       "      <td>NaN</td>\n",
       "    </tr>\n",
       "    <tr>\n",
       "      <th>87</th>\n",
       "      <td>24.0</td>\n",
       "      <td>1</td>\n",
       "      <td>3.48</td>\n",
       "      <td>master</td>\n",
       "      <td>secretary</td>\n",
       "      <td>21500</td>\n",
       "      <td>accept</td>\n",
       "    </tr>\n",
       "    <tr>\n",
       "      <th>88</th>\n",
       "      <td>NaN</td>\n",
       "      <td>2</td>\n",
       "      <td>3.88</td>\n",
       "      <td>bachelor</td>\n",
       "      <td>accountant</td>\n",
       "      <td>32000</td>\n",
       "      <td>reject</td>\n",
       "    </tr>\n",
       "    <tr>\n",
       "      <th>89</th>\n",
       "      <td>33.0</td>\n",
       "      <td>10</td>\n",
       "      <td>3.99</td>\n",
       "      <td>master</td>\n",
       "      <td>engineer</td>\n",
       "      <td>54500</td>\n",
       "      <td>reject</td>\n",
       "    </tr>\n",
       "  </tbody>\n",
       "</table>\n",
       "<p>90 rows × 7 columns</p>\n",
       "</div>"
      ],
      "text/plain": [
       "     age  experience   gpa     degree    position  expected_salary  result\n",
       "0   29.0           7  2.71   bachelor   secretary            19500  accept\n",
       "1   29.0           4   NaN   bachelor   secretary            20500  accept\n",
       "2   27.0           2  3.40  doctorate  accountant            43000  reject\n",
       "3   33.0          11  3.25   bachelor         NaN            39000  reject\n",
       "4   34.0           9  3.22     master    engineer            46500  reject\n",
       "..   ...         ...   ...        ...         ...              ...     ...\n",
       "85  30.0           9  2.95  doctorate  accountant            48500  accept\n",
       "86  28.0           6  3.31     master    engineer            45500     NaN\n",
       "87  24.0           1  3.48     master   secretary            21500  accept\n",
       "88   NaN           2  3.88   bachelor  accountant            32000  reject\n",
       "89  33.0          10  3.99     master    engineer            54500  reject\n",
       "\n",
       "[90 rows x 7 columns]"
      ]
     },
     "execution_count": 2,
     "metadata": {},
     "output_type": "execute_result"
    }
   ],
   "source": [
    "data = pd.read_csv(\"job_acceptance_dataset.csv\")\n",
    "\n",
    "data"
   ]
  },
  {
   "cell_type": "markdown",
   "id": "031a59ae-9c2a-4fb4-9195-3f11fc7fffbb",
   "metadata": {},
   "source": [
    "# 3. Clean Data"
   ]
  },
  {
   "cell_type": "markdown",
   "id": "d20b674e-3d29-40f8-9633-263cb5160475",
   "metadata": {},
   "source": [
    "## 3.1. Handle Missing Values"
   ]
  },
  {
   "cell_type": "markdown",
   "id": "cd4f8044-fdfe-4311-bce4-1c73fd72e909",
   "metadata": {},
   "source": [
    "### 3.1.1. Check Missing Values"
   ]
  },
  {
   "cell_type": "code",
   "execution_count": 3,
   "id": "b72a0463-649c-40e5-b62d-0fa15381587d",
   "metadata": {},
   "outputs": [
    {
     "name": "stdout",
     "output_type": "stream",
     "text": [
      "<class 'pandas.core.frame.DataFrame'>\n",
      "RangeIndex: 90 entries, 0 to 89\n",
      "Data columns (total 7 columns):\n",
      " #   Column           Non-Null Count  Dtype  \n",
      "---  ------           --------------  -----  \n",
      " 0   age              89 non-null     float64\n",
      " 1   experience       90 non-null     int64  \n",
      " 2   gpa              89 non-null     float64\n",
      " 3   degree           90 non-null     object \n",
      " 4   position         89 non-null     object \n",
      " 5   expected_salary  90 non-null     int64  \n",
      " 6   result           89 non-null     object \n",
      "dtypes: float64(2), int64(2), object(3)\n",
      "memory usage: 5.0+ KB\n"
     ]
    }
   ],
   "source": [
    "data.info()"
   ]
  },
  {
   "cell_type": "markdown",
   "id": "5204bc8a-1b5a-44d1-9863-b734faa0c155",
   "metadata": {},
   "source": [
    "### 3.1.2. Remove Missing Values (Listwise Deletion)"
   ]
  },
  {
   "cell_type": "code",
   "execution_count": 4,
   "id": "c223e1ae-9285-42e4-9811-795b25a5e558",
   "metadata": {},
   "outputs": [],
   "source": [
    "# no NaN to remove\n",
    "data.dropna(axis=0, inplace=True)"
   ]
  },
  {
   "cell_type": "markdown",
   "id": "34093df1-4a42-41a9-bcd4-961eb339f06d",
   "metadata": {},
   "source": [
    "## 3.2. Handle Outliers"
   ]
  },
  {
   "cell_type": "markdown",
   "id": "f40bbca4-8fb6-46af-8351-bc9e0a5597b7",
   "metadata": {},
   "source": [
    "### 3.2.1. Check Outliers"
   ]
  },
  {
   "cell_type": "code",
   "execution_count": 5,
   "id": "efd1d489-7a26-4aa5-9721-f7f17ed56abb",
   "metadata": {},
   "outputs": [
    {
     "data": {
      "text/html": [
       "<div>\n",
       "<style scoped>\n",
       "    .dataframe tbody tr th:only-of-type {\n",
       "        vertical-align: middle;\n",
       "    }\n",
       "\n",
       "    .dataframe tbody tr th {\n",
       "        vertical-align: top;\n",
       "    }\n",
       "\n",
       "    .dataframe thead th {\n",
       "        text-align: right;\n",
       "    }\n",
       "</style>\n",
       "<table border=\"1\" class=\"dataframe\">\n",
       "  <thead>\n",
       "    <tr style=\"text-align: right;\">\n",
       "      <th></th>\n",
       "      <th>age</th>\n",
       "      <th>experience</th>\n",
       "      <th>gpa</th>\n",
       "      <th>expected_salary</th>\n",
       "    </tr>\n",
       "  </thead>\n",
       "  <tbody>\n",
       "    <tr>\n",
       "      <th>count</th>\n",
       "      <td>86.000000</td>\n",
       "      <td>86.000000</td>\n",
       "      <td>86.000000</td>\n",
       "      <td>86.000000</td>\n",
       "    </tr>\n",
       "    <tr>\n",
       "      <th>mean</th>\n",
       "      <td>27.872093</td>\n",
       "      <td>3.186047</td>\n",
       "      <td>3.280581</td>\n",
       "      <td>32209.302326</td>\n",
       "    </tr>\n",
       "    <tr>\n",
       "      <th>std</th>\n",
       "      <td>4.375860</td>\n",
       "      <td>3.197468</td>\n",
       "      <td>0.511957</td>\n",
       "      <td>9194.456487</td>\n",
       "    </tr>\n",
       "    <tr>\n",
       "      <th>min</th>\n",
       "      <td>21.000000</td>\n",
       "      <td>0.000000</td>\n",
       "      <td>2.520000</td>\n",
       "      <td>15000.000000</td>\n",
       "    </tr>\n",
       "    <tr>\n",
       "      <th>25%</th>\n",
       "      <td>24.000000</td>\n",
       "      <td>0.250000</td>\n",
       "      <td>2.890000</td>\n",
       "      <td>25500.000000</td>\n",
       "    </tr>\n",
       "    <tr>\n",
       "      <th>50%</th>\n",
       "      <td>28.000000</td>\n",
       "      <td>2.000000</td>\n",
       "      <td>3.280000</td>\n",
       "      <td>32000.000000</td>\n",
       "    </tr>\n",
       "    <tr>\n",
       "      <th>75%</th>\n",
       "      <td>31.750000</td>\n",
       "      <td>5.000000</td>\n",
       "      <td>3.567500</td>\n",
       "      <td>38500.000000</td>\n",
       "    </tr>\n",
       "    <tr>\n",
       "      <th>max</th>\n",
       "      <td>35.000000</td>\n",
       "      <td>13.000000</td>\n",
       "      <td>6.000000</td>\n",
       "      <td>54500.000000</td>\n",
       "    </tr>\n",
       "  </tbody>\n",
       "</table>\n",
       "</div>"
      ],
      "text/plain": [
       "             age  experience        gpa  expected_salary\n",
       "count  86.000000   86.000000  86.000000        86.000000\n",
       "mean   27.872093    3.186047   3.280581     32209.302326\n",
       "std     4.375860    3.197468   0.511957      9194.456487\n",
       "min    21.000000    0.000000   2.520000     15000.000000\n",
       "25%    24.000000    0.250000   2.890000     25500.000000\n",
       "50%    28.000000    2.000000   3.280000     32000.000000\n",
       "75%    31.750000    5.000000   3.567500     38500.000000\n",
       "max    35.000000   13.000000   6.000000     54500.000000"
      ]
     },
     "execution_count": 5,
     "metadata": {},
     "output_type": "execute_result"
    }
   ],
   "source": [
    "data.describe()"
   ]
  },
  {
   "cell_type": "markdown",
   "id": "67abbd65-1a7d-4cb7-9339-1e8b647fd143",
   "metadata": {},
   "source": [
    "### 3.2.2. Remove Outliers"
   ]
  },
  {
   "cell_type": "code",
   "execution_count": 6,
   "id": "a341c85c-8098-4fb0-a0cb-cfcd2f8dc458",
   "metadata": {},
   "outputs": [],
   "source": [
    "# no outlier to remove"
   ]
  },
  {
   "cell_type": "code",
   "execution_count": 7,
   "id": "4f649879-c12b-4e26-9c75-abfc6a5ac803",
   "metadata": {},
   "outputs": [],
   "source": [
    "data = data[data[\"gpa\"] <= 4]"
   ]
  },
  {
   "cell_type": "markdown",
   "id": "172ccbd8-f54b-4658-9895-2ce77437f41e",
   "metadata": {},
   "source": [
    "# 4. Split Dataset into Training & Test Sets"
   ]
  },
  {
   "cell_type": "code",
   "execution_count": 8,
   "id": "0fefcc8a-b733-4e46-866f-9d77c64b91bb",
   "metadata": {},
   "outputs": [],
   "source": [
    "target_name = \"result\"\n",
    "feature_name = list(data.columns.drop(target_name))"
   ]
  },
  {
   "cell_type": "code",
   "execution_count": 9,
   "id": "eda56df0-21d9-4025-828c-d468f5c2be08",
   "metadata": {},
   "outputs": [],
   "source": [
    "X = data[feature_name]\n",
    "y = data[target_name]"
   ]
  },
  {
   "cell_type": "code",
   "execution_count": 10,
   "id": "6d5e24a2-0701-477b-ada0-f3761f55fd13",
   "metadata": {},
   "outputs": [],
   "source": [
    "X_train, X_test, y_train, y_test = train_test_split(X, y, test_size=0.20, shuffle=True)"
   ]
  },
  {
   "cell_type": "markdown",
   "id": "49d8e691-f110-4892-92a6-e46c32f17e7f",
   "metadata": {},
   "source": [
    "# 5. Data Preparation"
   ]
  },
  {
   "cell_type": "code",
   "execution_count": 11,
   "id": "f6ec5a42-9045-45cd-8b86-2b19e551f807",
   "metadata": {},
   "outputs": [],
   "source": [
    "numerical_feature = [\"age\", \"experience\", \"gpa\", \"expected_salary\"]\n",
    "categorical_feature = [\"degree\", \"position\"]"
   ]
  },
  {
   "cell_type": "code",
   "execution_count": 12,
   "id": "e2f4e90c-2b83-4b06-b6c2-70651dac0426",
   "metadata": {},
   "outputs": [
    {
     "name": "stdout",
     "output_type": "stream",
     "text": [
      "degree : ['bachelor' 'doctorate' 'master']\n",
      "position : ['accountant' 'engineer' 'secretary']\n"
     ]
    }
   ],
   "source": [
    "for feature in categorical_feature:\n",
    "    print(feature, \":\", np.unique(X_train[feature]))"
   ]
  },
  {
   "cell_type": "code",
   "execution_count": 13,
   "id": "ad515229-95c1-4802-97a9-a1388c51582b",
   "metadata": {},
   "outputs": [],
   "source": [
    "ordinal_feature = [\"degree\"]\n",
    "nominal_feature = [\"position\"]"
   ]
  },
  {
   "cell_type": "code",
   "execution_count": 14,
   "id": "28e1a222-826c-4861-818b-2ff279f71468",
   "metadata": {},
   "outputs": [
    {
     "data": {
      "text/plain": [
       "array(['bachelor', 'doctorate', 'master'], dtype=object)"
      ]
     },
     "execution_count": 14,
     "metadata": {},
     "output_type": "execute_result"
    }
   ],
   "source": [
    "np.unique(data[\"degree\"])"
   ]
  },
  {
   "cell_type": "markdown",
   "id": "cc372905-16d2-46f2-abf3-5d3a9f3be7e8",
   "metadata": {},
   "source": [
    "## 5.1. Ordinal Encoding"
   ]
  },
  {
   "cell_type": "markdown",
   "id": "1bbbcf82-d5ff-481b-a326-94851f4a3983",
   "metadata": {},
   "source": [
    "### 5.1.1. Training Set"
   ]
  },
  {
   "cell_type": "code",
   "execution_count": 15,
   "id": "7a66d81c-cba4-4dcf-aa54-5901a63856ae",
   "metadata": {},
   "outputs": [],
   "source": [
    "categories = [\n",
    "    np.array([\"bachelor\", \"master\", \"doctorate\"], dtype=object),\n",
    "]"
   ]
  },
  {
   "cell_type": "code",
   "execution_count": 16,
   "id": "b35f483a-9c49-4907-a648-25f9c338c4ea",
   "metadata": {},
   "outputs": [],
   "source": [
    "ordinal_encoder = OrdinalEncoder(categories=categories)\n",
    "X_train[ordinal_feature] = ordinal_encoder.fit_transform(X_train[ordinal_feature])"
   ]
  },
  {
   "cell_type": "markdown",
   "id": "703d484e-40ee-441f-beb1-15325d547d1e",
   "metadata": {},
   "source": [
    "### 5.1.2. Test Set"
   ]
  },
  {
   "cell_type": "code",
   "execution_count": 17,
   "id": "839d4dd2-59ba-4016-8e3f-24bc605ff7b1",
   "metadata": {},
   "outputs": [],
   "source": [
    "X_test[ordinal_feature] = ordinal_encoder.transform(X_test[ordinal_feature])"
   ]
  },
  {
   "cell_type": "markdown",
   "id": "386ea656-8fe2-407a-9323-d84ca0ddde1e",
   "metadata": {},
   "source": [
    "## 5.2. One Hot Encoding"
   ]
  },
  {
   "cell_type": "markdown",
   "id": "407f20fb-1e4d-4cd3-8cc3-b209adca6522",
   "metadata": {},
   "source": [
    "### 5.2.1. Training Set"
   ]
  },
  {
   "cell_type": "code",
   "execution_count": 18,
   "id": "3a930191-f44b-4e29-8d70-fead32770dac",
   "metadata": {},
   "outputs": [
    {
     "data": {
      "text/plain": [
       "OneHotEncoder(handle_unknown='ignore', sparse=False)"
      ]
     },
     "execution_count": 18,
     "metadata": {},
     "output_type": "execute_result"
    }
   ],
   "source": [
    "one_hot_encoder = OneHotEncoder(sparse=False, handle_unknown=\"ignore\")\n",
    "one_hot_encoder.fit(X_train[nominal_feature])"
   ]
  },
  {
   "cell_type": "code",
   "execution_count": 19,
   "id": "7bdb2649-0865-405f-a03c-fbb94209f973",
   "metadata": {},
   "outputs": [],
   "source": [
    "one_hot_feature = []\n",
    "for i, feature in enumerate(nominal_feature):\n",
    "    for cate in one_hot_encoder.categories_[i]:\n",
    "        one_hot_feature_name = str(feature) + \"_\" + str(cate)\n",
    "        one_hot_feature.append(one_hot_feature_name)"
   ]
  },
  {
   "cell_type": "code",
   "execution_count": 20,
   "id": "1344f9ed-f867-4d92-9635-e9c7f63dedb1",
   "metadata": {},
   "outputs": [],
   "source": [
    "X_train[one_hot_feature] = one_hot_encoder.transform(X_train[nominal_feature])\n",
    "X_train.drop(nominal_feature, axis=1, inplace=True)"
   ]
  },
  {
   "cell_type": "markdown",
   "id": "e26129ac-c2a0-4f18-a5d6-487e0cccb104",
   "metadata": {},
   "source": [
    "### 5.2.2. Test Set"
   ]
  },
  {
   "cell_type": "code",
   "execution_count": 21,
   "id": "e2dd2b72-3882-454e-bef7-34216f3270bb",
   "metadata": {},
   "outputs": [],
   "source": [
    "X_test[one_hot_feature] = one_hot_encoder.transform(X_test[nominal_feature])\n",
    "X_test.drop(nominal_feature, axis=1, inplace=True)"
   ]
  },
  {
   "cell_type": "markdown",
   "id": "e11b9c3b-e313-447b-b37a-e6db5b4f191c",
   "metadata": {},
   "source": [
    "## 5.3. Feature Scaling"
   ]
  },
  {
   "cell_type": "markdown",
   "id": "c8960105-3577-4fb7-b648-ebbb5178511f",
   "metadata": {},
   "source": [
    "### 5.3.1. Training Set"
   ]
  },
  {
   "cell_type": "code",
   "execution_count": 22,
   "id": "dc794566-7788-410d-835d-eb5d35595b27",
   "metadata": {},
   "outputs": [],
   "source": [
    "scaler = MinMaxScaler()\n",
    "X_train_scaled = scaler.fit_transform(X_train)"
   ]
  },
  {
   "cell_type": "markdown",
   "id": "8a64d4f4-f808-439c-9140-c968abdfc9d5",
   "metadata": {},
   "source": [
    "### 5.3.2. Test Set"
   ]
  },
  {
   "cell_type": "code",
   "execution_count": 23,
   "id": "c2ffe787-d435-498d-83fa-d27a93393bd0",
   "metadata": {},
   "outputs": [],
   "source": [
    "X_test_scaled = scaler.transform(X_test)"
   ]
  },
  {
   "cell_type": "markdown",
   "id": "de901243-6127-4c70-bf9b-8d086adfeead",
   "metadata": {},
   "source": [
    "# 6. Model Creation"
   ]
  },
  {
   "cell_type": "markdown",
   "id": "2ea29bf0-a1d5-46a6-809d-2fc172a0117a",
   "metadata": {},
   "source": [
    "## 6.1. Setting Parameters"
   ]
  },
  {
   "cell_type": "code",
   "execution_count": 24,
   "id": "0e556264-e21f-476e-b5eb-e23e4235d2db",
   "metadata": {},
   "outputs": [],
   "source": [
    "clf = MLPClassifier(\n",
    "    hidden_layer_sizes=(10, 5),\n",
    "    activation=\"relu\",\n",
    "    # solver=\"sgd\",\n",
    "    alpha=0,\n",
    "    batch_size=X_train_scaled.shape[0],\n",
    "    learning_rate_init=0.01,\n",
    "    max_iter=1000,\n",
    "    momentum=0,\n",
    ")"
   ]
  },
  {
   "cell_type": "markdown",
   "id": "6e008414-3d36-48d1-be13-b69b5fcb37e4",
   "metadata": {},
   "source": [
    "## 6.2. Train Model"
   ]
  },
  {
   "cell_type": "code",
   "execution_count": 25,
   "id": "bb8af668-c238-4543-be82-75a15b75d8f2",
   "metadata": {},
   "outputs": [
    {
     "data": {
      "text/plain": [
       "MLPClassifier(alpha=0, batch_size=68, hidden_layer_sizes=(10, 5),\n",
       "              learning_rate_init=0.01, max_iter=1000, momentum=0)"
      ]
     },
     "execution_count": 25,
     "metadata": {},
     "output_type": "execute_result"
    }
   ],
   "source": [
    "clf.fit(X_train_scaled, y_train)"
   ]
  },
  {
   "cell_type": "markdown",
   "id": "a59729ca-dcd4-4986-a4be-35d132fad4ff",
   "metadata": {},
   "source": [
    "## 6.3. Loss curve"
   ]
  },
  {
   "cell_type": "code",
   "execution_count": 26,
   "id": "8e7712aa-7821-40a5-8ee2-24c1d36c279a",
   "metadata": {},
   "outputs": [
    {
     "data": {
      "text/plain": [
       "[<matplotlib.lines.Line2D at 0x22b6a5ad880>]"
      ]
     },
     "execution_count": 26,
     "metadata": {},
     "output_type": "execute_result"
    },
    {
     "data": {
      "image/png": "[encoded data removed]",
      "text/plain": [
       "<Figure size 640x480 with 1 Axes>"
      ]
     },
     "metadata": {},
     "output_type": "display_data"
    }
   ],
   "source": [
    "plt.plot(clf.loss_curve_)"
   ]
  },
  {
   "cell_type": "markdown",
   "id": "b6ddd518-4cb9-4ee3-8b2e-2e5364de543b",
   "metadata": {},
   "source": [
    "## 6.4. Model's Weight & Bias"
   ]
  },
  {
   "cell_type": "code",
   "execution_count": 27,
   "id": "81c42619-6459-4bd4-b481-963138f69bfe",
   "metadata": {},
   "outputs": [
    {
     "data": {
      "text/plain": [
       "[array([[ 1.01045568, -0.13678635, -1.68481681,  0.49290421, -0.86885952,\n",
       "         -0.43204097,  0.21258814,  1.41253508,  0.34017051,  0.6262154 ],\n",
       "        [ 0.99401987,  0.64416687,  0.12762434,  1.39354326,  0.34860489,\n",
       "          0.00453695, -0.12698616,  0.26078715, -0.00794107,  0.31178566],\n",
       "        [ 0.63011459,  0.54082325,  0.98582199, -0.36296905,  0.95138146,\n",
       "         -0.15306853, -0.099892  ,  0.01500741, -0.12309461,  0.12130754],\n",
       "        [-0.47206161,  0.99308501,  0.05893703,  0.87252617,  1.28302495,\n",
       "         -0.45342444, -0.25627744, -0.22915855,  0.60866264, -0.17381267],\n",
       "        [-1.66537076, -1.72297127,  1.18861391, -1.11677886, -1.57569005,\n",
       "         -0.41229158,  1.14328569, -1.02548607,  0.19607056,  1.64242571],\n",
       "        [-0.33348088,  0.47064615, -0.3464143 ,  0.58649162, -0.35506858,\n",
       "         -0.55365486,  0.42865834,  0.23442564,  0.47200214,  0.16401575],\n",
       "        [ 0.28809753,  0.82076426,  0.11958688, -0.55475729,  0.62004766,\n",
       "          0.13307137,  0.11827014,  0.04354804, -0.03669687, -0.38725871],\n",
       "        [ 0.35975918,  0.14204672, -0.92967338,  0.30720685,  0.46616024,\n",
       "          0.26536337,  0.16389724, -0.43394849,  0.14833259,  0.58091834]]),\n",
       " array([[-0.11232114,  1.86149007,  0.46712038,  1.76403375, -0.55094437],\n",
       "        [-0.38118309,  1.84321597,  1.41433901,  2.41220459, -0.56635969],\n",
       "        [ 0.10053047, -1.47474129, -2.55223554, -1.82392938, -0.10866623],\n",
       "        [ 0.13143341,  1.35593683,  1.08286903,  1.66019831, -0.12560435],\n",
       "        [ 0.37260925,  2.45388723,  0.79055607,  2.79174462,  0.44690206],\n",
       "        [ 0.29279802, -0.18269664,  0.48482712,  0.46543553,  0.57650402],\n",
       "        [-0.63230075, -1.02140818, -0.33395599, -0.28910574, -0.44418083],\n",
       "        [-0.42073836,  1.9365413 ,  0.39213624,  1.92804344, -0.03900318],\n",
       "        [-0.61955176,  0.16820269,  0.23644044, -0.44966908, -0.60247255],\n",
       "        [ 0.3315265 , -1.10662544, -0.64109057, -1.1207636 , -0.31632021]]),\n",
       " array([[-0.25773788],\n",
       "        [-2.83788865],\n",
       "        [-3.23781197],\n",
       "        [-2.34222035],\n",
       "        [ 0.45060195]])]"
      ]
     },
     "execution_count": 27,
     "metadata": {},
     "output_type": "execute_result"
    }
   ],
   "source": [
    "clf.coefs_"
   ]
  },
  {
   "cell_type": "code",
   "execution_count": 28,
   "id": "839996f2-e879-469e-8cfe-0c9b7f83935c",
   "metadata": {},
   "outputs": [
    {
     "data": {
      "text/plain": [
       "[array([-0.15845355,  0.14703839,  0.12256855, -0.10193714,  0.01664606,\n",
       "        -0.37261746,  0.32847831, -0.14002085,  0.2591776 ,  0.11386113]),\n",
       " array([ 0.08641594,  0.47498241,  0.03786453, -0.14934974,  0.42073368]),\n",
       " array([2.09892398])]"
      ]
     },
     "execution_count": 28,
     "metadata": {},
     "output_type": "execute_result"
    }
   ],
   "source": [
    "clf.intercepts_"
   ]
  },
  {
   "cell_type": "markdown",
   "id": "4ca14209-e9a0-40d4-896f-934ec8b4ddfe",
   "metadata": {},
   "source": [
    "# 7. Prediction"
   ]
  },
  {
   "cell_type": "markdown",
   "id": "699497d2-3c66-4f8c-9ea3-d7fac4095997",
   "metadata": {},
   "source": [
    "## 7.1. Training Set"
   ]
  },
  {
   "cell_type": "code",
   "execution_count": 29,
   "id": "bba85a60-020e-41a4-a9d3-6872317c0b1c",
   "metadata": {},
   "outputs": [],
   "source": [
    "y_pred_train = clf.predict(X_train_scaled)"
   ]
  },
  {
   "cell_type": "markdown",
   "id": "0b13c4c6-3550-4f46-bb62-f3f6834e22ad",
   "metadata": {},
   "source": [
    "## 7.2. Test Set"
   ]
  },
  {
   "cell_type": "code",
   "execution_count": 30,
   "id": "b40525b1-caef-4238-8b2a-ec8365fc6e41",
   "metadata": {},
   "outputs": [],
   "source": [
    "y_pred_test = clf.predict(X_test_scaled)"
   ]
  },
  {
   "cell_type": "markdown",
   "id": "e501c3de-1897-4690-b776-8fb98bdd8c50",
   "metadata": {},
   "source": [
    "# 8. Model Evaluation"
   ]
  },
  {
   "cell_type": "markdown",
   "id": "57030990-eb13-4eb4-bbff-19da5f99120c",
   "metadata": {},
   "source": [
    "## 8.1. Training Set"
   ]
  },
  {
   "cell_type": "markdown",
   "id": "a73c9b2f-ba5e-437a-9967-867f3eeec97c",
   "metadata": {},
   "source": [
    "### 8.1.1. Confusion Matrix"
   ]
  },
  {
   "cell_type": "code",
   "execution_count": 31,
   "id": "1599e665-2166-41de-8f07-0cc75ee1c666",
   "metadata": {},
   "outputs": [
    {
     "data": {
      "text/plain": [
       "<sklearn.metrics._plot.confusion_matrix.ConfusionMatrixDisplay at 0x22b6a5ade80>"
      ]
     },
     "execution_count": 31,
     "metadata": {},
     "output_type": "execute_result"
    },
    {
     "data": {
      "image/png": "[encoded data removed]",
      "text/plain": [
       "<Figure size 640x480 with 2 Axes>"
      ]
     },
     "metadata": {},
     "output_type": "display_data"
    }
   ],
   "source": [
    "plot_confusion_matrix(clf, X_train_scaled, y_train)"
   ]
  },
  {
   "cell_type": "markdown",
   "id": "a84801ee-cd58-4497-b8f2-11f4136711e1",
   "metadata": {},
   "source": [
    "### 8.1.2. Scoring"
   ]
  },
  {
   "cell_type": "code",
   "execution_count": 32,
   "id": "b000e1fc-35cf-474b-b5f7-0bbb45e7afbe",
   "metadata": {},
   "outputs": [],
   "source": [
    "report = classification_report(y_train, y_pred_train, output_dict=True)"
   ]
  },
  {
   "cell_type": "code",
   "execution_count": 33,
   "id": "37342b41-acea-460c-97f1-957d8229b316",
   "metadata": {},
   "outputs": [
    {
     "name": "stdout",
     "output_type": "stream",
     "text": [
      "accuracy = 0.9705882352941176\n"
     ]
    }
   ],
   "source": [
    "print(\"accuracy =\", report[\"accuracy\"])"
   ]
  },
  {
   "cell_type": "code",
   "execution_count": 34,
   "id": "85c4b1d1-8900-40eb-b23a-5145ce716417",
   "metadata": {},
   "outputs": [
    {
     "data": {
      "text/plain": [
       "{'precision': 1.0,\n",
       " 'recall': 0.9565217391304348,\n",
       " 'f1-score': 0.9777777777777777,\n",
       " 'support': 46}"
      ]
     },
     "execution_count": 34,
     "metadata": {},
     "output_type": "execute_result"
    }
   ],
   "source": [
    "report[\"accept\"]"
   ]
  },
  {
   "cell_type": "code",
   "execution_count": 35,
   "id": "d5051107-0e28-41cc-a830-774af45b91eb",
   "metadata": {},
   "outputs": [
    {
     "data": {
      "text/plain": [
       "{'precision': 0.9166666666666666,\n",
       " 'recall': 1.0,\n",
       " 'f1-score': 0.9565217391304348,\n",
       " 'support': 22}"
      ]
     },
     "execution_count": 35,
     "metadata": {},
     "output_type": "execute_result"
    }
   ],
   "source": [
    "report[\"reject\"]"
   ]
  },
  {
   "cell_type": "markdown",
   "id": "8c962dd5-b211-49bb-993e-7ebd55cebd77",
   "metadata": {},
   "source": [
    "## 8.2. Test Set"
   ]
  },
  {
   "cell_type": "markdown",
   "id": "9f7ff062-d044-48a3-affb-19daab165b1c",
   "metadata": {},
   "source": [
    "### 8.2.1. Confusion Matrix"
   ]
  },
  {
   "cell_type": "code",
   "execution_count": 36,
   "id": "5958f33d-b36d-41de-a954-e59b35c14698",
   "metadata": {},
   "outputs": [
    {
     "data": {
      "text/plain": [
       "<sklearn.metrics._plot.confusion_matrix.ConfusionMatrixDisplay at 0x22b6a72b3d0>"
      ]
     },
     "execution_count": 36,
     "metadata": {},
     "output_type": "execute_result"
    },
    {
     "data": {
      "image/png": "[encoded data removed]",
      "text/plain": [
       "<Figure size 640x480 with 2 Axes>"
      ]
     },
     "metadata": {},
     "output_type": "display_data"
    }
   ],
   "source": [
    "plot_confusion_matrix(clf, X_test_scaled, y_test)"
   ]
  },
  {
   "cell_type": "markdown",
   "id": "2c46b590-e026-42c1-be88-899c46133542",
   "metadata": {},
   "source": [
    "### 8.2.2. Scoring"
   ]
  },
  {
   "cell_type": "code",
   "execution_count": 37,
   "id": "ebdc45f7-5af2-4c1f-b0f0-1fedd2ecb794",
   "metadata": {},
   "outputs": [],
   "source": [
    "report = classification_report(y_test, y_pred_test, output_dict=True)"
   ]
  },
  {
   "cell_type": "code",
   "execution_count": 38,
   "id": "2925efa7-9ce0-4dfc-90d7-cfb8252be4f4",
   "metadata": {},
   "outputs": [
    {
     "name": "stdout",
     "output_type": "stream",
     "text": [
      "accuracy = 0.7058823529411765\n"
     ]
    }
   ],
   "source": [
    "print(\"accuracy =\", report[\"accuracy\"])"
   ]
  },
  {
   "cell_type": "code",
   "execution_count": 39,
   "id": "2f3f9bc3-8ec8-43c4-8fed-d99d273be7a7",
   "metadata": {},
   "outputs": [
    {
     "data": {
      "text/plain": [
       "{'precision': 0.6666666666666666,\n",
       " 'recall': 0.75,\n",
       " 'f1-score': 0.7058823529411765,\n",
       " 'support': 8}"
      ]
     },
     "execution_count": 39,
     "metadata": {},
     "output_type": "execute_result"
    }
   ],
   "source": [
    "report[\"accept\"]"
   ]
  },
  {
   "cell_type": "code",
   "execution_count": 40,
   "id": "72dcf59a-877c-4fbd-bac3-ce64aa793e73",
   "metadata": {},
   "outputs": [
    {
     "data": {
      "text/plain": [
       "{'precision': 0.75,\n",
       " 'recall': 0.6666666666666666,\n",
       " 'f1-score': 0.7058823529411765,\n",
       " 'support': 9}"
      ]
     },
     "execution_count": 40,
     "metadata": {},
     "output_type": "execute_result"
    }
   ],
   "source": [
    "report[\"reject\"]"
   ]
  },
  {
   "cell_type": "markdown",
   "id": "5322ac94-c718-40e7-8619-9e1cabbd79a2",
   "metadata": {},
   "source": [
    "# 9. Model Deployment"
   ]
  },
  {
   "cell_type": "code",
   "execution_count": 41,
   "id": "3d43e77e-649a-4de3-85b6-0166411f477a",
   "metadata": {},
   "outputs": [],
   "source": [
    "import pickle"
   ]
  },
  {
   "cell_type": "code",
   "execution_count": 42,
   "id": "d185f873-7dd2-40cc-b19d-52464b64a58c",
   "metadata": {},
   "outputs": [],
   "source": [
    "pickle.dump(\n",
    "    (\n",
    "        clf,\n",
    "        ordinal_encoder,\n",
    "        one_hot_encoder,\n",
    "        scaler,\n",
    "        feature_name,\n",
    "        numerical_feature,\n",
    "        ordinal_feature,\n",
    "        nominal_feature,\n",
    "    ),\n",
    "    open(\"job_acceptance_model.pickle\", \"wb\"),\n",
    ")"
   ]
  }
 ],
 "metadata": {
  "kernelspec": {
   "display_name": "Python 3 (ipykernel)",
   "language": "python",
   "name": "python3"
  },
  "language_info": {
   "codemirror_mode": {
    "name": "ipython",
    "version": 3
   },
   "file_extension": ".py",
   "mimetype": "text/x-python",
   "name": "python",
   "nbconvert_exporter": "python",
   "pygments_lexer": "ipython3",
   "version": "3.8.13"
  }
 },
 "nbformat": 4,
 "nbformat_minor": 5
}
