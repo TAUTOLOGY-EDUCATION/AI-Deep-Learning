{
 "cells": [
  {
   "cell_type": "markdown",
   "id": "01f87acf",
   "metadata": {},
   "source": [
    "# 1. Import Libraries"
   ]
  },
  {
   "cell_type": "code",
   "execution_count": 1,
   "id": "47b1613e",
   "metadata": {},
   "outputs": [
    {
     "name": "stderr",
     "output_type": "stream",
     "text": [
      "C:\\ProgramData\\Anaconda3\\lib\\site-packages\\scipy\\__init__.py:138: UserWarning: A NumPy version >=1.16.5 and <1.23.0 is required for this version of SciPy (detected version 1.23.1)\n",
      "  warnings.warn(f\"A NumPy version >={np_minversion} and <{np_maxversion} is required for this version of \"\n"
     ]
    }
   ],
   "source": [
    "import warnings\n",
    "\n",
    "import matplotlib.pyplot as plt\n",
    "import numpy as np\n",
    "import pandas as pd\n",
    "from sklearn.metrics import classification_report, plot_confusion_matrix\n",
    "from sklearn.model_selection import train_test_split\n",
    "from sklearn.neural_network import MLPClassifier\n",
    "from sklearn.preprocessing import (\n",
    "    MinMaxScaler,\n",
    "    OneHotEncoder,\n",
    "    OrdinalEncoder,\n",
    "    StandardScaler,\n",
    ")\n",
    "\n",
    "warnings.filterwarnings(\"ignore\")\n",
    "\n",
    "np.random.seed(123)"
   ]
  },
  {
   "cell_type": "markdown",
   "id": "0731766a",
   "metadata": {},
   "source": [
    "# 2. Read Data"
   ]
  },
  {
   "cell_type": "code",
   "execution_count": 2,
   "id": "95b16c68",
   "metadata": {},
   "outputs": [
    {
     "data": {
      "text/html": [
       "<div>\n",
       "<style scoped>\n",
       "    .dataframe tbody tr th:only-of-type {\n",
       "        vertical-align: middle;\n",
       "    }\n",
       "\n",
       "    .dataframe tbody tr th {\n",
       "        vertical-align: top;\n",
       "    }\n",
       "\n",
       "    .dataframe thead th {\n",
       "        text-align: right;\n",
       "    }\n",
       "</style>\n",
       "<table border=\"1\" class=\"dataframe\">\n",
       "  <thead>\n",
       "    <tr style=\"text-align: right;\">\n",
       "      <th></th>\n",
       "      <th>pixel_0</th>\n",
       "      <th>pixel_1</th>\n",
       "      <th>pixel_2</th>\n",
       "      <th>pixel_3</th>\n",
       "      <th>pixel_4</th>\n",
       "      <th>pixel_5</th>\n",
       "      <th>pixel_6</th>\n",
       "      <th>pixel_7</th>\n",
       "      <th>pixel_8</th>\n",
       "      <th>pixel_9</th>\n",
       "      <th>...</th>\n",
       "      <th>pixel_8183</th>\n",
       "      <th>pixel_8184</th>\n",
       "      <th>pixel_8185</th>\n",
       "      <th>pixel_8186</th>\n",
       "      <th>pixel_8187</th>\n",
       "      <th>pixel_8188</th>\n",
       "      <th>pixel_8189</th>\n",
       "      <th>pixel_8190</th>\n",
       "      <th>pixel_8191</th>\n",
       "      <th>label</th>\n",
       "    </tr>\n",
       "  </thead>\n",
       "  <tbody>\n",
       "    <tr>\n",
       "      <th>0</th>\n",
       "      <td>-79.602509</td>\n",
       "      <td>-78.703339</td>\n",
       "      <td>-75.710220</td>\n",
       "      <td>-79.497986</td>\n",
       "      <td>-79.989914</td>\n",
       "      <td>-78.267715</td>\n",
       "      <td>-78.394524</td>\n",
       "      <td>-80.000000</td>\n",
       "      <td>-80.000000</td>\n",
       "      <td>-72.545074</td>\n",
       "      <td>...</td>\n",
       "      <td>-80.000000</td>\n",
       "      <td>-80.000000</td>\n",
       "      <td>-80.000000</td>\n",
       "      <td>-80.000000</td>\n",
       "      <td>-80.000000</td>\n",
       "      <td>-80.000000</td>\n",
       "      <td>-80.000000</td>\n",
       "      <td>-80.000000</td>\n",
       "      <td>-80.000000</td>\n",
       "      <td>cat</td>\n",
       "    </tr>\n",
       "    <tr>\n",
       "      <th>1</th>\n",
       "      <td>-80.000000</td>\n",
       "      <td>-80.000000</td>\n",
       "      <td>-66.355614</td>\n",
       "      <td>-59.159370</td>\n",
       "      <td>-43.926155</td>\n",
       "      <td>-55.072250</td>\n",
       "      <td>-73.129517</td>\n",
       "      <td>-80.000000</td>\n",
       "      <td>-74.959351</td>\n",
       "      <td>-56.905140</td>\n",
       "      <td>...</td>\n",
       "      <td>-80.000000</td>\n",
       "      <td>-80.000000</td>\n",
       "      <td>-80.000000</td>\n",
       "      <td>-80.000000</td>\n",
       "      <td>-80.000000</td>\n",
       "      <td>-80.000000</td>\n",
       "      <td>-80.000000</td>\n",
       "      <td>-80.000000</td>\n",
       "      <td>-80.000000</td>\n",
       "      <td>cat</td>\n",
       "    </tr>\n",
       "    <tr>\n",
       "      <th>2</th>\n",
       "      <td>-80.000000</td>\n",
       "      <td>-80.000000</td>\n",
       "      <td>-80.000000</td>\n",
       "      <td>-80.000000</td>\n",
       "      <td>-80.000000</td>\n",
       "      <td>-80.000000</td>\n",
       "      <td>-80.000000</td>\n",
       "      <td>-79.731453</td>\n",
       "      <td>-79.313713</td>\n",
       "      <td>-78.895966</td>\n",
       "      <td>...</td>\n",
       "      <td>-80.000000</td>\n",
       "      <td>-80.000000</td>\n",
       "      <td>-80.000000</td>\n",
       "      <td>-80.000000</td>\n",
       "      <td>-80.000000</td>\n",
       "      <td>-80.000000</td>\n",
       "      <td>-80.000000</td>\n",
       "      <td>-80.000000</td>\n",
       "      <td>-80.000000</td>\n",
       "      <td>cat</td>\n",
       "    </tr>\n",
       "    <tr>\n",
       "      <th>3</th>\n",
       "      <td>-80.000000</td>\n",
       "      <td>-80.000000</td>\n",
       "      <td>-80.000000</td>\n",
       "      <td>-80.000000</td>\n",
       "      <td>-80.000000</td>\n",
       "      <td>-80.000000</td>\n",
       "      <td>-80.000000</td>\n",
       "      <td>-80.000000</td>\n",
       "      <td>-80.000000</td>\n",
       "      <td>-80.000000</td>\n",
       "      <td>...</td>\n",
       "      <td>-80.000000</td>\n",
       "      <td>-80.000000</td>\n",
       "      <td>-80.000000</td>\n",
       "      <td>-80.000000</td>\n",
       "      <td>-80.000000</td>\n",
       "      <td>-80.000000</td>\n",
       "      <td>-80.000000</td>\n",
       "      <td>-80.000000</td>\n",
       "      <td>-80.000000</td>\n",
       "      <td>cat</td>\n",
       "    </tr>\n",
       "    <tr>\n",
       "      <th>4</th>\n",
       "      <td>-80.000000</td>\n",
       "      <td>-80.000000</td>\n",
       "      <td>-80.000000</td>\n",
       "      <td>-80.000000</td>\n",
       "      <td>-80.000000</td>\n",
       "      <td>-80.000000</td>\n",
       "      <td>-80.000000</td>\n",
       "      <td>-80.000000</td>\n",
       "      <td>-80.000000</td>\n",
       "      <td>-80.000000</td>\n",
       "      <td>...</td>\n",
       "      <td>-80.000000</td>\n",
       "      <td>-80.000000</td>\n",
       "      <td>-80.000000</td>\n",
       "      <td>-80.000000</td>\n",
       "      <td>-80.000000</td>\n",
       "      <td>-80.000000</td>\n",
       "      <td>-80.000000</td>\n",
       "      <td>-80.000000</td>\n",
       "      <td>-80.000000</td>\n",
       "      <td>cat</td>\n",
       "    </tr>\n",
       "    <tr>\n",
       "      <th>...</th>\n",
       "      <td>...</td>\n",
       "      <td>...</td>\n",
       "      <td>...</td>\n",
       "      <td>...</td>\n",
       "      <td>...</td>\n",
       "      <td>...</td>\n",
       "      <td>...</td>\n",
       "      <td>...</td>\n",
       "      <td>...</td>\n",
       "      <td>...</td>\n",
       "      <td>...</td>\n",
       "      <td>...</td>\n",
       "      <td>...</td>\n",
       "      <td>...</td>\n",
       "      <td>...</td>\n",
       "      <td>...</td>\n",
       "      <td>...</td>\n",
       "      <td>...</td>\n",
       "      <td>...</td>\n",
       "      <td>...</td>\n",
       "      <td>...</td>\n",
       "    </tr>\n",
       "    <tr>\n",
       "      <th>272</th>\n",
       "      <td>-80.000000</td>\n",
       "      <td>-80.000000</td>\n",
       "      <td>-80.000000</td>\n",
       "      <td>-80.000000</td>\n",
       "      <td>-80.000000</td>\n",
       "      <td>-80.000000</td>\n",
       "      <td>-80.000000</td>\n",
       "      <td>-80.000000</td>\n",
       "      <td>-80.000000</td>\n",
       "      <td>-80.000000</td>\n",
       "      <td>...</td>\n",
       "      <td>-80.000000</td>\n",
       "      <td>-80.000000</td>\n",
       "      <td>-80.000000</td>\n",
       "      <td>-80.000000</td>\n",
       "      <td>-80.000000</td>\n",
       "      <td>-80.000000</td>\n",
       "      <td>-80.000000</td>\n",
       "      <td>-80.000000</td>\n",
       "      <td>-80.000000</td>\n",
       "      <td>dog</td>\n",
       "    </tr>\n",
       "    <tr>\n",
       "      <th>273</th>\n",
       "      <td>-80.000000</td>\n",
       "      <td>-77.922005</td>\n",
       "      <td>-75.707809</td>\n",
       "      <td>-80.000000</td>\n",
       "      <td>-80.000000</td>\n",
       "      <td>-80.000000</td>\n",
       "      <td>-80.000000</td>\n",
       "      <td>-80.000000</td>\n",
       "      <td>-80.000000</td>\n",
       "      <td>-80.000000</td>\n",
       "      <td>...</td>\n",
       "      <td>-80.000000</td>\n",
       "      <td>-80.000000</td>\n",
       "      <td>-80.000000</td>\n",
       "      <td>-80.000000</td>\n",
       "      <td>-80.000000</td>\n",
       "      <td>-80.000000</td>\n",
       "      <td>-80.000000</td>\n",
       "      <td>-80.000000</td>\n",
       "      <td>-80.000000</td>\n",
       "      <td>dog</td>\n",
       "    </tr>\n",
       "    <tr>\n",
       "      <th>274</th>\n",
       "      <td>-80.000000</td>\n",
       "      <td>-80.000000</td>\n",
       "      <td>-80.000000</td>\n",
       "      <td>-80.000000</td>\n",
       "      <td>-80.000000</td>\n",
       "      <td>-80.000000</td>\n",
       "      <td>-80.000000</td>\n",
       "      <td>-80.000000</td>\n",
       "      <td>-80.000000</td>\n",
       "      <td>-80.000000</td>\n",
       "      <td>...</td>\n",
       "      <td>-80.000000</td>\n",
       "      <td>-80.000000</td>\n",
       "      <td>-80.000000</td>\n",
       "      <td>-80.000000</td>\n",
       "      <td>-80.000000</td>\n",
       "      <td>-80.000000</td>\n",
       "      <td>-80.000000</td>\n",
       "      <td>-80.000000</td>\n",
       "      <td>-80.000000</td>\n",
       "      <td>dog</td>\n",
       "    </tr>\n",
       "    <tr>\n",
       "      <th>275</th>\n",
       "      <td>-79.877312</td>\n",
       "      <td>-71.642929</td>\n",
       "      <td>-46.857010</td>\n",
       "      <td>-47.497482</td>\n",
       "      <td>-54.928242</td>\n",
       "      <td>-49.587021</td>\n",
       "      <td>-48.903427</td>\n",
       "      <td>-47.383080</td>\n",
       "      <td>-52.390427</td>\n",
       "      <td>-52.939766</td>\n",
       "      <td>...</td>\n",
       "      <td>-80.000008</td>\n",
       "      <td>-80.000008</td>\n",
       "      <td>-80.000008</td>\n",
       "      <td>-80.000008</td>\n",
       "      <td>-80.000008</td>\n",
       "      <td>-80.000008</td>\n",
       "      <td>-80.000008</td>\n",
       "      <td>-80.000008</td>\n",
       "      <td>-80.000008</td>\n",
       "      <td>dog</td>\n",
       "    </tr>\n",
       "    <tr>\n",
       "      <th>276</th>\n",
       "      <td>-65.404778</td>\n",
       "      <td>-60.840485</td>\n",
       "      <td>-50.669930</td>\n",
       "      <td>-51.493011</td>\n",
       "      <td>-48.458237</td>\n",
       "      <td>-56.269268</td>\n",
       "      <td>-46.324493</td>\n",
       "      <td>-55.905273</td>\n",
       "      <td>-65.349762</td>\n",
       "      <td>-63.112869</td>\n",
       "      <td>...</td>\n",
       "      <td>-80.000000</td>\n",
       "      <td>-80.000000</td>\n",
       "      <td>-80.000000</td>\n",
       "      <td>-80.000000</td>\n",
       "      <td>-80.000000</td>\n",
       "      <td>-80.000000</td>\n",
       "      <td>-80.000000</td>\n",
       "      <td>-80.000000</td>\n",
       "      <td>-80.000000</td>\n",
       "      <td>dog</td>\n",
       "    </tr>\n",
       "  </tbody>\n",
       "</table>\n",
       "<p>277 rows × 8193 columns</p>\n",
       "</div>"
      ],
      "text/plain": [
       "       pixel_0    pixel_1    pixel_2    pixel_3    pixel_4    pixel_5  \\\n",
       "0   -79.602509 -78.703339 -75.710220 -79.497986 -79.989914 -78.267715   \n",
       "1   -80.000000 -80.000000 -66.355614 -59.159370 -43.926155 -55.072250   \n",
       "2   -80.000000 -80.000000 -80.000000 -80.000000 -80.000000 -80.000000   \n",
       "3   -80.000000 -80.000000 -80.000000 -80.000000 -80.000000 -80.000000   \n",
       "4   -80.000000 -80.000000 -80.000000 -80.000000 -80.000000 -80.000000   \n",
       "..         ...        ...        ...        ...        ...        ...   \n",
       "272 -80.000000 -80.000000 -80.000000 -80.000000 -80.000000 -80.000000   \n",
       "273 -80.000000 -77.922005 -75.707809 -80.000000 -80.000000 -80.000000   \n",
       "274 -80.000000 -80.000000 -80.000000 -80.000000 -80.000000 -80.000000   \n",
       "275 -79.877312 -71.642929 -46.857010 -47.497482 -54.928242 -49.587021   \n",
       "276 -65.404778 -60.840485 -50.669930 -51.493011 -48.458237 -56.269268   \n",
       "\n",
       "       pixel_6    pixel_7    pixel_8    pixel_9  ...  pixel_8183  pixel_8184  \\\n",
       "0   -78.394524 -80.000000 -80.000000 -72.545074  ...  -80.000000  -80.000000   \n",
       "1   -73.129517 -80.000000 -74.959351 -56.905140  ...  -80.000000  -80.000000   \n",
       "2   -80.000000 -79.731453 -79.313713 -78.895966  ...  -80.000000  -80.000000   \n",
       "3   -80.000000 -80.000000 -80.000000 -80.000000  ...  -80.000000  -80.000000   \n",
       "4   -80.000000 -80.000000 -80.000000 -80.000000  ...  -80.000000  -80.000000   \n",
       "..         ...        ...        ...        ...  ...         ...         ...   \n",
       "272 -80.000000 -80.000000 -80.000000 -80.000000  ...  -80.000000  -80.000000   \n",
       "273 -80.000000 -80.000000 -80.000000 -80.000000  ...  -80.000000  -80.000000   \n",
       "274 -80.000000 -80.000000 -80.000000 -80.000000  ...  -80.000000  -80.000000   \n",
       "275 -48.903427 -47.383080 -52.390427 -52.939766  ...  -80.000008  -80.000008   \n",
       "276 -46.324493 -55.905273 -65.349762 -63.112869  ...  -80.000000  -80.000000   \n",
       "\n",
       "     pixel_8185  pixel_8186  pixel_8187  pixel_8188  pixel_8189  pixel_8190  \\\n",
       "0    -80.000000  -80.000000  -80.000000  -80.000000  -80.000000  -80.000000   \n",
       "1    -80.000000  -80.000000  -80.000000  -80.000000  -80.000000  -80.000000   \n",
       "2    -80.000000  -80.000000  -80.000000  -80.000000  -80.000000  -80.000000   \n",
       "3    -80.000000  -80.000000  -80.000000  -80.000000  -80.000000  -80.000000   \n",
       "4    -80.000000  -80.000000  -80.000000  -80.000000  -80.000000  -80.000000   \n",
       "..          ...         ...         ...         ...         ...         ...   \n",
       "272  -80.000000  -80.000000  -80.000000  -80.000000  -80.000000  -80.000000   \n",
       "273  -80.000000  -80.000000  -80.000000  -80.000000  -80.000000  -80.000000   \n",
       "274  -80.000000  -80.000000  -80.000000  -80.000000  -80.000000  -80.000000   \n",
       "275  -80.000008  -80.000008  -80.000008  -80.000008  -80.000008  -80.000008   \n",
       "276  -80.000000  -80.000000  -80.000000  -80.000000  -80.000000  -80.000000   \n",
       "\n",
       "     pixel_8191  label  \n",
       "0    -80.000000    cat  \n",
       "1    -80.000000    cat  \n",
       "2    -80.000000    cat  \n",
       "3    -80.000000    cat  \n",
       "4    -80.000000    cat  \n",
       "..          ...    ...  \n",
       "272  -80.000000    dog  \n",
       "273  -80.000000    dog  \n",
       "274  -80.000000    dog  \n",
       "275  -80.000008    dog  \n",
       "276  -80.000000    dog  \n",
       "\n",
       "[277 rows x 8193 columns]"
      ]
     },
     "execution_count": 2,
     "metadata": {},
     "output_type": "execute_result"
    }
   ],
   "source": [
    "data = pd.read_csv(\"cat_dog_dataset.csv\")\n",
    "\n",
    "data"
   ]
  },
  {
   "cell_type": "markdown",
   "id": "79dd6fc8",
   "metadata": {},
   "source": [
    "# 3. Clean Data"
   ]
  },
  {
   "cell_type": "markdown",
   "id": "29cfc1c6",
   "metadata": {},
   "source": [
    "## 3.1. Handle Missing Values"
   ]
  },
  {
   "cell_type": "markdown",
   "id": "4f7b9c55",
   "metadata": {},
   "source": [
    "### 3.1.1. Check Missing Values"
   ]
  },
  {
   "cell_type": "code",
   "execution_count": 3,
   "id": "5086b427",
   "metadata": {},
   "outputs": [
    {
     "name": "stdout",
     "output_type": "stream",
     "text": [
      "<class 'pandas.core.frame.DataFrame'>\n",
      "RangeIndex: 277 entries, 0 to 276\n",
      "Columns: 8193 entries, pixel_0 to label\n",
      "dtypes: float64(8192), object(1)\n",
      "memory usage: 17.3+ MB\n"
     ]
    }
   ],
   "source": [
    "data.info()"
   ]
  },
  {
   "cell_type": "markdown",
   "id": "d4758668",
   "metadata": {},
   "source": [
    "### 3.1.2. Remove Missing Values"
   ]
  },
  {
   "cell_type": "code",
   "execution_count": 4,
   "id": "a1c31df2",
   "metadata": {},
   "outputs": [],
   "source": [
    "# no NaN to remove\n",
    "# data.dropna(axis=0, inplace=True)"
   ]
  },
  {
   "cell_type": "markdown",
   "id": "bbf01963",
   "metadata": {},
   "source": [
    "## 3.2. Handle Outliers"
   ]
  },
  {
   "cell_type": "markdown",
   "id": "50aeae54",
   "metadata": {},
   "source": [
    "### 3.2.1. Check Outliers"
   ]
  },
  {
   "cell_type": "code",
   "execution_count": 5,
   "id": "11c26f14",
   "metadata": {},
   "outputs": [
    {
     "data": {
      "text/html": [
       "<div>\n",
       "<style scoped>\n",
       "    .dataframe tbody tr th:only-of-type {\n",
       "        vertical-align: middle;\n",
       "    }\n",
       "\n",
       "    .dataframe tbody tr th {\n",
       "        vertical-align: top;\n",
       "    }\n",
       "\n",
       "    .dataframe thead th {\n",
       "        text-align: right;\n",
       "    }\n",
       "</style>\n",
       "<table border=\"1\" class=\"dataframe\">\n",
       "  <thead>\n",
       "    <tr style=\"text-align: right;\">\n",
       "      <th></th>\n",
       "      <th>pixel_0</th>\n",
       "      <th>pixel_1</th>\n",
       "      <th>pixel_2</th>\n",
       "      <th>pixel_3</th>\n",
       "      <th>pixel_4</th>\n",
       "      <th>pixel_5</th>\n",
       "      <th>pixel_6</th>\n",
       "      <th>pixel_7</th>\n",
       "      <th>pixel_8</th>\n",
       "      <th>pixel_9</th>\n",
       "      <th>...</th>\n",
       "      <th>pixel_8182</th>\n",
       "      <th>pixel_8183</th>\n",
       "      <th>pixel_8184</th>\n",
       "      <th>pixel_8185</th>\n",
       "      <th>pixel_8186</th>\n",
       "      <th>pixel_8187</th>\n",
       "      <th>pixel_8188</th>\n",
       "      <th>pixel_8189</th>\n",
       "      <th>pixel_8190</th>\n",
       "      <th>pixel_8191</th>\n",
       "    </tr>\n",
       "  </thead>\n",
       "  <tbody>\n",
       "    <tr>\n",
       "      <th>count</th>\n",
       "      <td>277.000000</td>\n",
       "      <td>277.000000</td>\n",
       "      <td>277.000000</td>\n",
       "      <td>277.000000</td>\n",
       "      <td>277.000000</td>\n",
       "      <td>277.000000</td>\n",
       "      <td>277.000000</td>\n",
       "      <td>277.000000</td>\n",
       "      <td>277.000000</td>\n",
       "      <td>277.000000</td>\n",
       "      <td>...</td>\n",
       "      <td>277.000000</td>\n",
       "      <td>277.000000</td>\n",
       "      <td>277.000000</td>\n",
       "      <td>277.000000</td>\n",
       "      <td>277.000000</td>\n",
       "      <td>277.000000</td>\n",
       "      <td>277.000000</td>\n",
       "      <td>277.000000</td>\n",
       "      <td>277.000000</td>\n",
       "      <td>277.000000</td>\n",
       "    </tr>\n",
       "    <tr>\n",
       "      <th>mean</th>\n",
       "      <td>-75.960172</td>\n",
       "      <td>-74.352064</td>\n",
       "      <td>-73.268885</td>\n",
       "      <td>-73.278650</td>\n",
       "      <td>-73.155587</td>\n",
       "      <td>-73.215246</td>\n",
       "      <td>-73.109967</td>\n",
       "      <td>-73.164568</td>\n",
       "      <td>-72.808128</td>\n",
       "      <td>-72.612024</td>\n",
       "      <td>...</td>\n",
       "      <td>-80.000000</td>\n",
       "      <td>-80.000000</td>\n",
       "      <td>-80.000000</td>\n",
       "      <td>-80.000000</td>\n",
       "      <td>-80.000000</td>\n",
       "      <td>-80.000000</td>\n",
       "      <td>-80.000000</td>\n",
       "      <td>-80.000000</td>\n",
       "      <td>-80.000000</td>\n",
       "      <td>-80.000000</td>\n",
       "    </tr>\n",
       "    <tr>\n",
       "      <th>std</th>\n",
       "      <td>9.897928</td>\n",
       "      <td>11.403480</td>\n",
       "      <td>12.425619</td>\n",
       "      <td>12.530003</td>\n",
       "      <td>12.862007</td>\n",
       "      <td>12.706503</td>\n",
       "      <td>12.801425</td>\n",
       "      <td>12.688064</td>\n",
       "      <td>13.190954</td>\n",
       "      <td>13.178017</td>\n",
       "      <td>...</td>\n",
       "      <td>0.000002</td>\n",
       "      <td>0.000002</td>\n",
       "      <td>0.000002</td>\n",
       "      <td>0.000002</td>\n",
       "      <td>0.000002</td>\n",
       "      <td>0.000002</td>\n",
       "      <td>0.000002</td>\n",
       "      <td>0.000002</td>\n",
       "      <td>0.000002</td>\n",
       "      <td>0.000002</td>\n",
       "    </tr>\n",
       "    <tr>\n",
       "      <th>min</th>\n",
       "      <td>-80.000008</td>\n",
       "      <td>-80.000008</td>\n",
       "      <td>-80.000008</td>\n",
       "      <td>-80.000008</td>\n",
       "      <td>-80.000008</td>\n",
       "      <td>-80.000008</td>\n",
       "      <td>-80.000008</td>\n",
       "      <td>-80.000008</td>\n",
       "      <td>-80.000008</td>\n",
       "      <td>-80.000008</td>\n",
       "      <td>...</td>\n",
       "      <td>-80.000008</td>\n",
       "      <td>-80.000008</td>\n",
       "      <td>-80.000008</td>\n",
       "      <td>-80.000008</td>\n",
       "      <td>-80.000008</td>\n",
       "      <td>-80.000008</td>\n",
       "      <td>-80.000008</td>\n",
       "      <td>-80.000008</td>\n",
       "      <td>-80.000008</td>\n",
       "      <td>-80.000008</td>\n",
       "    </tr>\n",
       "    <tr>\n",
       "      <th>25%</th>\n",
       "      <td>-80.000000</td>\n",
       "      <td>-80.000000</td>\n",
       "      <td>-80.000000</td>\n",
       "      <td>-80.000000</td>\n",
       "      <td>-80.000000</td>\n",
       "      <td>-80.000000</td>\n",
       "      <td>-80.000000</td>\n",
       "      <td>-80.000000</td>\n",
       "      <td>-80.000000</td>\n",
       "      <td>-80.000000</td>\n",
       "      <td>...</td>\n",
       "      <td>-80.000000</td>\n",
       "      <td>-80.000000</td>\n",
       "      <td>-80.000000</td>\n",
       "      <td>-80.000000</td>\n",
       "      <td>-80.000000</td>\n",
       "      <td>-80.000000</td>\n",
       "      <td>-80.000000</td>\n",
       "      <td>-80.000000</td>\n",
       "      <td>-80.000000</td>\n",
       "      <td>-80.000000</td>\n",
       "    </tr>\n",
       "    <tr>\n",
       "      <th>50%</th>\n",
       "      <td>-80.000000</td>\n",
       "      <td>-80.000000</td>\n",
       "      <td>-80.000000</td>\n",
       "      <td>-80.000000</td>\n",
       "      <td>-80.000000</td>\n",
       "      <td>-80.000000</td>\n",
       "      <td>-80.000000</td>\n",
       "      <td>-80.000000</td>\n",
       "      <td>-80.000000</td>\n",
       "      <td>-80.000000</td>\n",
       "      <td>...</td>\n",
       "      <td>-80.000000</td>\n",
       "      <td>-80.000000</td>\n",
       "      <td>-80.000000</td>\n",
       "      <td>-80.000000</td>\n",
       "      <td>-80.000000</td>\n",
       "      <td>-80.000000</td>\n",
       "      <td>-80.000000</td>\n",
       "      <td>-80.000000</td>\n",
       "      <td>-80.000000</td>\n",
       "      <td>-80.000000</td>\n",
       "    </tr>\n",
       "    <tr>\n",
       "      <th>75%</th>\n",
       "      <td>-79.342644</td>\n",
       "      <td>-76.549866</td>\n",
       "      <td>-72.794357</td>\n",
       "      <td>-73.025360</td>\n",
       "      <td>-72.894760</td>\n",
       "      <td>-73.220886</td>\n",
       "      <td>-72.468605</td>\n",
       "      <td>-73.612885</td>\n",
       "      <td>-73.860756</td>\n",
       "      <td>-71.739555</td>\n",
       "      <td>...</td>\n",
       "      <td>-80.000000</td>\n",
       "      <td>-80.000000</td>\n",
       "      <td>-80.000000</td>\n",
       "      <td>-80.000000</td>\n",
       "      <td>-80.000000</td>\n",
       "      <td>-80.000000</td>\n",
       "      <td>-80.000000</td>\n",
       "      <td>-80.000000</td>\n",
       "      <td>-80.000000</td>\n",
       "      <td>-80.000000</td>\n",
       "    </tr>\n",
       "    <tr>\n",
       "      <th>max</th>\n",
       "      <td>-24.115877</td>\n",
       "      <td>-26.564022</td>\n",
       "      <td>-24.000797</td>\n",
       "      <td>-16.702932</td>\n",
       "      <td>-13.511412</td>\n",
       "      <td>-17.305256</td>\n",
       "      <td>-19.522568</td>\n",
       "      <td>-23.756063</td>\n",
       "      <td>-18.200558</td>\n",
       "      <td>-16.645889</td>\n",
       "      <td>...</td>\n",
       "      <td>-79.999992</td>\n",
       "      <td>-79.999992</td>\n",
       "      <td>-79.999992</td>\n",
       "      <td>-79.999992</td>\n",
       "      <td>-79.999992</td>\n",
       "      <td>-79.999992</td>\n",
       "      <td>-79.999992</td>\n",
       "      <td>-79.999992</td>\n",
       "      <td>-79.999992</td>\n",
       "      <td>-79.999992</td>\n",
       "    </tr>\n",
       "  </tbody>\n",
       "</table>\n",
       "<p>8 rows × 8192 columns</p>\n",
       "</div>"
      ],
      "text/plain": [
       "          pixel_0     pixel_1     pixel_2     pixel_3     pixel_4     pixel_5  \\\n",
       "count  277.000000  277.000000  277.000000  277.000000  277.000000  277.000000   \n",
       "mean   -75.960172  -74.352064  -73.268885  -73.278650  -73.155587  -73.215246   \n",
       "std      9.897928   11.403480   12.425619   12.530003   12.862007   12.706503   \n",
       "min    -80.000008  -80.000008  -80.000008  -80.000008  -80.000008  -80.000008   \n",
       "25%    -80.000000  -80.000000  -80.000000  -80.000000  -80.000000  -80.000000   \n",
       "50%    -80.000000  -80.000000  -80.000000  -80.000000  -80.000000  -80.000000   \n",
       "75%    -79.342644  -76.549866  -72.794357  -73.025360  -72.894760  -73.220886   \n",
       "max    -24.115877  -26.564022  -24.000797  -16.702932  -13.511412  -17.305256   \n",
       "\n",
       "          pixel_6     pixel_7     pixel_8     pixel_9  ...  pixel_8182  \\\n",
       "count  277.000000  277.000000  277.000000  277.000000  ...  277.000000   \n",
       "mean   -73.109967  -73.164568  -72.808128  -72.612024  ...  -80.000000   \n",
       "std     12.801425   12.688064   13.190954   13.178017  ...    0.000002   \n",
       "min    -80.000008  -80.000008  -80.000008  -80.000008  ...  -80.000008   \n",
       "25%    -80.000000  -80.000000  -80.000000  -80.000000  ...  -80.000000   \n",
       "50%    -80.000000  -80.000000  -80.000000  -80.000000  ...  -80.000000   \n",
       "75%    -72.468605  -73.612885  -73.860756  -71.739555  ...  -80.000000   \n",
       "max    -19.522568  -23.756063  -18.200558  -16.645889  ...  -79.999992   \n",
       "\n",
       "       pixel_8183  pixel_8184  pixel_8185  pixel_8186  pixel_8187  pixel_8188  \\\n",
       "count  277.000000  277.000000  277.000000  277.000000  277.000000  277.000000   \n",
       "mean   -80.000000  -80.000000  -80.000000  -80.000000  -80.000000  -80.000000   \n",
       "std      0.000002    0.000002    0.000002    0.000002    0.000002    0.000002   \n",
       "min    -80.000008  -80.000008  -80.000008  -80.000008  -80.000008  -80.000008   \n",
       "25%    -80.000000  -80.000000  -80.000000  -80.000000  -80.000000  -80.000000   \n",
       "50%    -80.000000  -80.000000  -80.000000  -80.000000  -80.000000  -80.000000   \n",
       "75%    -80.000000  -80.000000  -80.000000  -80.000000  -80.000000  -80.000000   \n",
       "max    -79.999992  -79.999992  -79.999992  -79.999992  -79.999992  -79.999992   \n",
       "\n",
       "       pixel_8189  pixel_8190  pixel_8191  \n",
       "count  277.000000  277.000000  277.000000  \n",
       "mean   -80.000000  -80.000000  -80.000000  \n",
       "std      0.000002    0.000002    0.000002  \n",
       "min    -80.000008  -80.000008  -80.000008  \n",
       "25%    -80.000000  -80.000000  -80.000000  \n",
       "50%    -80.000000  -80.000000  -80.000000  \n",
       "75%    -80.000000  -80.000000  -80.000000  \n",
       "max    -79.999992  -79.999992  -79.999992  \n",
       "\n",
       "[8 rows x 8192 columns]"
      ]
     },
     "execution_count": 5,
     "metadata": {},
     "output_type": "execute_result"
    }
   ],
   "source": [
    "data.describe()"
   ]
  },
  {
   "cell_type": "markdown",
   "id": "a893fe51",
   "metadata": {},
   "source": [
    "### 3.2.2. Remove Outliers"
   ]
  },
  {
   "cell_type": "code",
   "execution_count": 6,
   "id": "15a13243",
   "metadata": {},
   "outputs": [],
   "source": [
    "# no outlier to remove"
   ]
  },
  {
   "cell_type": "markdown",
   "id": "035232bd",
   "metadata": {},
   "source": [
    "# 4. Split Dataset into Training & Test Sets"
   ]
  },
  {
   "cell_type": "code",
   "execution_count": 7,
   "id": "483e0310",
   "metadata": {},
   "outputs": [],
   "source": [
    "target_name = \"label\"\n",
    "feature_name = list(data.columns.drop(target_name))"
   ]
  },
  {
   "cell_type": "code",
   "execution_count": 8,
   "id": "e9b7a616",
   "metadata": {},
   "outputs": [],
   "source": [
    "X = data[feature_name]\n",
    "y = data[target_name]"
   ]
  },
  {
   "cell_type": "code",
   "execution_count": 9,
   "id": "582ceb69",
   "metadata": {},
   "outputs": [],
   "source": [
    "X_train, X_test, y_train, y_test = train_test_split(X, y, test_size=0.20, shuffle=True)"
   ]
  },
  {
   "cell_type": "markdown",
   "id": "97132e1e",
   "metadata": {},
   "source": [
    "# 5. Data Preparation"
   ]
  },
  {
   "cell_type": "markdown",
   "id": "94dfcfe5",
   "metadata": {},
   "source": [
    "## ### 5.1. Ordinal Encoding"
   ]
  },
  {
   "cell_type": "markdown",
   "id": "32ec2396",
   "metadata": {},
   "source": [
    "## ### 5.2. One Hot Encoding"
   ]
  },
  {
   "cell_type": "markdown",
   "id": "79be1d27",
   "metadata": {},
   "source": [
    "## 5.3. Feature Scaling"
   ]
  },
  {
   "cell_type": "markdown",
   "id": "f5313294",
   "metadata": {},
   "source": [
    "### 5.3.1. Training Set"
   ]
  },
  {
   "cell_type": "code",
   "execution_count": 10,
   "id": "8c969f0a",
   "metadata": {},
   "outputs": [],
   "source": [
    "scaler = MinMaxScaler()\n",
    "X_train_scaled = scaler.fit_transform(X_train)"
   ]
  },
  {
   "cell_type": "markdown",
   "id": "bfdde918",
   "metadata": {},
   "source": [
    "### 5.3.2. Test Set"
   ]
  },
  {
   "cell_type": "code",
   "execution_count": 11,
   "id": "e6750b07",
   "metadata": {},
   "outputs": [],
   "source": [
    "X_test_scaled = scaler.transform(X_test)"
   ]
  },
  {
   "cell_type": "markdown",
   "id": "1f2d50f4",
   "metadata": {},
   "source": [
    "# 6. Model Creation"
   ]
  },
  {
   "cell_type": "markdown",
   "id": "a393645b",
   "metadata": {},
   "source": [
    "## 6.1. Setting Parameters"
   ]
  },
  {
   "cell_type": "code",
   "execution_count": 12,
   "id": "e41e4b20",
   "metadata": {},
   "outputs": [],
   "source": [
    "clf = MLPClassifier(\n",
    "    hidden_layer_sizes=(10),\n",
    "    activation=\"relu\",\n",
    "    learning_rate_init=0.0001,\n",
    "    max_iter=500,\n",
    "    batch_size=X_train_scaled.shape[0],\n",
    ")"
   ]
  },
  {
   "cell_type": "markdown",
   "id": "4a6fba3d-4049-4cf2-a178-c2e9d655525a",
   "metadata": {},
   "source": [
    "## 6.2. Train Model"
   ]
  },
  {
   "cell_type": "code",
   "execution_count": 13,
   "id": "11144b13-9734-41af-abaf-46f1fe227e41",
   "metadata": {},
   "outputs": [
    {
     "data": {
      "text/plain": [
       "MLPClassifier(batch_size=221, hidden_layer_sizes=10, learning_rate_init=0.0001,\n",
       "              max_iter=500)"
      ]
     },
     "execution_count": 13,
     "metadata": {},
     "output_type": "execute_result"
    }
   ],
   "source": [
    "clf.fit(X_train_scaled, y_train)"
   ]
  },
  {
   "cell_type": "markdown",
   "id": "dcc2726b-e2ca-4ed4-8732-a63d212c1800",
   "metadata": {},
   "source": [
    "## 6.3. Loss Curve"
   ]
  },
  {
   "cell_type": "code",
   "execution_count": 14,
   "id": "f97dac7e-fff4-484f-bb5f-37b169f7e887",
   "metadata": {
    "tags": []
   },
   "outputs": [
    {
     "data": {
      "text/plain": [
       "<matplotlib.legend.Legend at 0x1d4a6708d90>"
      ]
     },
     "execution_count": 14,
     "metadata": {},
     "output_type": "execute_result"
    },
    {
     "data": {
      "image/png": "[encoded data removed]",
      "text/plain": [
       "<Figure size 640x480 with 1 Axes>"
      ]
     },
     "metadata": {},
     "output_type": "display_data"
    }
   ],
   "source": [
    "plt.plot(clf.loss_curve_, label=\"training_loss\")\n",
    "plt.xlabel(\"epoch\")\n",
    "plt.ylabel(\"loss\")\n",
    "plt.legend()"
   ]
  },
  {
   "cell_type": "markdown",
   "id": "da0c1303-5c3e-46ff-ab2f-c1101f06b8bd",
   "metadata": {},
   "source": [
    "## 6.4. Model's Weight & Bias"
   ]
  },
  {
   "cell_type": "code",
   "execution_count": 15,
   "id": "43c227c0-90e5-4ae5-b7ee-e34b682d13a4",
   "metadata": {},
   "outputs": [
    {
     "name": "stdout",
     "output_type": "stream",
     "text": [
      "(8192, 10)\n",
      "(10, 1)\n"
     ]
    }
   ],
   "source": [
    "for coef_ in clf.coefs_:\n",
    "    print(coef_.shape)"
   ]
  },
  {
   "cell_type": "code",
   "execution_count": 16,
   "id": "994d8ef2-1067-4b76-81ab-e4c3fe214e6d",
   "metadata": {
    "tags": []
   },
   "outputs": [
    {
     "name": "stdout",
     "output_type": "stream",
     "text": [
      "(10,)\n",
      "(1,)\n"
     ]
    }
   ],
   "source": [
    "for intercept_ in clf.intercepts_:\n",
    "    print(intercept_.shape)"
   ]
  },
  {
   "cell_type": "markdown",
   "id": "3dea0482-df22-4888-8641-a2ab0fee9695",
   "metadata": {},
   "source": [
    "# 7. Prediction"
   ]
  },
  {
   "cell_type": "markdown",
   "id": "c54d216b-a4d2-4763-85db-f49e96347b22",
   "metadata": {},
   "source": [
    "## 7.1. Training Set"
   ]
  },
  {
   "cell_type": "code",
   "execution_count": 17,
   "id": "312d4755-b55c-4ac3-9fe6-df4b02f77264",
   "metadata": {},
   "outputs": [],
   "source": [
    "y_pred_train = clf.predict(X_train_scaled)"
   ]
  },
  {
   "cell_type": "markdown",
   "id": "261322f5-1e20-4e5c-884d-0621f5bd88fb",
   "metadata": {},
   "source": [
    "## 7.2. Test Set"
   ]
  },
  {
   "cell_type": "code",
   "execution_count": 18,
   "id": "a6db99f6-622d-4c0d-947c-7c44c291f1b6",
   "metadata": {},
   "outputs": [],
   "source": [
    "y_pred_test = clf.predict(X_test_scaled)"
   ]
  },
  {
   "cell_type": "markdown",
   "id": "e0091b81-6fca-49b3-9d2a-c2e9b0b73a37",
   "metadata": {},
   "source": [
    "# 8. Model Evaluation"
   ]
  },
  {
   "cell_type": "markdown",
   "id": "204bcd49-0871-4979-938e-fab697c234ae",
   "metadata": {},
   "source": [
    "## 8.1. Training Set"
   ]
  },
  {
   "cell_type": "markdown",
   "id": "a5865cfa-842f-4441-ba77-4e40dc85d671",
   "metadata": {},
   "source": [
    "### 8.1.1. Confusion Matrix"
   ]
  },
  {
   "cell_type": "code",
   "execution_count": 19,
   "id": "0f821eae-4d2c-4ada-b6d4-553712ed549f",
   "metadata": {},
   "outputs": [
    {
     "data": {
      "text/plain": [
       "<sklearn.metrics._plot.confusion_matrix.ConfusionMatrixDisplay at 0x1d4a7ec1e20>"
      ]
     },
     "execution_count": 19,
     "metadata": {},
     "output_type": "execute_result"
    },
    {
     "data": {
      "image/png": "[encoded data removed]",
      "text/plain": [
       "<Figure size 640x480 with 2 Axes>"
      ]
     },
     "metadata": {},
     "output_type": "display_data"
    }
   ],
   "source": [
    "plot_confusion_matrix(clf, X_train_scaled, y_train)"
   ]
  },
  {
   "cell_type": "markdown",
   "id": "ea165b96-c420-4bee-9dd1-667d65d16064",
   "metadata": {},
   "source": [
    "### 8.1.2. Scoring"
   ]
  },
  {
   "cell_type": "code",
   "execution_count": 20,
   "id": "810e7a85-538a-49e0-b0f7-1704a3b19f00",
   "metadata": {},
   "outputs": [],
   "source": [
    "report = classification_report(y_train, y_pred_train, output_dict=True)"
   ]
  },
  {
   "cell_type": "code",
   "execution_count": 21,
   "id": "ca752ff7-0fa1-4924-964f-3f0d7b25b06f",
   "metadata": {},
   "outputs": [
    {
     "data": {
      "text/html": [
       "<div>\n",
       "<style scoped>\n",
       "    .dataframe tbody tr th:only-of-type {\n",
       "        vertical-align: middle;\n",
       "    }\n",
       "\n",
       "    .dataframe tbody tr th {\n",
       "        vertical-align: top;\n",
       "    }\n",
       "\n",
       "    .dataframe thead th {\n",
       "        text-align: right;\n",
       "    }\n",
       "</style>\n",
       "<table border=\"1\" class=\"dataframe\">\n",
       "  <thead>\n",
       "    <tr style=\"text-align: right;\">\n",
       "      <th></th>\n",
       "      <th>precision</th>\n",
       "      <th>recall</th>\n",
       "      <th>f1-score</th>\n",
       "      <th>support</th>\n",
       "    </tr>\n",
       "  </thead>\n",
       "  <tbody>\n",
       "    <tr>\n",
       "      <th>cat</th>\n",
       "      <td>0.985401</td>\n",
       "      <td>1.000000</td>\n",
       "      <td>0.992647</td>\n",
       "      <td>135.00000</td>\n",
       "    </tr>\n",
       "    <tr>\n",
       "      <th>dog</th>\n",
       "      <td>1.000000</td>\n",
       "      <td>0.976744</td>\n",
       "      <td>0.988235</td>\n",
       "      <td>86.00000</td>\n",
       "    </tr>\n",
       "    <tr>\n",
       "      <th>accuracy</th>\n",
       "      <td>0.990950</td>\n",
       "      <td>0.990950</td>\n",
       "      <td>0.990950</td>\n",
       "      <td>0.99095</td>\n",
       "    </tr>\n",
       "    <tr>\n",
       "      <th>macro avg</th>\n",
       "      <td>0.992701</td>\n",
       "      <td>0.988372</td>\n",
       "      <td>0.990441</td>\n",
       "      <td>221.00000</td>\n",
       "    </tr>\n",
       "    <tr>\n",
       "      <th>weighted avg</th>\n",
       "      <td>0.991082</td>\n",
       "      <td>0.990950</td>\n",
       "      <td>0.990930</td>\n",
       "      <td>221.00000</td>\n",
       "    </tr>\n",
       "  </tbody>\n",
       "</table>\n",
       "</div>"
      ],
      "text/plain": [
       "              precision    recall  f1-score    support\n",
       "cat            0.985401  1.000000  0.992647  135.00000\n",
       "dog            1.000000  0.976744  0.988235   86.00000\n",
       "accuracy       0.990950  0.990950  0.990950    0.99095\n",
       "macro avg      0.992701  0.988372  0.990441  221.00000\n",
       "weighted avg   0.991082  0.990950  0.990930  221.00000"
      ]
     },
     "execution_count": 21,
     "metadata": {},
     "output_type": "execute_result"
    }
   ],
   "source": [
    "pd.DataFrame.from_dict(report).T"
   ]
  },
  {
   "cell_type": "markdown",
   "id": "472ca8ea-0e2c-4d76-88b1-59ed9fac0626",
   "metadata": {},
   "source": [
    "## 8.2. Test Set"
   ]
  },
  {
   "cell_type": "markdown",
   "id": "66889e07-a725-4e30-9fff-b9257c480eda",
   "metadata": {},
   "source": [
    "### 8.2.1. Confusion Matrix"
   ]
  },
  {
   "cell_type": "code",
   "execution_count": 22,
   "id": "041af660-8ac2-4094-b6ab-10d6c853fb9a",
   "metadata": {},
   "outputs": [
    {
     "data": {
      "text/plain": [
       "<sklearn.metrics._plot.confusion_matrix.ConfusionMatrixDisplay at 0x1d4a63be2b0>"
      ]
     },
     "execution_count": 22,
     "metadata": {},
     "output_type": "execute_result"
    },
    {
     "data": {
      "image/png": "[encoded data removed]",
      "text/plain": [
       "<Figure size 640x480 with 2 Axes>"
      ]
     },
     "metadata": {},
     "output_type": "display_data"
    }
   ],
   "source": [
    "plot_confusion_matrix(clf, X_test_scaled, y_test)"
   ]
  },
  {
   "cell_type": "markdown",
   "id": "610f4673-e386-4161-bc6b-c91c7126c189",
   "metadata": {},
   "source": [
    "### 8.2.2. Scoring"
   ]
  },
  {
   "cell_type": "code",
   "execution_count": 23,
   "id": "166c5bb9-0487-4a28-8208-9715a1df7454",
   "metadata": {},
   "outputs": [],
   "source": [
    "report = classification_report(y_test, y_pred_test, output_dict=True)"
   ]
  },
  {
   "cell_type": "code",
   "execution_count": 24,
   "id": "8cd9388c-baed-48d1-8210-2bcc8da784fd",
   "metadata": {
    "tags": []
   },
   "outputs": [
    {
     "data": {
      "text/html": [
       "<div>\n",
       "<style scoped>\n",
       "    .dataframe tbody tr th:only-of-type {\n",
       "        vertical-align: middle;\n",
       "    }\n",
       "\n",
       "    .dataframe tbody tr th {\n",
       "        vertical-align: top;\n",
       "    }\n",
       "\n",
       "    .dataframe thead th {\n",
       "        text-align: right;\n",
       "    }\n",
       "</style>\n",
       "<table border=\"1\" class=\"dataframe\">\n",
       "  <thead>\n",
       "    <tr style=\"text-align: right;\">\n",
       "      <th></th>\n",
       "      <th>precision</th>\n",
       "      <th>recall</th>\n",
       "      <th>f1-score</th>\n",
       "      <th>support</th>\n",
       "    </tr>\n",
       "  </thead>\n",
       "  <tbody>\n",
       "    <tr>\n",
       "      <th>cat</th>\n",
       "      <td>0.787879</td>\n",
       "      <td>0.896552</td>\n",
       "      <td>0.838710</td>\n",
       "      <td>29.000000</td>\n",
       "    </tr>\n",
       "    <tr>\n",
       "      <th>dog</th>\n",
       "      <td>0.869565</td>\n",
       "      <td>0.740741</td>\n",
       "      <td>0.800000</td>\n",
       "      <td>27.000000</td>\n",
       "    </tr>\n",
       "    <tr>\n",
       "      <th>accuracy</th>\n",
       "      <td>0.821429</td>\n",
       "      <td>0.821429</td>\n",
       "      <td>0.821429</td>\n",
       "      <td>0.821429</td>\n",
       "    </tr>\n",
       "    <tr>\n",
       "      <th>macro avg</th>\n",
       "      <td>0.828722</td>\n",
       "      <td>0.818646</td>\n",
       "      <td>0.819355</td>\n",
       "      <td>56.000000</td>\n",
       "    </tr>\n",
       "    <tr>\n",
       "      <th>weighted avg</th>\n",
       "      <td>0.827263</td>\n",
       "      <td>0.821429</td>\n",
       "      <td>0.820046</td>\n",
       "      <td>56.000000</td>\n",
       "    </tr>\n",
       "  </tbody>\n",
       "</table>\n",
       "</div>"
      ],
      "text/plain": [
       "              precision    recall  f1-score    support\n",
       "cat            0.787879  0.896552  0.838710  29.000000\n",
       "dog            0.869565  0.740741  0.800000  27.000000\n",
       "accuracy       0.821429  0.821429  0.821429   0.821429\n",
       "macro avg      0.828722  0.818646  0.819355  56.000000\n",
       "weighted avg   0.827263  0.821429  0.820046  56.000000"
      ]
     },
     "execution_count": 24,
     "metadata": {},
     "output_type": "execute_result"
    }
   ],
   "source": [
    "pd.DataFrame.from_dict(report).T"
   ]
  },
  {
   "cell_type": "markdown",
   "id": "e984a7b4-eace-45a7-ba04-7a2ac14f4f6d",
   "metadata": {},
   "source": [
    "# 9. Save Model"
   ]
  },
  {
   "cell_type": "code",
   "execution_count": 25,
   "id": "22edde77-e974-4a02-a320-f717bcaeb471",
   "metadata": {},
   "outputs": [],
   "source": [
    "import pickle"
   ]
  },
  {
   "cell_type": "code",
   "execution_count": 26,
   "id": "c1306c4f",
   "metadata": {},
   "outputs": [],
   "source": [
    "pickle.dump((clf, scaler), open(\"cat_dog_model.pickle\", \"wb\"))"
   ]
  }
 ],
 "metadata": {
  "kernelspec": {
   "display_name": "Python 3 (ipykernel)",
   "language": "python",
   "name": "python3"
  },
  "language_info": {
   "codemirror_mode": {
    "name": "ipython",
    "version": 3
   },
   "file_extension": ".py",
   "mimetype": "text/x-python",
   "name": "python",
   "nbconvert_exporter": "python",
   "pygments_lexer": "ipython3",
   "version": "3.8.13"
  }
 },
 "nbformat": 4,
 "nbformat_minor": 5
}
