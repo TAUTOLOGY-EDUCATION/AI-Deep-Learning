{
 "cells": [
  {
   "cell_type": "code",
   "execution_count": 1,
   "id": "0c2d9e84-3570-462a-af4e-60ddff3c21fd",
   "metadata": {},
   "outputs": [],
   "source": [
    "import pickle\n",
    "\n",
    "import numpy as np\n",
    "import pandas as pd"
   ]
  },
  {
   "cell_type": "code",
   "execution_count": 2,
   "id": "954f036e-4892-4608-b169-4392d63a4811",
   "metadata": {},
   "outputs": [
    {
     "name": "stderr",
     "output_type": "stream",
     "text": [
      "C:\\ProgramData\\Anaconda3\\lib\\site-packages\\scipy\\__init__.py:138: UserWarning: A NumPy version >=1.16.5 and <1.23.0 is required for this version of SciPy (detected version 1.23.1)\n",
      "  warnings.warn(f\"A NumPy version >={np_minversion} and <{np_maxversion} is required for this version of \"\n"
     ]
    }
   ],
   "source": [
    "saved_model = pickle.load(open(\"salary_model.pickle\", \"rb\"))"
   ]
  },
  {
   "cell_type": "code",
   "execution_count": 3,
   "id": "f28fe51e-7e95-492d-81ff-d5fb8f9ca3c7",
   "metadata": {},
   "outputs": [],
   "source": [
    "reg = saved_model[0]\n",
    "ordinal_encoder = saved_model[1]\n",
    "one_hot_encoder = saved_model[2]\n",
    "feature_name = saved_model[3]\n",
    "numerical_feature = saved_model[4]\n",
    "ordinal_feature = saved_model[5]\n",
    "nominal_feature = saved_model[6]"
   ]
  },
  {
   "cell_type": "code",
   "execution_count": 4,
   "id": "2c547980-e71f-4d85-a0a1-3fc891774daf",
   "metadata": {},
   "outputs": [
    {
     "data": {
      "text/plain": [
       "['age', 'experience', 'gpa', 'degree', 'position']"
      ]
     },
     "execution_count": 4,
     "metadata": {},
     "output_type": "execute_result"
    }
   ],
   "source": [
    "feature_name"
   ]
  },
  {
   "cell_type": "code",
   "execution_count": 5,
   "id": "d46280ce-eb09-4fe2-908a-16a7423fc9f3",
   "metadata": {},
   "outputs": [],
   "source": [
    "age = 25\n",
    "experience = 2\n",
    "gpa = 3.5\n",
    "degree = \"bachelor\"\n",
    "position = \"engineer\""
   ]
  },
  {
   "cell_type": "code",
   "execution_count": 6,
   "id": "735ef88e-e8a1-457c-ab74-b00b6a9b48de",
   "metadata": {},
   "outputs": [
    {
     "data": {
      "text/html": [
       "<div>\n",
       "<style scoped>\n",
       "    .dataframe tbody tr th:only-of-type {\n",
       "        vertical-align: middle;\n",
       "    }\n",
       "\n",
       "    .dataframe tbody tr th {\n",
       "        vertical-align: top;\n",
       "    }\n",
       "\n",
       "    .dataframe thead th {\n",
       "        text-align: right;\n",
       "    }\n",
       "</style>\n",
       "<table border=\"1\" class=\"dataframe\">\n",
       "  <thead>\n",
       "    <tr style=\"text-align: right;\">\n",
       "      <th></th>\n",
       "      <th>age</th>\n",
       "      <th>experience</th>\n",
       "      <th>gpa</th>\n",
       "      <th>degree</th>\n",
       "      <th>position</th>\n",
       "    </tr>\n",
       "  </thead>\n",
       "  <tbody>\n",
       "    <tr>\n",
       "      <th>0</th>\n",
       "      <td>25</td>\n",
       "      <td>2</td>\n",
       "      <td>3.5</td>\n",
       "      <td>bachelor</td>\n",
       "      <td>engineer</td>\n",
       "    </tr>\n",
       "  </tbody>\n",
       "</table>\n",
       "</div>"
      ],
      "text/plain": [
       "  age experience  gpa    degree  position\n",
       "0  25          2  3.5  bachelor  engineer"
      ]
     },
     "execution_count": 6,
     "metadata": {},
     "output_type": "execute_result"
    }
   ],
   "source": [
    "incoming_data = pd.DataFrame(\n",
    "    np.array([[age, experience, gpa, degree, position]]),\n",
    "    columns=feature_name,\n",
    ")\n",
    "\n",
    "incoming_data"
   ]
  },
  {
   "cell_type": "code",
   "execution_count": 7,
   "id": "5a0e4006-592f-4901-8c9c-b9402190afe8",
   "metadata": {},
   "outputs": [
    {
     "name": "stdout",
     "output_type": "stream",
     "text": [
      "numerical_feature : ['age', 'experience', 'gpa']\n",
      "ordinal_feature : ['degree']\n",
      "nominal_feature : ['position']\n"
     ]
    }
   ],
   "source": [
    "print(\"numerical_feature :\", numerical_feature)\n",
    "print(\"ordinal_feature :\", ordinal_feature)\n",
    "print(\"nominal_feature :\", nominal_feature)"
   ]
  },
  {
   "cell_type": "markdown",
   "id": "8e0a0b6e-2499-4d1e-9004-c76c30360479",
   "metadata": {},
   "source": [
    "### Ordinal Encoding"
   ]
  },
  {
   "cell_type": "code",
   "execution_count": 8,
   "id": "ca7ed206-0dce-4a97-8449-d895e6fdd26a",
   "metadata": {},
   "outputs": [],
   "source": [
    "incoming_data[ordinal_feature] = ordinal_encoder.transform(\n",
    "    incoming_data[ordinal_feature]\n",
    ")"
   ]
  },
  {
   "cell_type": "markdown",
   "id": "b50b5ce3-b170-48bf-9743-b5ddb8155df3",
   "metadata": {},
   "source": [
    "### One Hot Encoding"
   ]
  },
  {
   "cell_type": "code",
   "execution_count": 9,
   "id": "1d998f44-cf16-49d6-9b94-6c31eb1619f0",
   "metadata": {},
   "outputs": [],
   "source": [
    "one_hot_feature = one_hot_encoder.categories_[0]\n",
    "\n",
    "incoming_data[one_hot_feature] = one_hot_encoder.transform(\n",
    "    incoming_data[nominal_feature]\n",
    ")\n",
    "incoming_data.drop(nominal_feature, axis=1, inplace=True)"
   ]
  },
  {
   "cell_type": "code",
   "execution_count": 10,
   "id": "b546c33c-4c8d-4f21-b2f1-06eecde80b5e",
   "metadata": {},
   "outputs": [
    {
     "data": {
      "text/html": [
       "<div>\n",
       "<style scoped>\n",
       "    .dataframe tbody tr th:only-of-type {\n",
       "        vertical-align: middle;\n",
       "    }\n",
       "\n",
       "    .dataframe tbody tr th {\n",
       "        vertical-align: top;\n",
       "    }\n",
       "\n",
       "    .dataframe thead th {\n",
       "        text-align: right;\n",
       "    }\n",
       "</style>\n",
       "<table border=\"1\" class=\"dataframe\">\n",
       "  <thead>\n",
       "    <tr style=\"text-align: right;\">\n",
       "      <th></th>\n",
       "      <th>age</th>\n",
       "      <th>experience</th>\n",
       "      <th>gpa</th>\n",
       "      <th>degree</th>\n",
       "      <th>accountant</th>\n",
       "      <th>engineer</th>\n",
       "      <th>secretary</th>\n",
       "    </tr>\n",
       "  </thead>\n",
       "  <tbody>\n",
       "    <tr>\n",
       "      <th>0</th>\n",
       "      <td>25</td>\n",
       "      <td>2</td>\n",
       "      <td>3.5</td>\n",
       "      <td>0.0</td>\n",
       "      <td>0.0</td>\n",
       "      <td>1.0</td>\n",
       "      <td>0.0</td>\n",
       "    </tr>\n",
       "  </tbody>\n",
       "</table>\n",
       "</div>"
      ],
      "text/plain": [
       "  age experience  gpa  degree  accountant  engineer  secretary\n",
       "0  25          2  3.5     0.0         0.0       1.0        0.0"
      ]
     },
     "execution_count": 10,
     "metadata": {},
     "output_type": "execute_result"
    }
   ],
   "source": [
    "incoming_data"
   ]
  },
  {
   "cell_type": "markdown",
   "id": "9693fcfa-6969-451a-a095-a9d11ec4ae91",
   "metadata": {},
   "source": [
    "### Prediction"
   ]
  },
  {
   "cell_type": "code",
   "execution_count": 11,
   "id": "2d1ba588-7bde-4fec-ae2f-e30b948e327b",
   "metadata": {},
   "outputs": [],
   "source": [
    "predicted_target = reg.predict(incoming_data)"
   ]
  },
  {
   "cell_type": "code",
   "execution_count": 12,
   "id": "38893296-27e1-422d-ad24-e6c0153b7838",
   "metadata": {},
   "outputs": [
    {
     "data": {
      "text/plain": [
       "array([26629.0894352])"
      ]
     },
     "execution_count": 12,
     "metadata": {},
     "output_type": "execute_result"
    }
   ],
   "source": [
    "predicted_target"
   ]
  }
 ],
 "metadata": {
  "kernelspec": {
   "display_name": "Python 3 (ipykernel)",
   "language": "python",
   "name": "python3"
  },
  "language_info": {
   "codemirror_mode": {
    "name": "ipython",
    "version": 3
   },
   "file_extension": ".py",
   "mimetype": "text/x-python",
   "name": "python",
   "nbconvert_exporter": "python",
   "pygments_lexer": "ipython3",
   "version": "3.8.13"
  }
 },
 "nbformat": 4,
 "nbformat_minor": 5
}
