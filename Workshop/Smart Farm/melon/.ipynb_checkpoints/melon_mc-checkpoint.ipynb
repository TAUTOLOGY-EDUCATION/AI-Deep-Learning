{
 "cells": [
  {
   "cell_type": "markdown",
   "id": "5ea7a034",
   "metadata": {},
   "source": [
    "# 1. Import Libraries"
   ]
  },
  {
   "cell_type": "code",
   "execution_count": 1,
   "id": "84e820f1",
   "metadata": {},
   "outputs": [
    {
     "name": "stderr",
     "output_type": "stream",
     "text": [
      "C:\\ProgramData\\Anaconda3\\lib\\site-packages\\scipy\\__init__.py:138: UserWarning: A NumPy version >=1.16.5 and <1.23.0 is required for this version of SciPy (detected version 1.23.1)\n",
      "  warnings.warn(f\"A NumPy version >={np_minversion} and <{np_maxversion} is required for this version of \"\n"
     ]
    }
   ],
   "source": [
    "import warnings\n",
    "\n",
    "import matplotlib.pyplot as plt\n",
    "import numpy as np\n",
    "import pandas as pd\n",
    "from sklearn.metrics import (\n",
    "    mean_absolute_error,\n",
    "    mean_absolute_percentage_error,\n",
    "    mean_squared_error,\n",
    "    r2_score,\n",
    ")\n",
    "from sklearn.model_selection import train_test_split\n",
    "from sklearn.neural_network import MLPRegressor\n",
    "from sklearn.preprocessing import MinMaxScaler, OneHotEncoder, OrdinalEncoder\n",
    "\n",
    "warnings.filterwarnings(\"ignore\")\n",
    "\n",
    "np.random.seed(12345)"
   ]
  },
  {
   "cell_type": "markdown",
   "id": "cc607e70",
   "metadata": {},
   "source": [
    "# 2. Read Data"
   ]
  },
  {
   "cell_type": "code",
   "execution_count": 2,
   "id": "48a1e2f2",
   "metadata": {},
   "outputs": [
    {
     "data": {
      "text/html": [
       "<div>\n",
       "<style scoped>\n",
       "    .dataframe tbody tr th:only-of-type {\n",
       "        vertical-align: middle;\n",
       "    }\n",
       "\n",
       "    .dataframe tbody tr th {\n",
       "        vertical-align: top;\n",
       "    }\n",
       "\n",
       "    .dataframe thead th {\n",
       "        text-align: right;\n",
       "    }\n",
       "</style>\n",
       "<table border=\"1\" class=\"dataframe\">\n",
       "  <thead>\n",
       "    <tr style=\"text-align: right;\">\n",
       "      <th></th>\n",
       "      <th>SOIL TYPE</th>\n",
       "      <th>REGION</th>\n",
       "      <th>TEMPERATURE</th>\n",
       "      <th>WEATHER CONDITION</th>\n",
       "      <th>WATER REQUIREMENT</th>\n",
       "    </tr>\n",
       "  </thead>\n",
       "  <tbody>\n",
       "    <tr>\n",
       "      <th>0</th>\n",
       "      <td>DRY</td>\n",
       "      <td>DESERT</td>\n",
       "      <td>10-20</td>\n",
       "      <td>NORMAL</td>\n",
       "      <td>6.12</td>\n",
       "    </tr>\n",
       "    <tr>\n",
       "      <th>1</th>\n",
       "      <td>DRY</td>\n",
       "      <td>DESERT</td>\n",
       "      <td>10-20</td>\n",
       "      <td>SUNNY</td>\n",
       "      <td>7.62</td>\n",
       "    </tr>\n",
       "    <tr>\n",
       "      <th>2</th>\n",
       "      <td>DRY</td>\n",
       "      <td>DESERT</td>\n",
       "      <td>10-20</td>\n",
       "      <td>WINDY</td>\n",
       "      <td>7.12</td>\n",
       "    </tr>\n",
       "    <tr>\n",
       "      <th>3</th>\n",
       "      <td>DRY</td>\n",
       "      <td>DESERT</td>\n",
       "      <td>10-20</td>\n",
       "      <td>RAINY</td>\n",
       "      <td>0.50</td>\n",
       "    </tr>\n",
       "    <tr>\n",
       "      <th>4</th>\n",
       "      <td>DRY</td>\n",
       "      <td>DESERT</td>\n",
       "      <td>20-30</td>\n",
       "      <td>NORMAL</td>\n",
       "      <td>7.12</td>\n",
       "    </tr>\n",
       "    <tr>\n",
       "      <th>...</th>\n",
       "      <td>...</td>\n",
       "      <td>...</td>\n",
       "      <td>...</td>\n",
       "      <td>...</td>\n",
       "      <td>...</td>\n",
       "    </tr>\n",
       "    <tr>\n",
       "      <th>187</th>\n",
       "      <td>WET</td>\n",
       "      <td>HUMID</td>\n",
       "      <td>30-40</td>\n",
       "      <td>RAINY</td>\n",
       "      <td>0.10</td>\n",
       "    </tr>\n",
       "    <tr>\n",
       "      <th>188</th>\n",
       "      <td>WET</td>\n",
       "      <td>HUMID</td>\n",
       "      <td>40-50</td>\n",
       "      <td>NORMAL</td>\n",
       "      <td>4.44</td>\n",
       "    </tr>\n",
       "    <tr>\n",
       "      <th>189</th>\n",
       "      <td>WET</td>\n",
       "      <td>HUMID</td>\n",
       "      <td>40-50</td>\n",
       "      <td>SUNNY</td>\n",
       "      <td>6.00</td>\n",
       "    </tr>\n",
       "    <tr>\n",
       "      <th>190</th>\n",
       "      <td>WET</td>\n",
       "      <td>HUMID</td>\n",
       "      <td>40-50</td>\n",
       "      <td>WINDY</td>\n",
       "      <td>5.50</td>\n",
       "    </tr>\n",
       "    <tr>\n",
       "      <th>191</th>\n",
       "      <td>WET</td>\n",
       "      <td>HUMID</td>\n",
       "      <td>40-50</td>\n",
       "      <td>RAINY</td>\n",
       "      <td>0.20</td>\n",
       "    </tr>\n",
       "  </tbody>\n",
       "</table>\n",
       "<p>192 rows × 5 columns</p>\n",
       "</div>"
      ],
      "text/plain": [
       "    SOIL TYPE  REGION TEMPERATURE WEATHER CONDITION  WATER REQUIREMENT\n",
       "0         DRY  DESERT       10-20            NORMAL               6.12\n",
       "1         DRY  DESERT       10-20             SUNNY               7.62\n",
       "2         DRY  DESERT       10-20             WINDY               7.12\n",
       "3         DRY  DESERT       10-20             RAINY               0.50\n",
       "4         DRY  DESERT       20-30            NORMAL               7.12\n",
       "..        ...     ...         ...               ...                ...\n",
       "187       WET   HUMID       30-40             RAINY               0.10\n",
       "188       WET   HUMID       40-50            NORMAL               4.44\n",
       "189       WET   HUMID       40-50             SUNNY               6.00\n",
       "190       WET   HUMID       40-50             WINDY               5.50\n",
       "191       WET   HUMID       40-50             RAINY               0.20\n",
       "\n",
       "[192 rows x 5 columns]"
      ]
     },
     "execution_count": 2,
     "metadata": {},
     "output_type": "execute_result"
    }
   ],
   "source": [
    "data = pd.read_excel(\"melon_dataset.xlsx\")\n",
    "\n",
    "data"
   ]
  },
  {
   "cell_type": "markdown",
   "id": "ce3c9b5c-6940-4db1-88ae-308a5e0426ad",
   "metadata": {},
   "source": [
    "# 3. Clean Data"
   ]
  },
  {
   "cell_type": "markdown",
   "id": "22479430-1d12-4f6b-8ee5-2f316f7ed3da",
   "metadata": {},
   "source": [
    "## 3.1. Handle Missing Values"
   ]
  },
  {
   "cell_type": "markdown",
   "id": "fd2f1b0c-a42a-4056-86db-b8ff3898ccd9",
   "metadata": {},
   "source": [
    "### 3.1.1. Check Missing Values"
   ]
  },
  {
   "cell_type": "code",
   "execution_count": 3,
   "id": "29cf69e2-2eed-4b63-b0ca-8ecfa44db457",
   "metadata": {},
   "outputs": [
    {
     "name": "stdout",
     "output_type": "stream",
     "text": [
      "<class 'pandas.core.frame.DataFrame'>\n",
      "RangeIndex: 192 entries, 0 to 191\n",
      "Data columns (total 5 columns):\n",
      " #   Column             Non-Null Count  Dtype  \n",
      "---  ------             --------------  -----  \n",
      " 0   SOIL TYPE          192 non-null    object \n",
      " 1   REGION             192 non-null    object \n",
      " 2   TEMPERATURE        192 non-null    object \n",
      " 3   WEATHER CONDITION  192 non-null    object \n",
      " 4   WATER REQUIREMENT  192 non-null    float64\n",
      "dtypes: float64(1), object(4)\n",
      "memory usage: 7.6+ KB\n"
     ]
    }
   ],
   "source": [
    "data.info()"
   ]
  },
  {
   "cell_type": "markdown",
   "id": "7602ebf0-2723-4519-9ea4-6de421cae356",
   "metadata": {},
   "source": [
    "### 3.1.2. Remove Missing Values (Listwise Deletion)"
   ]
  },
  {
   "cell_type": "code",
   "execution_count": 4,
   "id": "0e2c41d6-69f4-404a-b027-d30e69aff1fa",
   "metadata": {},
   "outputs": [],
   "source": [
    "# no NaN to remove\n",
    "# data.dropna(axis=0, inplace=True)"
   ]
  },
  {
   "cell_type": "markdown",
   "id": "a04e00b8-49de-4188-8e81-6618235c87b2",
   "metadata": {},
   "source": [
    "## 3.2. Handle Outliers"
   ]
  },
  {
   "cell_type": "markdown",
   "id": "336c1d8f-7d91-4e27-b086-c0f8c8efa42b",
   "metadata": {},
   "source": [
    "### 3.2.1. Check Outliers"
   ]
  },
  {
   "cell_type": "code",
   "execution_count": 5,
   "id": "700cc79e-b220-4ea2-8dfe-95c19e0413fd",
   "metadata": {},
   "outputs": [
    {
     "data": {
      "text/html": [
       "<div>\n",
       "<style scoped>\n",
       "    .dataframe tbody tr th:only-of-type {\n",
       "        vertical-align: middle;\n",
       "    }\n",
       "\n",
       "    .dataframe tbody tr th {\n",
       "        vertical-align: top;\n",
       "    }\n",
       "\n",
       "    .dataframe thead th {\n",
       "        text-align: right;\n",
       "    }\n",
       "</style>\n",
       "<table border=\"1\" class=\"dataframe\">\n",
       "  <thead>\n",
       "    <tr style=\"text-align: right;\">\n",
       "      <th></th>\n",
       "      <th>WATER REQUIREMENT</th>\n",
       "    </tr>\n",
       "  </thead>\n",
       "  <tbody>\n",
       "    <tr>\n",
       "      <th>count</th>\n",
       "      <td>192.000000</td>\n",
       "    </tr>\n",
       "    <tr>\n",
       "      <th>mean</th>\n",
       "      <td>7.820208</td>\n",
       "    </tr>\n",
       "    <tr>\n",
       "      <th>std</th>\n",
       "      <td>43.498118</td>\n",
       "    </tr>\n",
       "    <tr>\n",
       "      <th>min</th>\n",
       "      <td>0.100000</td>\n",
       "    </tr>\n",
       "    <tr>\n",
       "      <th>25%</th>\n",
       "      <td>1.360000</td>\n",
       "    </tr>\n",
       "    <tr>\n",
       "      <th>50%</th>\n",
       "      <td>5.380000</td>\n",
       "    </tr>\n",
       "    <tr>\n",
       "      <th>75%</th>\n",
       "      <td>7.030000</td>\n",
       "    </tr>\n",
       "    <tr>\n",
       "      <th>max</th>\n",
       "      <td>606.000000</td>\n",
       "    </tr>\n",
       "  </tbody>\n",
       "</table>\n",
       "</div>"
      ],
      "text/plain": [
       "       WATER REQUIREMENT\n",
       "count         192.000000\n",
       "mean            7.820208\n",
       "std            43.498118\n",
       "min             0.100000\n",
       "25%             1.360000\n",
       "50%             5.380000\n",
       "75%             7.030000\n",
       "max           606.000000"
      ]
     },
     "execution_count": 5,
     "metadata": {},
     "output_type": "execute_result"
    }
   ],
   "source": [
    "data.describe()"
   ]
  },
  {
   "cell_type": "markdown",
   "id": "c8c9f6ae-9971-465b-8d34-434d4a55781a",
   "metadata": {},
   "source": [
    "### 3.2.2. Remove Outliers"
   ]
  },
  {
   "cell_type": "code",
   "execution_count": 6,
   "id": "62a36ac4-6ca3-46f4-b29d-779077f62f65",
   "metadata": {},
   "outputs": [],
   "source": [
    "data = data[data[\"WATER REQUIREMENT\"] < 40]"
   ]
  },
  {
   "cell_type": "markdown",
   "id": "e0024d85-4789-4f76-b21f-6f1ac1265103",
   "metadata": {},
   "source": [
    "# 4. Split Dataset into Training & Test Sets"
   ]
  },
  {
   "cell_type": "code",
   "execution_count": 7,
   "id": "04cd4d07-d4c2-4192-9ea6-49cdb1ce7feb",
   "metadata": {},
   "outputs": [],
   "source": [
    "target_name = \"WATER REQUIREMENT\"\n",
    "feature_name = list(data.columns.drop(target_name))"
   ]
  },
  {
   "cell_type": "code",
   "execution_count": 8,
   "id": "db7e26d7-da6f-4f85-8dfc-aa93d31bf47b",
   "metadata": {},
   "outputs": [],
   "source": [
    "X = data[feature_name]\n",
    "y = data[target_name]"
   ]
  },
  {
   "cell_type": "code",
   "execution_count": 9,
   "id": "9c000cb8-901f-473f-b543-055cd3ae8778",
   "metadata": {},
   "outputs": [],
   "source": [
    "X_train, X_test, y_train, y_test = train_test_split(X, y, test_size=0.20, shuffle=True)"
   ]
  },
  {
   "cell_type": "markdown",
   "id": "6c9b0e00-d01e-4fd2-8c59-d0a5638bc000",
   "metadata": {},
   "source": [
    "# 5. Data Preparation"
   ]
  },
  {
   "cell_type": "code",
   "execution_count": 10,
   "id": "97274d50-4e51-45ab-b0fb-031f283f271c",
   "metadata": {},
   "outputs": [],
   "source": [
    "numerical_feature = []\n",
    "categorical_feature = [\"SOIL TYPE\", \"REGION\", \"TEMPERATURE\", \"WEATHER CONDITION\"]"
   ]
  },
  {
   "cell_type": "code",
   "execution_count": 11,
   "id": "2187de76-25eb-46e7-b969-16739e4a94a0",
   "metadata": {},
   "outputs": [
    {
     "name": "stdout",
     "output_type": "stream",
     "text": [
      "SOIL TYPE : ['DRY' 'HUMID' 'WET']\n",
      "REGION : ['DESERT' 'HUMID' 'SEMI ARID' 'SEMI HUMID']\n",
      "TEMPERATURE : ['10-20' '20-30' '30-40' '40-50']\n",
      "WEATHER CONDITION : ['NORMAL' 'RAINY' 'SUNNY' 'WINDY']\n"
     ]
    }
   ],
   "source": [
    "for feature in categorical_feature:\n",
    "    print(feature, \":\", np.unique(X_train[feature]))"
   ]
  },
  {
   "cell_type": "code",
   "execution_count": 12,
   "id": "00d9b85e-78a2-43ab-b850-8f53bb0e7e7a",
   "metadata": {},
   "outputs": [],
   "source": [
    "ordinal_feature = [\"SOIL TYPE\", \"REGION\", \"TEMPERATURE\"]\n",
    "nominal_feature = [\"WEATHER CONDITION\"]"
   ]
  },
  {
   "cell_type": "markdown",
   "id": "14cd0a1d-34d6-4ce2-b25c-98681849f818",
   "metadata": {},
   "source": [
    "## 5.1. Ordinal Encoding"
   ]
  },
  {
   "cell_type": "markdown",
   "id": "86402ddf-b6ec-4880-b593-0b9dee709edb",
   "metadata": {},
   "source": [
    "### 5.1.1. Training Set"
   ]
  },
  {
   "cell_type": "code",
   "execution_count": 13,
   "id": "d0498b7c-cbf7-4409-9e03-e8b90d2d722f",
   "metadata": {},
   "outputs": [],
   "source": [
    "categories = [\n",
    "    np.array([\"DRY\", \"HUMID\", \"WET\"], dtype=object),\n",
    "    np.array([\"DESERT\", \"SEMI ARID\", \"SEMI HUMID\", \"HUMID\"], dtype=object),\n",
    "    np.array([\"10-20\", \"20-30\", \"30-40\", \"40-50\"], dtype=object),\n",
    "]"
   ]
  },
  {
   "cell_type": "code",
   "execution_count": 14,
   "id": "116afb53-e828-4f17-9159-8768f28816a6",
   "metadata": {},
   "outputs": [],
   "source": [
    "ordinal_encoder = OrdinalEncoder(categories=categories)\n",
    "X_train[ordinal_feature] = ordinal_encoder.fit_transform(X_train[ordinal_feature])"
   ]
  },
  {
   "cell_type": "markdown",
   "id": "c2e2b89b-b981-4554-83dc-692bb341d672",
   "metadata": {},
   "source": [
    "### 5.1.2. Test Set"
   ]
  },
  {
   "cell_type": "code",
   "execution_count": 15,
   "id": "b5b2e749-e3d0-4556-b5e9-e803b9144caa",
   "metadata": {},
   "outputs": [],
   "source": [
    "X_test[ordinal_feature] = ordinal_encoder.transform(X_test[ordinal_feature])"
   ]
  },
  {
   "cell_type": "markdown",
   "id": "51b753cb-e2a5-4627-a388-812d3dd9649c",
   "metadata": {},
   "source": [
    "## 5.2. One Hot Encoding"
   ]
  },
  {
   "cell_type": "markdown",
   "id": "c6543537-b7bb-494a-bb96-bd87d927ab45",
   "metadata": {},
   "source": [
    "### 5.2.1. Training Set"
   ]
  },
  {
   "cell_type": "code",
   "execution_count": 16,
   "id": "29eaf729-1bc0-43c6-b069-00fc868ae57c",
   "metadata": {},
   "outputs": [
    {
     "data": {
      "text/plain": [
       "OneHotEncoder(handle_unknown='ignore', sparse=False)"
      ]
     },
     "execution_count": 16,
     "metadata": {},
     "output_type": "execute_result"
    }
   ],
   "source": [
    "one_hot_encoder = OneHotEncoder(sparse=False, handle_unknown=\"ignore\")\n",
    "one_hot_encoder.fit(X_train[nominal_feature])"
   ]
  },
  {
   "cell_type": "code",
   "execution_count": 17,
   "id": "f36509ff-c70e-4ffd-845a-5a355763bcd4",
   "metadata": {},
   "outputs": [],
   "source": [
    "one_hot_feature = []\n",
    "for i, feature in enumerate(nominal_feature):\n",
    "    for cate in one_hot_encoder.categories_[i]:\n",
    "        one_hot_feature_name = str(feature) + \"_\" + str(cate)\n",
    "        one_hot_feature.append(one_hot_feature_name)"
   ]
  },
  {
   "cell_type": "code",
   "execution_count": 18,
   "id": "dfd11748-0134-4c98-bbf1-9759eafc9eef",
   "metadata": {},
   "outputs": [],
   "source": [
    "X_train[one_hot_feature] = one_hot_encoder.transform(X_train[nominal_feature])\n",
    "X_train.drop(nominal_feature, axis=1, inplace=True)"
   ]
  },
  {
   "cell_type": "markdown",
   "id": "133fd407-8511-4f6d-b322-0d30a1e294f8",
   "metadata": {},
   "source": [
    "### 5.2.2. Test Set"
   ]
  },
  {
   "cell_type": "code",
   "execution_count": 19,
   "id": "cfa81836-b21d-4ca5-bc05-01ae6c6fee54",
   "metadata": {},
   "outputs": [],
   "source": [
    "X_test[one_hot_feature] = one_hot_encoder.transform(X_test[nominal_feature])\n",
    "X_test.drop(nominal_feature, axis=1, inplace=True)"
   ]
  },
  {
   "cell_type": "markdown",
   "id": "e158d13e-59d5-401d-b316-a32db5cca31c",
   "metadata": {},
   "source": [
    "## 5.3. Feature Scaling"
   ]
  },
  {
   "cell_type": "markdown",
   "id": "f5985ad7-b698-48fa-90dc-da922cbb1601",
   "metadata": {},
   "source": [
    "### 5.3.1. Training Set"
   ]
  },
  {
   "cell_type": "code",
   "execution_count": 20,
   "id": "d813d2ae-fb53-48b2-9b29-a04c961e1b00",
   "metadata": {},
   "outputs": [],
   "source": [
    "scaler = MinMaxScaler()\n",
    "X_train_scaled = scaler.fit_transform(X_train)"
   ]
  },
  {
   "cell_type": "markdown",
   "id": "0b94dc68-2fe2-44ed-97aa-3345332f2226",
   "metadata": {},
   "source": [
    "### 5.3.2. Test Set"
   ]
  },
  {
   "cell_type": "code",
   "execution_count": 21,
   "id": "f3ebbf63-a89d-4c36-b846-766fd1c7e6a2",
   "metadata": {},
   "outputs": [],
   "source": [
    "X_test_scaled = scaler.transform(X_test)"
   ]
  },
  {
   "cell_type": "markdown",
   "id": "8c190163-389a-43a1-aa01-9db1ef4edd49",
   "metadata": {},
   "source": [
    "# 6. Model Creation"
   ]
  },
  {
   "cell_type": "markdown",
   "id": "9b537961-1705-44af-a877-d30f6bc16d41",
   "metadata": {},
   "source": [
    "## 6.1. Setting Parameters"
   ]
  },
  {
   "cell_type": "code",
   "execution_count": 22,
   "id": "45aad0d1-6f70-4f8e-963d-69ab76a87d7b",
   "metadata": {},
   "outputs": [],
   "source": [
    "reg = MLPRegressor(\n",
    "    hidden_layer_sizes=(5, 3),\n",
    "    activation=\"relu\",\n",
    "    solver=\"sgd\",\n",
    "    alpha=0,\n",
    "    batch_size=X_train_scaled.shape[0],\n",
    "    learning_rate_init=0.01,\n",
    "    max_iter=1000,\n",
    "    momentum=0,\n",
    ")"
   ]
  },
  {
   "cell_type": "markdown",
   "id": "0caa08ad-77f8-480b-8bac-f93ad3873c4e",
   "metadata": {},
   "source": [
    "## 6.2. Train Model"
   ]
  },
  {
   "cell_type": "code",
   "execution_count": 23,
   "id": "b3fcef6c-bd82-432a-8c3b-574ef154753b",
   "metadata": {},
   "outputs": [
    {
     "data": {
      "text/plain": [
       "MLPRegressor(alpha=0, batch_size=152, hidden_layer_sizes=(5, 3),\n",
       "             learning_rate_init=0.01, max_iter=1000, momentum=0, solver='sgd')"
      ]
     },
     "execution_count": 23,
     "metadata": {},
     "output_type": "execute_result"
    }
   ],
   "source": [
    "reg.fit(X_train_scaled, y_train)"
   ]
  },
  {
   "cell_type": "markdown",
   "id": "f1c123ee-7502-45ed-a212-6a02e6850d84",
   "metadata": {},
   "source": [
    "## 6.3. Loss curve"
   ]
  },
  {
   "cell_type": "code",
   "execution_count": 24,
   "id": "6eeca3de-7e53-44bf-bd94-f089eed98f27",
   "metadata": {},
   "outputs": [
    {
     "data": {
      "text/plain": [
       "[<matplotlib.lines.Line2D at 0x2089bb2be80>]"
      ]
     },
     "execution_count": 24,
     "metadata": {},
     "output_type": "execute_result"
    },
    {
     "data": {
      "image/png": "[encoded data removed]",
      "text/plain": [
       "<Figure size 640x480 with 1 Axes>"
      ]
     },
     "metadata": {},
     "output_type": "display_data"
    }
   ],
   "source": [
    "plt.plot(reg.loss_curve_)"
   ]
  },
  {
   "cell_type": "markdown",
   "id": "88a56bb3-4e7a-4d2c-bb9f-2a8dc12168f0",
   "metadata": {},
   "source": [
    "## 6.4. Model's Weight & Bias"
   ]
  },
  {
   "cell_type": "code",
   "execution_count": 25,
   "id": "c7da2f5d-62a9-4ecf-bdfb-55c5eb63560e",
   "metadata": {},
   "outputs": [
    {
     "data": {
      "text/plain": [
       "[array([[-0.47390997,  0.31537814, -0.7211202 ,  0.09959791,  0.37251575],\n",
       "        [-0.61859303, -0.06795993,  0.10808188, -0.30714928, -0.50413053],\n",
       "        [ 0.51946798, -0.05159942, -0.10913661,  0.78764437, -0.07426559],\n",
       "        [ 0.30354856,  0.1072804 ,  0.45328548,  0.09931992, -0.62064831],\n",
       "        [-1.04159586,  1.19039982,  0.28951396,  0.07478848, -0.64464393],\n",
       "        [ 0.53908474, -0.19754626, -0.67640565,  0.22656378, -0.12965211],\n",
       "        [ 0.2709981 ,  0.00792024,  0.62931893,  0.56494315, -0.1541066 ]]),\n",
       " array([[ 0.4009302 , -0.27826691,  1.57728391],\n",
       "        [ 0.63732384,  0.46903374, -1.18069072],\n",
       "        [-0.83737548, -0.32485486,  0.87022485],\n",
       "        [-0.60821965, -0.83317631,  0.77777143],\n",
       "        [-0.74559649,  0.33032404, -0.02087396]]),\n",
       " array([[-0.85837603],\n",
       "        [-1.05318727],\n",
       "        [ 1.99069826]])]"
      ]
     },
     "execution_count": 25,
     "metadata": {},
     "output_type": "execute_result"
    }
   ],
   "source": [
    "reg.coefs_"
   ]
  },
  {
   "cell_type": "code",
   "execution_count": 26,
   "id": "68150258-e37f-4dbf-bd4a-1019367781a6",
   "metadata": {},
   "outputs": [
    {
     "data": {
      "text/plain": [
       "[array([ 0.78104949,  0.29709058, -0.21674715,  1.10992486,  0.46170712]),\n",
       " array([-0.8483789 ,  0.19345428,  0.83785708]),\n",
       " array([-0.13451169])]"
      ]
     },
     "execution_count": 26,
     "metadata": {},
     "output_type": "execute_result"
    }
   ],
   "source": [
    "reg.intercepts_"
   ]
  },
  {
   "cell_type": "markdown",
   "id": "a360ef02-1348-4040-a277-da4fc5f67833",
   "metadata": {},
   "source": [
    "# 7. Prediction"
   ]
  },
  {
   "cell_type": "markdown",
   "id": "642b974b-8898-4cca-a0e1-faccd0caa90d",
   "metadata": {},
   "source": [
    "## 7.1. Training Set"
   ]
  },
  {
   "cell_type": "code",
   "execution_count": 27,
   "id": "47a1fe9d-3e38-4b09-9191-a9a261e2dd62",
   "metadata": {},
   "outputs": [],
   "source": [
    "y_pred_train = reg.predict(X_train_scaled)"
   ]
  },
  {
   "cell_type": "markdown",
   "id": "a14712fe-28df-4e0a-9856-75df2b304167",
   "metadata": {},
   "source": [
    "## 7.2. Test Set"
   ]
  },
  {
   "cell_type": "code",
   "execution_count": 28,
   "id": "52c31e07-9ca1-4aab-91c5-abcd87be63e8",
   "metadata": {},
   "outputs": [],
   "source": [
    "y_pred_test = reg.predict(X_test_scaled)"
   ]
  },
  {
   "cell_type": "markdown",
   "id": "7131891c-e823-48d3-b9cb-3408bc492161",
   "metadata": {},
   "source": [
    "# 8. Model Evaluation"
   ]
  },
  {
   "cell_type": "markdown",
   "id": "fb2440f4-9bb9-4ed3-a7e0-92782c56f1bc",
   "metadata": {},
   "source": [
    "## 8.1. Training Set"
   ]
  },
  {
   "cell_type": "markdown",
   "id": "04ba2414-5b8e-4475-a3ae-87ff3e2fb1d9",
   "metadata": {},
   "source": [
    "### 8.1.1. Scoring"
   ]
  },
  {
   "cell_type": "code",
   "execution_count": 29,
   "id": "17030958-a49d-42af-b723-6d7347544c5a",
   "metadata": {},
   "outputs": [
    {
     "name": "stdout",
     "output_type": "stream",
     "text": [
      "r2_score =\t\t\t 0.9939816252301197\n",
      "mean_squared_error =\t\t 0.05417851238726123\n",
      "mean_absolute_error =\t\t 0.17664631701084607\n",
      "mean_absolute_percentage_error = 0.3903830564569681\n"
     ]
    }
   ],
   "source": [
    "print(\"r2_score =\\t\\t\\t\", r2_score(y_train, y_pred_train))\n",
    "print(\"mean_squared_error =\\t\\t\", mean_squared_error(y_train, y_pred_train))\n",
    "print(\"mean_absolute_error =\\t\\t\", mean_absolute_error(y_train, y_pred_train))\n",
    "print(\n",
    "    \"mean_absolute_percentage_error =\",\n",
    "    mean_absolute_percentage_error(y_train, y_pred_train),\n",
    ")"
   ]
  },
  {
   "cell_type": "markdown",
   "id": "ca6ae99e-51d7-4a26-848e-bd9402beb69f",
   "metadata": {},
   "source": [
    "### 8.1.2. Scatter Plot between Predicted & Actual Values"
   ]
  },
  {
   "cell_type": "code",
   "execution_count": 30,
   "id": "1a0c1f3e-bd4b-45f5-bb4d-f6dfb3b6ea29",
   "metadata": {},
   "outputs": [
    {
     "data": {
      "text/plain": [
       "Text(0, 0.5, 'Actual')"
      ]
     },
     "execution_count": 30,
     "metadata": {},
     "output_type": "execute_result"
    },
    {
     "data": {
      "image/png": "[encoded data removed]",
      "text/plain": [
       "<Figure size 640x480 with 1 Axes>"
      ]
     },
     "metadata": {},
     "output_type": "display_data"
    }
   ],
   "source": [
    "plt.scatter(y_pred_train, y_train)\n",
    "\n",
    "plt.plot(y_pred_train, y_pred_train, color=\"red\")\n",
    "\n",
    "plt.title(\"Scatter Plot between Predicted & Actual Values\")\n",
    "plt.xlabel(\"Predicted\")\n",
    "plt.ylabel(\"Actual\")"
   ]
  },
  {
   "cell_type": "markdown",
   "id": "b70ef075-e77a-4612-a010-cef2ac6933d9",
   "metadata": {},
   "source": [
    "## 8.2. Test Set"
   ]
  },
  {
   "cell_type": "markdown",
   "id": "a81be578-a409-4cec-ad4a-4816c5c15cff",
   "metadata": {},
   "source": [
    "### 8.2.1. Scoring"
   ]
  },
  {
   "cell_type": "code",
   "execution_count": 31,
   "id": "b607355c-c757-4ed2-a360-d75f03ef16e0",
   "metadata": {},
   "outputs": [
    {
     "name": "stdout",
     "output_type": "stream",
     "text": [
      "r2_score =\t\t\t 0.9957150618335094\n",
      "mean_squared_error =\t\t 0.035198265941004406\n",
      "mean_absolute_error =\t\t 0.15848630067286484\n",
      "mean_absolute_percentage_error = 0.2854478052779542\n"
     ]
    }
   ],
   "source": [
    "print(\"r2_score =\\t\\t\\t\", r2_score(y_test, y_pred_test))\n",
    "print(\"mean_squared_error =\\t\\t\", mean_squared_error(y_test, y_pred_test))\n",
    "print(\"mean_absolute_error =\\t\\t\", mean_absolute_error(y_test, y_pred_test))\n",
    "print(\n",
    "    \"mean_absolute_percentage_error =\",\n",
    "    mean_absolute_percentage_error(y_test, y_pred_test),\n",
    ")"
   ]
  },
  {
   "cell_type": "markdown",
   "id": "5e4bd6db-2772-4279-a475-7dfe0ed08fde",
   "metadata": {},
   "source": [
    "### 8.2.2 Scatter Plot between Predicted & Actual Values"
   ]
  },
  {
   "cell_type": "code",
   "execution_count": 32,
   "id": "8c015bb8-9fad-4a6f-a5a6-dc128e46b5fb",
   "metadata": {
    "tags": []
   },
   "outputs": [
    {
     "data": {
      "text/plain": [
       "Text(0, 0.5, 'Actual')"
      ]
     },
     "execution_count": 32,
     "metadata": {},
     "output_type": "execute_result"
    },
    {
     "data": {
      "image/png": "[encoded data removed]",
      "text/plain": [
       "<Figure size 640x480 with 1 Axes>"
      ]
     },
     "metadata": {},
     "output_type": "display_data"
    }
   ],
   "source": [
    "plt.scatter(y_pred_test, y_test)\n",
    "\n",
    "plt.plot(y_pred_test, y_pred_test, color=\"red\")\n",
    "\n",
    "plt.title(\"Scatter Plot between Predicted & Actual Values\")\n",
    "plt.xlabel(\"Predicted\")\n",
    "plt.ylabel(\"Actual\")"
   ]
  },
  {
   "cell_type": "markdown",
   "id": "1ee27046-4102-4e82-8b52-59a4c0da6cfe",
   "metadata": {},
   "source": [
    "# 9. Model Deployment"
   ]
  },
  {
   "cell_type": "code",
   "execution_count": 33,
   "id": "50bc0054-c9b8-4500-93f7-10a190933132",
   "metadata": {},
   "outputs": [],
   "source": [
    "import pickle"
   ]
  },
  {
   "cell_type": "code",
   "execution_count": 34,
   "id": "37fe3a98-fbd9-4b6f-b9b2-96cf6ba41ac8",
   "metadata": {},
   "outputs": [],
   "source": [
    "pickle.dump(\n",
    "    (\n",
    "        reg,\n",
    "        ordinal_encoder,\n",
    "        one_hot_encoder,\n",
    "        feature_name,\n",
    "        numerical_feature,\n",
    "        ordinal_feature,\n",
    "        nominal_feature,\n",
    "    ),\n",
    "    open(\"melon_model.pickle\", \"wb\"),\n",
    ")"
   ]
  }
 ],
 "metadata": {
  "kernelspec": {
   "display_name": "Python 3 (ipykernel)",
   "language": "python",
   "name": "python3"
  },
  "language_info": {
   "codemirror_mode": {
    "name": "ipython",
    "version": 3
   },
   "file_extension": ".py",
   "mimetype": "text/x-python",
   "name": "python",
   "nbconvert_exporter": "python",
   "pygments_lexer": "ipython3",
   "version": "3.8.13"
  }
 },
 "nbformat": 4,
 "nbformat_minor": 5
}
