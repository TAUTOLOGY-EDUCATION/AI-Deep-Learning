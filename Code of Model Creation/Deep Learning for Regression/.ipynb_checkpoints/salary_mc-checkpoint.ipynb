{
 "cells": [
  {
   "cell_type": "markdown",
   "id": "65fc63f8-de68-4837-94fc-09d977acead0",
   "metadata": {},
   "source": [
    "# 1. Import Libraries"
   ]
  },
  {
   "cell_type": "code",
   "execution_count": 1,
   "id": "1c37f3bb-58b2-429f-8693-c839470a333e",
   "metadata": {},
   "outputs": [
    {
     "name": "stderr",
     "output_type": "stream",
     "text": [
      "C:\\ProgramData\\Anaconda3\\lib\\site-packages\\scipy\\__init__.py:138: UserWarning: A NumPy version >=1.16.5 and <1.23.0 is required for this version of SciPy (detected version 1.23.1)\n",
      "  warnings.warn(f\"A NumPy version >={np_minversion} and <{np_maxversion} is required for this version of \"\n"
     ]
    }
   ],
   "source": [
    "import warnings\n",
    "\n",
    "import matplotlib.pyplot as plt\n",
    "import numpy as np\n",
    "import pandas as pd\n",
    "from sklearn.metrics import (\n",
    "    mean_absolute_error,\n",
    "    mean_absolute_percentage_error,\n",
    "    mean_squared_error,\n",
    "    r2_score,\n",
    ")\n",
    "from sklearn.model_selection import train_test_split\n",
    "from sklearn.neural_network import MLPRegressor\n",
    "from sklearn.preprocessing import OneHotEncoder, OrdinalEncoder, StandardScaler\n",
    "\n",
    "warnings.filterwarnings(\"ignore\")\n",
    "\n",
    "np.random.seed(12345)"
   ]
  },
  {
   "cell_type": "markdown",
   "id": "a635bd34-d15b-471b-979a-5bf4cc9e4049",
   "metadata": {},
   "source": [
    "# 2. Read Data"
   ]
  },
  {
   "cell_type": "code",
   "execution_count": 2,
   "id": "a5768002-9b2b-47ce-91ed-b29c9993b0b0",
   "metadata": {
    "tags": []
   },
   "outputs": [
    {
     "data": {
      "text/html": [
       "<div>\n",
       "<style scoped>\n",
       "    .dataframe tbody tr th:only-of-type {\n",
       "        vertical-align: middle;\n",
       "    }\n",
       "\n",
       "    .dataframe tbody tr th {\n",
       "        vertical-align: top;\n",
       "    }\n",
       "\n",
       "    .dataframe thead th {\n",
       "        text-align: right;\n",
       "    }\n",
       "</style>\n",
       "<table border=\"1\" class=\"dataframe\">\n",
       "  <thead>\n",
       "    <tr style=\"text-align: right;\">\n",
       "      <th></th>\n",
       "      <th>age</th>\n",
       "      <th>experience</th>\n",
       "      <th>gpa</th>\n",
       "      <th>degree</th>\n",
       "      <th>position</th>\n",
       "      <th>salary</th>\n",
       "    </tr>\n",
       "  </thead>\n",
       "  <tbody>\n",
       "    <tr>\n",
       "      <th>0</th>\n",
       "      <td>30.0</td>\n",
       "      <td>7.0</td>\n",
       "      <td>3.94</td>\n",
       "      <td>bachelor</td>\n",
       "      <td>engineer</td>\n",
       "      <td>32500.0</td>\n",
       "    </tr>\n",
       "    <tr>\n",
       "      <th>1</th>\n",
       "      <td>26.0</td>\n",
       "      <td>2.0</td>\n",
       "      <td>2.86</td>\n",
       "      <td>bachelor</td>\n",
       "      <td>NaN</td>\n",
       "      <td>22500.0</td>\n",
       "    </tr>\n",
       "    <tr>\n",
       "      <th>2</th>\n",
       "      <td>27.0</td>\n",
       "      <td>0.0</td>\n",
       "      <td>3.13</td>\n",
       "      <td>doctorate</td>\n",
       "      <td>secretary</td>\n",
       "      <td>37000.0</td>\n",
       "    </tr>\n",
       "    <tr>\n",
       "      <th>3</th>\n",
       "      <td>32.0</td>\n",
       "      <td>NaN</td>\n",
       "      <td>3.10</td>\n",
       "      <td>bachelor</td>\n",
       "      <td>engineer</td>\n",
       "      <td>24500.0</td>\n",
       "    </tr>\n",
       "    <tr>\n",
       "      <th>4</th>\n",
       "      <td>24.0</td>\n",
       "      <td>1.0</td>\n",
       "      <td>3.81</td>\n",
       "      <td>bachelor</td>\n",
       "      <td>accountant</td>\n",
       "      <td>23500.0</td>\n",
       "    </tr>\n",
       "    <tr>\n",
       "      <th>...</th>\n",
       "      <td>...</td>\n",
       "      <td>...</td>\n",
       "      <td>...</td>\n",
       "      <td>...</td>\n",
       "      <td>...</td>\n",
       "      <td>...</td>\n",
       "    </tr>\n",
       "    <tr>\n",
       "      <th>85</th>\n",
       "      <td>31.0</td>\n",
       "      <td>1.0</td>\n",
       "      <td>2.79</td>\n",
       "      <td>master</td>\n",
       "      <td>engineer</td>\n",
       "      <td>34000.0</td>\n",
       "    </tr>\n",
       "    <tr>\n",
       "      <th>86</th>\n",
       "      <td>NaN</td>\n",
       "      <td>5.0</td>\n",
       "      <td>3.27</td>\n",
       "      <td>doctorate</td>\n",
       "      <td>secretary</td>\n",
       "      <td>36000.0</td>\n",
       "    </tr>\n",
       "    <tr>\n",
       "      <th>87</th>\n",
       "      <td>28.0</td>\n",
       "      <td>7.0</td>\n",
       "      <td>2.64</td>\n",
       "      <td>doctorate</td>\n",
       "      <td>secretary</td>\n",
       "      <td>38000.0</td>\n",
       "    </tr>\n",
       "    <tr>\n",
       "      <th>88</th>\n",
       "      <td>26.0</td>\n",
       "      <td>1.0</td>\n",
       "      <td>2.52</td>\n",
       "      <td>bachelor</td>\n",
       "      <td>secretary</td>\n",
       "      <td>NaN</td>\n",
       "    </tr>\n",
       "    <tr>\n",
       "      <th>89</th>\n",
       "      <td>27.0</td>\n",
       "      <td>2.0</td>\n",
       "      <td>3.79</td>\n",
       "      <td>master</td>\n",
       "      <td>engineer</td>\n",
       "      <td>35000.0</td>\n",
       "    </tr>\n",
       "  </tbody>\n",
       "</table>\n",
       "<p>90 rows × 6 columns</p>\n",
       "</div>"
      ],
      "text/plain": [
       "     age  experience   gpa     degree    position   salary\n",
       "0   30.0         7.0  3.94   bachelor    engineer  32500.0\n",
       "1   26.0         2.0  2.86   bachelor         NaN  22500.0\n",
       "2   27.0         0.0  3.13  doctorate   secretary  37000.0\n",
       "3   32.0         NaN  3.10   bachelor    engineer  24500.0\n",
       "4   24.0         1.0  3.81   bachelor  accountant  23500.0\n",
       "..   ...         ...   ...        ...         ...      ...\n",
       "85  31.0         1.0  2.79     master    engineer  34000.0\n",
       "86   NaN         5.0  3.27  doctorate   secretary  36000.0\n",
       "87  28.0         7.0  2.64  doctorate   secretary  38000.0\n",
       "88  26.0         1.0  2.52   bachelor   secretary      NaN\n",
       "89  27.0         2.0  3.79     master    engineer  35000.0\n",
       "\n",
       "[90 rows x 6 columns]"
      ]
     },
     "execution_count": 2,
     "metadata": {},
     "output_type": "execute_result"
    }
   ],
   "source": [
    "data = pd.read_csv(\"salary_dataset.csv\")\n",
    "\n",
    "data"
   ]
  },
  {
   "cell_type": "markdown",
   "id": "2e7bf8e6-70a7-4dbf-9d15-6013faebe2b3",
   "metadata": {},
   "source": [
    "# 3. Clean Data"
   ]
  },
  {
   "cell_type": "markdown",
   "id": "2553da01-6a5b-48a1-ba52-f0fd2d1f8bb8",
   "metadata": {},
   "source": [
    "## 3.1. Handle Missing Values"
   ]
  },
  {
   "cell_type": "markdown",
   "id": "c48e1554-275d-4844-8ebf-33aa31170379",
   "metadata": {},
   "source": [
    "### 3.1.1. Check Missing Values"
   ]
  },
  {
   "cell_type": "code",
   "execution_count": 3,
   "id": "3f19cad5-30d8-4199-bc17-1be2640d3c0b",
   "metadata": {},
   "outputs": [
    {
     "name": "stdout",
     "output_type": "stream",
     "text": [
      "<class 'pandas.core.frame.DataFrame'>\n",
      "RangeIndex: 90 entries, 0 to 89\n",
      "Data columns (total 6 columns):\n",
      " #   Column      Non-Null Count  Dtype  \n",
      "---  ------      --------------  -----  \n",
      " 0   age         89 non-null     float64\n",
      " 1   experience  89 non-null     float64\n",
      " 2   gpa         90 non-null     float64\n",
      " 3   degree      90 non-null     object \n",
      " 4   position    89 non-null     object \n",
      " 5   salary      89 non-null     float64\n",
      "dtypes: float64(4), object(2)\n",
      "memory usage: 4.3+ KB\n"
     ]
    }
   ],
   "source": [
    "data.info()"
   ]
  },
  {
   "cell_type": "markdown",
   "id": "1ee1aed9-3118-498f-b6f1-21ca616da6f8",
   "metadata": {},
   "source": [
    "### 3.1.2. Remove Missing Values (Listwise Deletion)"
   ]
  },
  {
   "cell_type": "code",
   "execution_count": 4,
   "id": "18c2a298-c53e-4176-9f0f-86363423be8d",
   "metadata": {},
   "outputs": [],
   "source": [
    "# no NaN to remove\n",
    "data.dropna(axis=0, inplace=True)"
   ]
  },
  {
   "cell_type": "markdown",
   "id": "cf7539ab-1708-4a5b-a323-243389cefb95",
   "metadata": {},
   "source": [
    "## 3.2. Handle Outliers"
   ]
  },
  {
   "cell_type": "markdown",
   "id": "14a0576f-afbe-462f-9ba5-cfaae6965d17",
   "metadata": {},
   "source": [
    "### 3.2.1. Check Outliers"
   ]
  },
  {
   "cell_type": "code",
   "execution_count": 5,
   "id": "083f9900-6408-4b47-9450-2f5a155d7e57",
   "metadata": {},
   "outputs": [
    {
     "data": {
      "text/html": [
       "<div>\n",
       "<style scoped>\n",
       "    .dataframe tbody tr th:only-of-type {\n",
       "        vertical-align: middle;\n",
       "    }\n",
       "\n",
       "    .dataframe tbody tr th {\n",
       "        vertical-align: top;\n",
       "    }\n",
       "\n",
       "    .dataframe thead th {\n",
       "        text-align: right;\n",
       "    }\n",
       "</style>\n",
       "<table border=\"1\" class=\"dataframe\">\n",
       "  <thead>\n",
       "    <tr style=\"text-align: right;\">\n",
       "      <th></th>\n",
       "      <th>age</th>\n",
       "      <th>experience</th>\n",
       "      <th>gpa</th>\n",
       "      <th>salary</th>\n",
       "    </tr>\n",
       "  </thead>\n",
       "  <tbody>\n",
       "    <tr>\n",
       "      <th>count</th>\n",
       "      <td>86.000000</td>\n",
       "      <td>86.000000</td>\n",
       "      <td>86.000000</td>\n",
       "      <td>86.000000</td>\n",
       "    </tr>\n",
       "    <tr>\n",
       "      <th>mean</th>\n",
       "      <td>28.023256</td>\n",
       "      <td>3.848837</td>\n",
       "      <td>3.278605</td>\n",
       "      <td>31348.837209</td>\n",
       "    </tr>\n",
       "    <tr>\n",
       "      <th>std</th>\n",
       "      <td>4.408486</td>\n",
       "      <td>3.702201</td>\n",
       "      <td>0.528937</td>\n",
       "      <td>9255.227384</td>\n",
       "    </tr>\n",
       "    <tr>\n",
       "      <th>min</th>\n",
       "      <td>21.000000</td>\n",
       "      <td>0.000000</td>\n",
       "      <td>2.540000</td>\n",
       "      <td>13000.000000</td>\n",
       "    </tr>\n",
       "    <tr>\n",
       "      <th>25%</th>\n",
       "      <td>24.000000</td>\n",
       "      <td>1.000000</td>\n",
       "      <td>2.820000</td>\n",
       "      <td>24500.000000</td>\n",
       "    </tr>\n",
       "    <tr>\n",
       "      <th>50%</th>\n",
       "      <td>28.000000</td>\n",
       "      <td>3.000000</td>\n",
       "      <td>3.260000</td>\n",
       "      <td>30500.000000</td>\n",
       "    </tr>\n",
       "    <tr>\n",
       "      <th>75%</th>\n",
       "      <td>32.000000</td>\n",
       "      <td>7.000000</td>\n",
       "      <td>3.640000</td>\n",
       "      <td>37375.000000</td>\n",
       "    </tr>\n",
       "    <tr>\n",
       "      <th>max</th>\n",
       "      <td>35.000000</td>\n",
       "      <td>13.000000</td>\n",
       "      <td>5.880000</td>\n",
       "      <td>54000.000000</td>\n",
       "    </tr>\n",
       "  </tbody>\n",
       "</table>\n",
       "</div>"
      ],
      "text/plain": [
       "             age  experience        gpa        salary\n",
       "count  86.000000   86.000000  86.000000     86.000000\n",
       "mean   28.023256    3.848837   3.278605  31348.837209\n",
       "std     4.408486    3.702201   0.528937   9255.227384\n",
       "min    21.000000    0.000000   2.540000  13000.000000\n",
       "25%    24.000000    1.000000   2.820000  24500.000000\n",
       "50%    28.000000    3.000000   3.260000  30500.000000\n",
       "75%    32.000000    7.000000   3.640000  37375.000000\n",
       "max    35.000000   13.000000   5.880000  54000.000000"
      ]
     },
     "execution_count": 5,
     "metadata": {},
     "output_type": "execute_result"
    }
   ],
   "source": [
    "data.describe()"
   ]
  },
  {
   "cell_type": "markdown",
   "id": "d244eb0a-1243-452a-b154-c78ac053b876",
   "metadata": {},
   "source": [
    "### 3.2.2. Remove Outliers"
   ]
  },
  {
   "cell_type": "code",
   "execution_count": 6,
   "id": "cf22a87d-d4c2-4fa0-a22d-b50e64c6a623",
   "metadata": {},
   "outputs": [],
   "source": [
    "# no outlier to remove"
   ]
  },
  {
   "cell_type": "code",
   "execution_count": 7,
   "id": "3134c9bb-e481-4793-9e0b-e3f3bc2c7111",
   "metadata": {},
   "outputs": [],
   "source": [
    "data = data[data[\"gpa\"] <= 4]"
   ]
  },
  {
   "cell_type": "markdown",
   "id": "857665af-19e9-4791-b1ab-e0cf5a70919f",
   "metadata": {},
   "source": [
    "# 4. Split Dataset into Training & Test Sets"
   ]
  },
  {
   "cell_type": "code",
   "execution_count": 8,
   "id": "0c58e03a-068b-409f-b8d3-ef62de0b99e8",
   "metadata": {},
   "outputs": [],
   "source": [
    "target_name = \"salary\"\n",
    "feature_name = list(data.columns.drop(target_name))"
   ]
  },
  {
   "cell_type": "code",
   "execution_count": 9,
   "id": "d5634909-f6b1-4e1f-83e3-548897395ef4",
   "metadata": {},
   "outputs": [],
   "source": [
    "X = data[feature_name]\n",
    "y = data[target_name]"
   ]
  },
  {
   "cell_type": "code",
   "execution_count": 10,
   "id": "ee71721f-606c-420f-9362-f505906a0bee",
   "metadata": {},
   "outputs": [],
   "source": [
    "X_train, X_test, y_train, y_test = train_test_split(X, y, test_size=0.20, shuffle=True)"
   ]
  },
  {
   "cell_type": "markdown",
   "id": "aa3a0809-4a05-4f16-a502-81c735277f04",
   "metadata": {},
   "source": [
    "# 5. Data Preparation"
   ]
  },
  {
   "cell_type": "code",
   "execution_count": 11,
   "id": "850beaf4-4858-44ff-9ed3-f4bb22e89b23",
   "metadata": {},
   "outputs": [],
   "source": [
    "numerical_feature = [\"age\", \"experience\", \"gpa\"]\n",
    "categorical_feature = [\"degree\", \"position\"]"
   ]
  },
  {
   "cell_type": "code",
   "execution_count": 12,
   "id": "6fd63402-7592-4dec-8c53-c0b6c5ee9d6f",
   "metadata": {},
   "outputs": [
    {
     "name": "stdout",
     "output_type": "stream",
     "text": [
      "degree : ['bachelor' 'doctorate' 'master']\n",
      "position : ['accountant' 'engineer' 'secretary']\n"
     ]
    }
   ],
   "source": [
    "for feature in categorical_feature:\n",
    "    print(feature, \":\", np.unique(X_train[feature]))"
   ]
  },
  {
   "cell_type": "code",
   "execution_count": 13,
   "id": "7b10ce0b-bc09-4408-aeae-2dcccbafb858",
   "metadata": {},
   "outputs": [],
   "source": [
    "ordinal_feature = [\"degree\"]\n",
    "nominal_feature = [\"position\"]"
   ]
  },
  {
   "cell_type": "code",
   "execution_count": 14,
   "id": "ad080b11-0fa6-4111-9b5a-0ab6cd48a196",
   "metadata": {},
   "outputs": [
    {
     "data": {
      "text/plain": [
       "array(['bachelor', 'doctorate', 'master'], dtype=object)"
      ]
     },
     "execution_count": 14,
     "metadata": {},
     "output_type": "execute_result"
    }
   ],
   "source": [
    "np.unique(data[\"degree\"])"
   ]
  },
  {
   "cell_type": "markdown",
   "id": "0bdb4754-2aa1-45e5-9a1f-a3c23a11d5b7",
   "metadata": {},
   "source": [
    "## 5.1. Ordinal Encoding"
   ]
  },
  {
   "cell_type": "markdown",
   "id": "a35aa8cd-0b5d-4c6b-891a-d955119bfe6c",
   "metadata": {},
   "source": [
    "### 5.1.1. Training Set"
   ]
  },
  {
   "cell_type": "code",
   "execution_count": 15,
   "id": "f8a9bfad-ad38-431e-9900-2d8c2ff57569",
   "metadata": {},
   "outputs": [],
   "source": [
    "categories = [\n",
    "    np.array([\"bachelor\", \"master\", \"doctorate\"], dtype=object),\n",
    "]"
   ]
  },
  {
   "cell_type": "code",
   "execution_count": 16,
   "id": "fc96fa30-1485-4489-bfc9-5b232dcc5f7e",
   "metadata": {},
   "outputs": [],
   "source": [
    "ordinal_encoder = OrdinalEncoder(categories=categories)\n",
    "X_train[ordinal_feature] = ordinal_encoder.fit_transform(X_train[ordinal_feature])"
   ]
  },
  {
   "cell_type": "markdown",
   "id": "2a079198-b7df-482b-a109-c8855990420b",
   "metadata": {},
   "source": [
    "### 5.1.2. Test Set"
   ]
  },
  {
   "cell_type": "code",
   "execution_count": 17,
   "id": "86a60672-41ce-4a0f-9455-92ed50f6b39b",
   "metadata": {},
   "outputs": [],
   "source": [
    "X_test[ordinal_feature] = ordinal_encoder.transform(X_test[ordinal_feature])"
   ]
  },
  {
   "cell_type": "markdown",
   "id": "cea8a95d-2c26-46f3-af99-4bd8ff28088a",
   "metadata": {},
   "source": [
    "## 5.2. One Hot Encoding"
   ]
  },
  {
   "cell_type": "markdown",
   "id": "440e3cac-e9fd-4c06-94c1-1c53da4288d0",
   "metadata": {},
   "source": [
    "### 5.2.1. Training Set"
   ]
  },
  {
   "cell_type": "code",
   "execution_count": 18,
   "id": "566b3c51-5a0d-40b7-8997-eae75495de6a",
   "metadata": {},
   "outputs": [
    {
     "data": {
      "text/plain": [
       "OneHotEncoder(handle_unknown='ignore', sparse=False)"
      ]
     },
     "execution_count": 18,
     "metadata": {},
     "output_type": "execute_result"
    }
   ],
   "source": [
    "one_hot_encoder = OneHotEncoder(sparse=False, handle_unknown=\"ignore\")\n",
    "one_hot_encoder.fit(X_train[nominal_feature])"
   ]
  },
  {
   "cell_type": "code",
   "execution_count": 19,
   "id": "613c6c79-50e3-4781-9d10-21689e4d5e3e",
   "metadata": {},
   "outputs": [],
   "source": [
    "one_hot_feature = []\n",
    "for i, feature in enumerate(nominal_feature):\n",
    "    for cate in one_hot_encoder.categories_[i]:\n",
    "        one_hot_feature_name = str(feature) + \"_\" + str(cate)\n",
    "        one_hot_feature.append(one_hot_feature_name)"
   ]
  },
  {
   "cell_type": "code",
   "execution_count": 20,
   "id": "2e5c1597-aec6-470a-b864-c945ff834380",
   "metadata": {},
   "outputs": [],
   "source": [
    "X_train[one_hot_feature] = one_hot_encoder.transform(X_train[nominal_feature])\n",
    "X_train.drop(nominal_feature, axis=1, inplace=True)"
   ]
  },
  {
   "cell_type": "markdown",
   "id": "31a19611-61e1-49a6-823d-62e4a9ddd143",
   "metadata": {},
   "source": [
    "### 5.2.2. Test Set"
   ]
  },
  {
   "cell_type": "code",
   "execution_count": 21,
   "id": "1789bc31-75ac-4884-8200-d7b0f7b5ab70",
   "metadata": {},
   "outputs": [],
   "source": [
    "X_test[one_hot_feature] = one_hot_encoder.transform(X_test[nominal_feature])\n",
    "X_test.drop(nominal_feature, axis=1, inplace=True)"
   ]
  },
  {
   "cell_type": "markdown",
   "id": "6829d12e-150f-43f5-93e0-e22a227ae6e2",
   "metadata": {},
   "source": [
    "## 5.3. Feature Scaling"
   ]
  },
  {
   "cell_type": "markdown",
   "id": "06700c97-060f-4f7c-8587-e764fcfd459c",
   "metadata": {},
   "source": [
    "### 5.3.1. Training Set"
   ]
  },
  {
   "cell_type": "code",
   "execution_count": 22,
   "id": "03d854ad-f276-4af8-b6cb-57f45e6fe4f2",
   "metadata": {},
   "outputs": [],
   "source": [
    "scaler = StandardScaler()\n",
    "X_train_scaled = scaler.fit_transform(X_train)"
   ]
  },
  {
   "cell_type": "markdown",
   "id": "2e846cc1-1e82-4115-a7a4-93f391830981",
   "metadata": {},
   "source": [
    "### 5.3.2. Test Set"
   ]
  },
  {
   "cell_type": "code",
   "execution_count": 23,
   "id": "d98cda1b-be40-4aee-b0c9-859ce0772b92",
   "metadata": {},
   "outputs": [],
   "source": [
    "X_test_scaled = scaler.transform(X_test)"
   ]
  },
  {
   "cell_type": "markdown",
   "id": "87529941-fd3f-4a56-ab59-21d13ae99525",
   "metadata": {},
   "source": [
    "# 6. Model Creation"
   ]
  },
  {
   "cell_type": "markdown",
   "id": "93586212-cf38-4068-afbd-2e0fa1550afc",
   "metadata": {},
   "source": [
    "## 6.1. Setting Parameters"
   ]
  },
  {
   "cell_type": "code",
   "execution_count": 24,
   "id": "e72ce40c-063a-40b9-8dd2-2483bd9a33db",
   "metadata": {},
   "outputs": [],
   "source": [
    "reg = MLPRegressor(\n",
    "    hidden_layer_sizes=(10, 5),\n",
    "    activation=\"relu\",\n",
    "    # solver=\"sgd\",\n",
    "    alpha=0,\n",
    "    batch_size=X_train_scaled.shape[0],\n",
    "    learning_rate_init=0.01,\n",
    "    max_iter=1000,\n",
    "    momentum=0,\n",
    ")"
   ]
  },
  {
   "cell_type": "markdown",
   "id": "dd87ee54-4fb8-4529-9ac2-1cfe9a8e345b",
   "metadata": {},
   "source": [
    "## 6.2. Train Model"
   ]
  },
  {
   "cell_type": "code",
   "execution_count": 25,
   "id": "77b67fbd-4afd-45c4-a110-aa6b86e852d3",
   "metadata": {},
   "outputs": [
    {
     "data": {
      "text/plain": [
       "MLPRegressor(alpha=0, batch_size=68, hidden_layer_sizes=(10, 5),\n",
       "             learning_rate_init=0.01, max_iter=1000, momentum=0)"
      ]
     },
     "execution_count": 25,
     "metadata": {},
     "output_type": "execute_result"
    }
   ],
   "source": [
    "reg.fit(X_train_scaled, y_train)"
   ]
  },
  {
   "cell_type": "markdown",
   "id": "c9722551-e419-4477-9f3d-1128d3ab111d",
   "metadata": {},
   "source": [
    "## 6.3. Loss curve"
   ]
  },
  {
   "cell_type": "code",
   "execution_count": 26,
   "id": "40c83725-1c2a-4252-b708-a2ea165ef29e",
   "metadata": {},
   "outputs": [
    {
     "data": {
      "text/plain": [
       "[<matplotlib.lines.Line2D at 0x1bc592c8df0>]"
      ]
     },
     "execution_count": 26,
     "metadata": {},
     "output_type": "execute_result"
    },
    {
     "data": {
      "image/png": "[encoded data removed]",
      "text/plain": [
       "<Figure size 640x480 with 1 Axes>"
      ]
     },
     "metadata": {},
     "output_type": "display_data"
    }
   ],
   "source": [
    "plt.plot(reg.loss_curve_)"
   ]
  },
  {
   "cell_type": "markdown",
   "id": "fdc39082-202e-4e8b-a555-2d564dffbc57",
   "metadata": {},
   "source": [
    "## 6.4. Model's Weight & Bias"
   ]
  },
  {
   "cell_type": "code",
   "execution_count": 27,
   "id": "3ba15367-7bbe-4833-8f26-30e8dfd2c215",
   "metadata": {},
   "outputs": [
    {
     "data": {
      "text/plain": [
       "[array([[ 2.25008521e+00,  1.48411307e+00, -2.29653934e-01,\n",
       "          1.98809726e+00,  6.43614211e-02,  2.74321841e+00,\n",
       "          3.64619947e+00,  3.89753419e+00,  1.39650173e+00,\n",
       "          1.73406771e+00],\n",
       "        [ 1.50341906e+00,  1.89670148e+00, -8.75048923e-03,\n",
       "          1.24870980e+00,  6.95486445e-01,  4.82829242e+00,\n",
       "          3.31225701e+00,  3.86240901e+00,  1.18127386e+00,\n",
       "          7.65872541e-01],\n",
       "        [ 2.37409300e+00,  1.80418257e+00,  1.71767269e-01,\n",
       "          5.70462119e-01,  1.66249777e+00, -1.49230619e+00,\n",
       "          4.81524490e+00,  1.13663082e+00, -1.43886222e-01,\n",
       "          1.94808537e-01],\n",
       "        [ 2.82199163e+00,  3.28148162e+00,  1.92615675e-01,\n",
       "          5.78858094e+00,  2.43979638e+00,  6.71363490e+00,\n",
       "          6.75579728e+00,  7.66891801e+00,  5.57173946e+00,\n",
       "          5.32233098e+00],\n",
       "        [-1.33230234e+01, -1.25764589e+01, -1.05080376e-01,\n",
       "          1.43929800e+01, -1.28516482e+01,  1.28082875e+01,\n",
       "         -2.47478866e+00, -9.47280700e+00,  1.43385084e+01,\n",
       "          1.44157566e+01],\n",
       "        [ 7.13428319e+00,  6.89030927e+00, -1.55084171e-01,\n",
       "          3.72515567e+00,  7.11570763e+00, -1.51640074e+01,\n",
       "          9.64001807e+00,  1.01281583e+01,  4.18796735e+00,\n",
       "          3.86972597e+00],\n",
       "        [ 1.51067907e+01,  1.48694443e+01, -1.20220457e-01,\n",
       "         -1.13365418e+01,  1.45826277e+01, -6.67201779e+00,\n",
       "         -9.32532631e+00, -8.19422261e+00, -1.18317893e+01,\n",
       "         -1.18375677e+01]]),\n",
       " array([[ 9.78177737e+00, -4.34574937e-01, -1.03610047e-01,\n",
       "          1.07013977e+01, -5.40160964e-01],\n",
       "        [ 9.87557998e+00,  2.79577598e-01, -4.37054490e-01,\n",
       "          1.09816718e+01, -5.81923905e-02],\n",
       "        [-1.12351763e-01,  3.56016045e-01,  1.42817734e-01,\n",
       "         -3.89647427e-01, -5.50944371e-01],\n",
       "        [ 8.19443003e+00,  3.48789063e-01,  2.74509009e-01,\n",
       "          9.72503713e+00, -7.33459505e-01],\n",
       "        [ 1.07783409e+01, -2.71099318e-01, -8.26042649e-01,\n",
       "          1.09942710e+01, -4.14674324e-01],\n",
       "        [ 1.01958966e+01, -7.65012180e-02, -5.55820480e-04,\n",
       "          1.11169013e+01, -1.25604348e-01],\n",
       "        [ 8.11390579e+00,  2.77161278e-01, -4.49189506e-01,\n",
       "          8.85360684e+00, -4.79012953e-02],\n",
       "        [ 8.21222565e+00, -3.83170483e-01, -1.19473910e-01,\n",
       "          8.96898756e+00,  1.92451911e-01],\n",
       "        [ 8.03740253e+00, -7.94384673e-01, -4.88279328e-01,\n",
       "          9.80945054e+00, -6.66762522e-01],\n",
       "        [ 8.28539518e+00,  1.54241532e-01, -7.31678051e-01,\n",
       "          9.51508311e+00, -2.94858744e-01]]),\n",
       " array([[10.30618145],\n",
       "        [-0.35329449],\n",
       "        [-0.15078796],\n",
       "        [10.02373538],\n",
       "        [-0.31834055]])]"
      ]
     },
     "execution_count": 27,
     "metadata": {},
     "output_type": "execute_result"
    }
   ],
   "source": [
    "reg.coefs_"
   ]
  },
  {
   "cell_type": "code",
   "execution_count": 28,
   "id": "93968cb0-08c4-44a3-b4c3-7379d4f4978d",
   "metadata": {},
   "outputs": [
    {
     "data": {
      "text/plain": [
       "[array([11.9903913 , 11.57707204, -0.69781763, 10.86701982, 12.17868571,\n",
       "        11.21275431, 10.1602144 , 10.2615282 , 11.65848654, 11.25186765]),\n",
       " array([ 8.51835578, -0.01642388, -0.06696567,  8.82493355, -0.92243517]),\n",
       " array([5.60151838])]"
      ]
     },
     "execution_count": 28,
     "metadata": {},
     "output_type": "execute_result"
    }
   ],
   "source": [
    "reg.intercepts_"
   ]
  },
  {
   "cell_type": "markdown",
   "id": "426ab91b-6c75-4eda-8afa-b6d370054e31",
   "metadata": {},
   "source": [
    "# 7. Prediction"
   ]
  },
  {
   "cell_type": "markdown",
   "id": "1e047307-1cca-44bb-893b-b5ed73370bdf",
   "metadata": {},
   "source": [
    "## 7.1. Training Set"
   ]
  },
  {
   "cell_type": "code",
   "execution_count": 29,
   "id": "c617d933-3047-4c70-b5c8-b20aa1314b19",
   "metadata": {},
   "outputs": [],
   "source": [
    "y_pred_train = reg.predict(X_train_scaled)"
   ]
  },
  {
   "cell_type": "markdown",
   "id": "b09418a0-bd60-4554-b055-9e2945399739",
   "metadata": {},
   "source": [
    "## 7.2. Test Set"
   ]
  },
  {
   "cell_type": "code",
   "execution_count": 30,
   "id": "5d9fa4e9-c85c-4a9c-9aa0-e352ee385376",
   "metadata": {},
   "outputs": [],
   "source": [
    "y_pred_test = reg.predict(X_test_scaled)"
   ]
  },
  {
   "cell_type": "markdown",
   "id": "6602d034-f4ad-480f-b16c-62fcf09dbabb",
   "metadata": {},
   "source": [
    "# 8. Model Evaluation"
   ]
  },
  {
   "cell_type": "markdown",
   "id": "7b50e0ff-dd6c-45b2-85f6-4303eae557fb",
   "metadata": {},
   "source": [
    "## 8.1. Training Set"
   ]
  },
  {
   "cell_type": "markdown",
   "id": "914c3033-79f9-4c48-9b80-6af402a4b069",
   "metadata": {},
   "source": [
    "### 8.1.1. Scoring"
   ]
  },
  {
   "cell_type": "code",
   "execution_count": 31,
   "id": "f5048408-c8b5-4bbf-ad49-6c5bb2c43334",
   "metadata": {},
   "outputs": [
    {
     "name": "stdout",
     "output_type": "stream",
     "text": [
      "r2_score =\t\t\t 0.8144391152903423\n",
      "mean_squared_error =\t\t 15856667.183819456\n",
      "mean_absolute_error =\t\t 3237.147230904208\n",
      "mean_absolute_percentage_error = 0.11487820369804348\n"
     ]
    }
   ],
   "source": [
    "print(\"r2_score =\\t\\t\\t\", r2_score(y_train, y_pred_train))\n",
    "print(\"mean_squared_error =\\t\\t\", mean_squared_error(y_train, y_pred_train))\n",
    "print(\"mean_absolute_error =\\t\\t\", mean_absolute_error(y_train, y_pred_train))\n",
    "print(\n",
    "    \"mean_absolute_percentage_error =\",\n",
    "    mean_absolute_percentage_error(y_train, y_pred_train),\n",
    ")"
   ]
  },
  {
   "cell_type": "markdown",
   "id": "cc5d2e81-e976-4414-a98d-f71899e3ee36",
   "metadata": {},
   "source": [
    "### 8.1.2. Scatter Plot between Predicted & Actual Values"
   ]
  },
  {
   "cell_type": "code",
   "execution_count": 32,
   "id": "e37e7ce3-3c12-4979-8750-6bbb5a2716b1",
   "metadata": {},
   "outputs": [
    {
     "data": {
      "text/plain": [
       "Text(0, 0.5, 'Actual')"
      ]
     },
     "execution_count": 32,
     "metadata": {},
     "output_type": "execute_result"
    },
    {
     "data": {
      "image/png": "[encoded data removed]",
      "text/plain": [
       "<Figure size 640x480 with 1 Axes>"
      ]
     },
     "metadata": {},
     "output_type": "display_data"
    }
   ],
   "source": [
    "plt.scatter(y_pred_train, y_train)\n",
    "\n",
    "plt.plot(y_pred_train, y_pred_train, color=\"red\")\n",
    "\n",
    "plt.title(\"Scatter Plot between Predicted & Actual Values\")\n",
    "plt.xlabel(\"Predicted\")\n",
    "plt.ylabel(\"Actual\")"
   ]
  },
  {
   "cell_type": "markdown",
   "id": "ac2153e0-1416-4a55-b954-e3dad10a445b",
   "metadata": {},
   "source": [
    "## 8.2. Test Set"
   ]
  },
  {
   "cell_type": "markdown",
   "id": "b8a50fe3-3d19-4e70-85d5-5abccbf3e162",
   "metadata": {},
   "source": [
    "### 8.2.1. Scoring"
   ]
  },
  {
   "cell_type": "code",
   "execution_count": 33,
   "id": "79b86527-40f9-4106-8afb-c43c5375f8f1",
   "metadata": {},
   "outputs": [
    {
     "name": "stdout",
     "output_type": "stream",
     "text": [
      "r2_score =\t\t\t 0.8635150286653372\n",
      "mean_squared_error =\t\t 11628850.144149022\n",
      "mean_absolute_error =\t\t 2733.4833089629415\n",
      "mean_absolute_percentage_error = 0.10352102609487626\n"
     ]
    }
   ],
   "source": [
    "print(\"r2_score =\\t\\t\\t\", r2_score(y_test, y_pred_test))\n",
    "print(\"mean_squared_error =\\t\\t\", mean_squared_error(y_test, y_pred_test))\n",
    "print(\"mean_absolute_error =\\t\\t\", mean_absolute_error(y_test, y_pred_test))\n",
    "print(\n",
    "    \"mean_absolute_percentage_error =\",\n",
    "    mean_absolute_percentage_error(y_test, y_pred_test),\n",
    ")"
   ]
  },
  {
   "cell_type": "markdown",
   "id": "8d439b74-24f0-4306-ae30-87e318beecaf",
   "metadata": {},
   "source": [
    "### 8.2.2 Scatter Plot between Predicted & Actual Values"
   ]
  },
  {
   "cell_type": "code",
   "execution_count": 34,
   "id": "59fbf5fa-4a78-4fd6-8a58-051ef0590ad8",
   "metadata": {
    "tags": []
   },
   "outputs": [
    {
     "data": {
      "text/plain": [
       "Text(0, 0.5, 'Actual')"
      ]
     },
     "execution_count": 34,
     "metadata": {},
     "output_type": "execute_result"
    },
    {
     "data": {
      "image/png": "[encoded data removed]",
      "text/plain": [
       "<Figure size 640x480 with 1 Axes>"
      ]
     },
     "metadata": {},
     "output_type": "display_data"
    }
   ],
   "source": [
    "plt.scatter(y_pred_test, y_test)\n",
    "\n",
    "plt.plot(y_pred_test, y_pred_test, color=\"red\")\n",
    "\n",
    "plt.title(\"Scatter Plot between Predicted & Actual Values\")\n",
    "plt.xlabel(\"Predicted\")\n",
    "plt.ylabel(\"Actual\")"
   ]
  },
  {
   "cell_type": "markdown",
   "id": "f5c63e38-5166-4e29-896a-8bc32928b94c",
   "metadata": {},
   "source": [
    "# 9. Model Deployment"
   ]
  },
  {
   "cell_type": "code",
   "execution_count": 35,
   "id": "c6330892-ab9e-4e67-914a-32aa22a8dea3",
   "metadata": {},
   "outputs": [],
   "source": [
    "import pickle"
   ]
  },
  {
   "cell_type": "code",
   "execution_count": 36,
   "id": "0e19a911-3289-42ff-bfc3-2dbd81790fbc",
   "metadata": {},
   "outputs": [],
   "source": [
    "pickle.dump(\n",
    "    (\n",
    "        reg,\n",
    "        ordinal_encoder,\n",
    "        one_hot_encoder,\n",
    "        feature_name,\n",
    "        numerical_feature,\n",
    "        ordinal_feature,\n",
    "        nominal_feature,\n",
    "    ),\n",
    "    open(\"salary_model.pickle\", \"wb\"),\n",
    ")"
   ]
  },
  {
   "cell_type": "code",
   "execution_count": null,
   "id": "05e16705-bab2-480c-9ee5-0866baa35bfe",
   "metadata": {},
   "outputs": [],
   "source": []
  }
 ],
 "metadata": {
  "kernelspec": {
   "display_name": "Python 3 (ipykernel)",
   "language": "python",
   "name": "python3"
  },
  "language_info": {
   "codemirror_mode": {
    "name": "ipython",
    "version": 3
   },
   "file_extension": ".py",
   "mimetype": "text/x-python",
   "name": "python",
   "nbconvert_exporter": "python",
   "pygments_lexer": "ipython3",
   "version": "3.8.13"
  }
 },
 "nbformat": 4,
 "nbformat_minor": 5
}
