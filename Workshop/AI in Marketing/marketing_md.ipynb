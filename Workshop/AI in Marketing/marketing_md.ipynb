{
 "cells": [
  {
   "cell_type": "code",
   "execution_count": 1,
   "id": "49a0cede-2e79-44d7-86a7-5b67d0a06fb7",
   "metadata": {},
   "outputs": [],
   "source": [
    "import pickle\n",
    "\n",
    "import numpy as np\n",
    "import pandas as pd"
   ]
  },
  {
   "cell_type": "code",
   "execution_count": 2,
   "id": "b634a74e-46f6-4993-9aa6-f5933bd525c9",
   "metadata": {},
   "outputs": [
    {
     "name": "stderr",
     "output_type": "stream",
     "text": [
      "C:\\ProgramData\\Anaconda3\\lib\\site-packages\\scipy\\__init__.py:138: UserWarning: A NumPy version >=1.16.5 and <1.23.0 is required for this version of SciPy (detected version 1.23.1)\n",
      "  warnings.warn(f\"A NumPy version >={np_minversion} and <{np_maxversion} is required for this version of \"\n"
     ]
    }
   ],
   "source": [
    "saved_model = pickle.load(open(\"marketing_model.pickle\", \"rb\"))"
   ]
  },
  {
   "cell_type": "code",
   "execution_count": 3,
   "id": "9926b432-bc84-47d2-9631-6ac5516fd97a",
   "metadata": {},
   "outputs": [],
   "source": [
    "reg = saved_model[0]\n",
    "feature_name = saved_model[1]"
   ]
  },
  {
   "cell_type": "code",
   "execution_count": 4,
   "id": "1461889a-7b4f-449f-96de-955333e2e166",
   "metadata": {},
   "outputs": [
    {
     "data": {
      "text/plain": [
       "['spend',\n",
       " 'clicks',\n",
       " 'impressions',\n",
       " 'display',\n",
       " 'transactions',\n",
       " 'ctr',\n",
       " 'con_rate']"
      ]
     },
     "execution_count": 4,
     "metadata": {},
     "output_type": "execute_result"
    }
   ],
   "source": [
    "feature_name"
   ]
  },
  {
   "cell_type": "code",
   "execution_count": 5,
   "id": "1b44ed92-039d-4651-aa38-485ca5569391",
   "metadata": {},
   "outputs": [],
   "source": [
    "spend = 42.61\n",
    "clicks = 288\n",
    "impressions = 9748\n",
    "display = 1\n",
    "transactions = 4\n",
    "ctr = 2.95\n",
    "con_rate = 1.39"
   ]
  },
  {
   "cell_type": "code",
   "execution_count": 6,
   "id": "11cb0103-a50f-4d14-8b13-2c1b83a91156",
   "metadata": {},
   "outputs": [
    {
     "data": {
      "text/html": [
       "<div>\n",
       "<style scoped>\n",
       "    .dataframe tbody tr th:only-of-type {\n",
       "        vertical-align: middle;\n",
       "    }\n",
       "\n",
       "    .dataframe tbody tr th {\n",
       "        vertical-align: top;\n",
       "    }\n",
       "\n",
       "    .dataframe thead th {\n",
       "        text-align: right;\n",
       "    }\n",
       "</style>\n",
       "<table border=\"1\" class=\"dataframe\">\n",
       "  <thead>\n",
       "    <tr style=\"text-align: right;\">\n",
       "      <th></th>\n",
       "      <th>spend</th>\n",
       "      <th>clicks</th>\n",
       "      <th>impressions</th>\n",
       "      <th>display</th>\n",
       "      <th>transactions</th>\n",
       "      <th>ctr</th>\n",
       "      <th>con_rate</th>\n",
       "    </tr>\n",
       "  </thead>\n",
       "  <tbody>\n",
       "    <tr>\n",
       "      <th>0</th>\n",
       "      <td>42.61</td>\n",
       "      <td>288.0</td>\n",
       "      <td>9748.0</td>\n",
       "      <td>1.0</td>\n",
       "      <td>4.0</td>\n",
       "      <td>2.95</td>\n",
       "      <td>1.39</td>\n",
       "    </tr>\n",
       "  </tbody>\n",
       "</table>\n",
       "</div>"
      ],
      "text/plain": [
       "   spend  clicks  impressions  display  transactions   ctr  con_rate\n",
       "0  42.61   288.0       9748.0      1.0           4.0  2.95      1.39"
      ]
     },
     "execution_count": 6,
     "metadata": {},
     "output_type": "execute_result"
    }
   ],
   "source": [
    "incoming_data = pd.DataFrame(\n",
    "    np.array([[spend, clicks, impressions, display, transactions, ctr, con_rate]]),\n",
    "    columns=feature_name,\n",
    ")\n",
    "\n",
    "incoming_data"
   ]
  },
  {
   "cell_type": "markdown",
   "id": "0af8d221-52fd-46d7-b88d-be1a5cdec923",
   "metadata": {},
   "source": [
    "### Prediction"
   ]
  },
  {
   "cell_type": "code",
   "execution_count": 7,
   "id": "ab0aa422-ae39-4129-a01b-fc8ad681e2ae",
   "metadata": {},
   "outputs": [],
   "source": [
    "predicted_target = reg.predict(incoming_data)"
   ]
  },
  {
   "cell_type": "code",
   "execution_count": 8,
   "id": "e1dffc76-7a7f-4d5a-bb51-d251959768c6",
   "metadata": {},
   "outputs": [
    {
     "data": {
      "text/plain": [
       "array([290.86280131])"
      ]
     },
     "execution_count": 8,
     "metadata": {},
     "output_type": "execute_result"
    }
   ],
   "source": [
    "predicted_target"
   ]
  }
 ],
 "metadata": {
  "kernelspec": {
   "display_name": "Python 3 (ipykernel)",
   "language": "python",
   "name": "python3"
  },
  "language_info": {
   "codemirror_mode": {
    "name": "ipython",
    "version": 3
   },
   "file_extension": ".py",
   "mimetype": "text/x-python",
   "name": "python",
   "nbconvert_exporter": "python",
   "pygments_lexer": "ipython3",
   "version": "3.8.13"
  }
 },
 "nbformat": 4,
 "nbformat_minor": 5
}
