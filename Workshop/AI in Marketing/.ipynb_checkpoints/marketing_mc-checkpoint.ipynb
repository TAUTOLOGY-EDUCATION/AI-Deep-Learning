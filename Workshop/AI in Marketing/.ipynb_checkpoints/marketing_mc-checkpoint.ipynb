{
 "cells": [
  {
   "cell_type": "markdown",
   "id": "4d37e38f-4730-46ee-b9a9-bf2cce76896c",
   "metadata": {},
   "source": [
    "# 1. Import Libraries"
   ]
  },
  {
   "cell_type": "code",
   "execution_count": 1,
   "id": "facb6174-8b2e-40b9-a783-0ab0dc90377d",
   "metadata": {
    "tags": []
   },
   "outputs": [
    {
     "name": "stderr",
     "output_type": "stream",
     "text": [
      "C:\\ProgramData\\Anaconda3\\lib\\site-packages\\scipy\\__init__.py:138: UserWarning: A NumPy version >=1.16.5 and <1.23.0 is required for this version of SciPy (detected version 1.23.1)\n",
      "  warnings.warn(f\"A NumPy version >={np_minversion} and <{np_maxversion} is required for this version of \"\n"
     ]
    }
   ],
   "source": [
    "import warnings\n",
    "\n",
    "import matplotlib.pyplot as plt\n",
    "import numpy as np\n",
    "import pandas as pd\n",
    "from sklearn.linear_model import LinearRegression\n",
    "from sklearn.metrics import (\n",
    "    mean_absolute_error,\n",
    "    mean_absolute_percentage_error,\n",
    "    mean_squared_error,\n",
    "    r2_score,\n",
    ")\n",
    "from sklearn.model_selection import train_test_split\n",
    "from sklearn.preprocessing import OneHotEncoder, OrdinalEncoder\n",
    "\n",
    "warnings.filterwarnings(\"ignore\")\n",
    "\n",
    "np.random.seed(12345)"
   ]
  },
  {
   "cell_type": "markdown",
   "id": "55782525-1ec3-4db7-ab31-9f6de0e91d33",
   "metadata": {},
   "source": [
    "# 2. Read Data"
   ]
  },
  {
   "cell_type": "code",
   "execution_count": 2,
   "id": "a28b0c2d-46b0-408f-b158-f9f231e7b404",
   "metadata": {
    "tags": []
   },
   "outputs": [
    {
     "data": {
      "text/html": [
       "<div>\n",
       "<style scoped>\n",
       "    .dataframe tbody tr th:only-of-type {\n",
       "        vertical-align: middle;\n",
       "    }\n",
       "\n",
       "    .dataframe tbody tr th {\n",
       "        vertical-align: top;\n",
       "    }\n",
       "\n",
       "    .dataframe thead th {\n",
       "        text-align: right;\n",
       "    }\n",
       "</style>\n",
       "<table border=\"1\" class=\"dataframe\">\n",
       "  <thead>\n",
       "    <tr style=\"text-align: right;\">\n",
       "      <th></th>\n",
       "      <th>spend</th>\n",
       "      <th>clicks</th>\n",
       "      <th>impressions</th>\n",
       "      <th>display</th>\n",
       "      <th>transactions</th>\n",
       "      <th>ctr</th>\n",
       "      <th>con_rate</th>\n",
       "      <th>revenue</th>\n",
       "    </tr>\n",
       "  </thead>\n",
       "  <tbody>\n",
       "    <tr>\n",
       "      <th>0</th>\n",
       "      <td>22.61</td>\n",
       "      <td>165</td>\n",
       "      <td>8672</td>\n",
       "      <td>0</td>\n",
       "      <td>2</td>\n",
       "      <td>1.90</td>\n",
       "      <td>1.21</td>\n",
       "      <td>58.88</td>\n",
       "    </tr>\n",
       "    <tr>\n",
       "      <th>1</th>\n",
       "      <td>37.28</td>\n",
       "      <td>228</td>\n",
       "      <td>11875</td>\n",
       "      <td>0</td>\n",
       "      <td>2</td>\n",
       "      <td>1.92</td>\n",
       "      <td>0.88</td>\n",
       "      <td>44.92</td>\n",
       "    </tr>\n",
       "    <tr>\n",
       "      <th>2</th>\n",
       "      <td>55.57</td>\n",
       "      <td>291</td>\n",
       "      <td>14631</td>\n",
       "      <td>0</td>\n",
       "      <td>3</td>\n",
       "      <td>1.99</td>\n",
       "      <td>1.03</td>\n",
       "      <td>141.56</td>\n",
       "    </tr>\n",
       "    <tr>\n",
       "      <th>3</th>\n",
       "      <td>45.42</td>\n",
       "      <td>247</td>\n",
       "      <td>11709</td>\n",
       "      <td>0</td>\n",
       "      <td>2</td>\n",
       "      <td>2.11</td>\n",
       "      <td>0.81</td>\n",
       "      <td>209.76</td>\n",
       "    </tr>\n",
       "    <tr>\n",
       "      <th>4</th>\n",
       "      <td>50.22</td>\n",
       "      <td>290</td>\n",
       "      <td>14768</td>\n",
       "      <td>0</td>\n",
       "      <td>3</td>\n",
       "      <td>1.96</td>\n",
       "      <td>1.03</td>\n",
       "      <td>197.68</td>\n",
       "    </tr>\n",
       "    <tr>\n",
       "      <th>5</th>\n",
       "      <td>33.05</td>\n",
       "      <td>172</td>\n",
       "      <td>8698</td>\n",
       "      <td>0</td>\n",
       "      <td>2</td>\n",
       "      <td>1.98</td>\n",
       "      <td>1.16</td>\n",
       "      <td>204.36</td>\n",
       "    </tr>\n",
       "    <tr>\n",
       "      <th>6</th>\n",
       "      <td>12.88</td>\n",
       "      <td>68</td>\n",
       "      <td>2924</td>\n",
       "      <td>0</td>\n",
       "      <td>1</td>\n",
       "      <td>2.33</td>\n",
       "      <td>1.47</td>\n",
       "      <td>117.32</td>\n",
       "    </tr>\n",
       "    <tr>\n",
       "      <th>7</th>\n",
       "      <td>23.87</td>\n",
       "      <td>112</td>\n",
       "      <td>5919</td>\n",
       "      <td>0</td>\n",
       "      <td>1</td>\n",
       "      <td>1.89</td>\n",
       "      <td>0.89</td>\n",
       "      <td>72.04</td>\n",
       "    </tr>\n",
       "    <tr>\n",
       "      <th>8</th>\n",
       "      <td>58.38</td>\n",
       "      <td>306</td>\n",
       "      <td>14789</td>\n",
       "      <td>0</td>\n",
       "      <td>3</td>\n",
       "      <td>2.07</td>\n",
       "      <td>0.98</td>\n",
       "      <td>290.40</td>\n",
       "    </tr>\n",
       "    <tr>\n",
       "      <th>9</th>\n",
       "      <td>48.16</td>\n",
       "      <td>300</td>\n",
       "      <td>14818</td>\n",
       "      <td>0</td>\n",
       "      <td>3</td>\n",
       "      <td>2.02</td>\n",
       "      <td>1.00</td>\n",
       "      <td>245.52</td>\n",
       "    </tr>\n",
       "    <tr>\n",
       "      <th>10</th>\n",
       "      <td>63.18</td>\n",
       "      <td>355</td>\n",
       "      <td>17488</td>\n",
       "      <td>0</td>\n",
       "      <td>4</td>\n",
       "      <td>2.03</td>\n",
       "      <td>1.13</td>\n",
       "      <td>264.60</td>\n",
       "    </tr>\n",
       "    <tr>\n",
       "      <th>11</th>\n",
       "      <td>81.28</td>\n",
       "      <td>533</td>\n",
       "      <td>26411</td>\n",
       "      <td>0</td>\n",
       "      <td>5</td>\n",
       "      <td>2.02</td>\n",
       "      <td>0.94</td>\n",
       "      <td>469.40</td>\n",
       "    </tr>\n",
       "    <tr>\n",
       "      <th>12</th>\n",
       "      <td>28.33</td>\n",
       "      <td>177</td>\n",
       "      <td>9011</td>\n",
       "      <td>0</td>\n",
       "      <td>2</td>\n",
       "      <td>1.96</td>\n",
       "      <td>1.13</td>\n",
       "      <td>66.72</td>\n",
       "    </tr>\n",
       "    <tr>\n",
       "      <th>13</th>\n",
       "      <td>28.73</td>\n",
       "      <td>117</td>\n",
       "      <td>6043</td>\n",
       "      <td>0</td>\n",
       "      <td>1</td>\n",
       "      <td>1.94</td>\n",
       "      <td>0.85</td>\n",
       "      <td>16.16</td>\n",
       "    </tr>\n",
       "    <tr>\n",
       "      <th>14</th>\n",
       "      <td>64.82</td>\n",
       "      <td>405</td>\n",
       "      <td>20671</td>\n",
       "      <td>0</td>\n",
       "      <td>4</td>\n",
       "      <td>1.96</td>\n",
       "      <td>0.99</td>\n",
       "      <td>357.76</td>\n",
       "    </tr>\n",
       "    <tr>\n",
       "      <th>15</th>\n",
       "      <td>55.13</td>\n",
       "      <td>291</td>\n",
       "      <td>14558</td>\n",
       "      <td>0</td>\n",
       "      <td>3</td>\n",
       "      <td>2.00</td>\n",
       "      <td>1.03</td>\n",
       "      <td>298.92</td>\n",
       "    </tr>\n",
       "    <tr>\n",
       "      <th>16</th>\n",
       "      <td>81.05</td>\n",
       "      <td>473</td>\n",
       "      <td>23621</td>\n",
       "      <td>0</td>\n",
       "      <td>5</td>\n",
       "      <td>2.00</td>\n",
       "      <td>1.06</td>\n",
       "      <td>265.72</td>\n",
       "    </tr>\n",
       "    <tr>\n",
       "      <th>17</th>\n",
       "      <td>91.28</td>\n",
       "      <td>593</td>\n",
       "      <td>29324</td>\n",
       "      <td>0</td>\n",
       "      <td>6</td>\n",
       "      <td>2.02</td>\n",
       "      <td>1.01</td>\n",
       "      <td>522.00</td>\n",
       "    </tr>\n",
       "    <tr>\n",
       "      <th>18</th>\n",
       "      <td>65.31</td>\n",
       "      <td>345</td>\n",
       "      <td>17488</td>\n",
       "      <td>0</td>\n",
       "      <td>4</td>\n",
       "      <td>1.97</td>\n",
       "      <td>1.16</td>\n",
       "      <td>311.52</td>\n",
       "    </tr>\n",
       "    <tr>\n",
       "      <th>19</th>\n",
       "      <td>36.34</td>\n",
       "      <td>238</td>\n",
       "      <td>11855</td>\n",
       "      <td>0</td>\n",
       "      <td>2</td>\n",
       "      <td>2.01</td>\n",
       "      <td>0.84</td>\n",
       "      <td>279.96</td>\n",
       "    </tr>\n",
       "    <tr>\n",
       "      <th>20</th>\n",
       "      <td>25.02</td>\n",
       "      <td>175</td>\n",
       "      <td>5708</td>\n",
       "      <td>1</td>\n",
       "      <td>3</td>\n",
       "      <td>3.07</td>\n",
       "      <td>1.71</td>\n",
       "      <td>185.36</td>\n",
       "    </tr>\n",
       "    <tr>\n",
       "      <th>21</th>\n",
       "      <td>38.78</td>\n",
       "      <td>180</td>\n",
       "      <td>5737</td>\n",
       "      <td>1</td>\n",
       "      <td>3</td>\n",
       "      <td>3.14</td>\n",
       "      <td>1.67</td>\n",
       "      <td>81.12</td>\n",
       "    </tr>\n",
       "    <tr>\n",
       "      <th>22</th>\n",
       "      <td>31.52</td>\n",
       "      <td>226</td>\n",
       "      <td>7958</td>\n",
       "      <td>1</td>\n",
       "      <td>4</td>\n",
       "      <td>2.84</td>\n",
       "      <td>1.77</td>\n",
       "      <td>311.92</td>\n",
       "    </tr>\n",
       "    <tr>\n",
       "      <th>23</th>\n",
       "      <td>51.86</td>\n",
       "      <td>283</td>\n",
       "      <td>9934</td>\n",
       "      <td>1</td>\n",
       "      <td>4</td>\n",
       "      <td>2.85</td>\n",
       "      <td>1.41</td>\n",
       "      <td>353.68</td>\n",
       "    </tr>\n",
       "    <tr>\n",
       "      <th>24</th>\n",
       "      <td>33.61</td>\n",
       "      <td>241</td>\n",
       "      <td>7702</td>\n",
       "      <td>1</td>\n",
       "      <td>4</td>\n",
       "      <td>3.13</td>\n",
       "      <td>1.66</td>\n",
       "      <td>168.44</td>\n",
       "    </tr>\n",
       "    <tr>\n",
       "      <th>25</th>\n",
       "      <td>54.93</td>\n",
       "      <td>303</td>\n",
       "      <td>9820</td>\n",
       "      <td>1</td>\n",
       "      <td>4</td>\n",
       "      <td>3.09</td>\n",
       "      <td>1.32</td>\n",
       "      <td>403.88</td>\n",
       "    </tr>\n",
       "    <tr>\n",
       "      <th>26</th>\n",
       "      <td>39.68</td>\n",
       "      <td>169</td>\n",
       "      <td>6048</td>\n",
       "      <td>1</td>\n",
       "      <td>3</td>\n",
       "      <td>2.79</td>\n",
       "      <td>1.78</td>\n",
       "      <td>289.28</td>\n",
       "    </tr>\n",
       "    <tr>\n",
       "      <th>27</th>\n",
       "      <td>1.12</td>\n",
       "      <td>48</td>\n",
       "      <td>1862</td>\n",
       "      <td>1</td>\n",
       "      <td>1</td>\n",
       "      <td>2.58</td>\n",
       "      <td>2.08</td>\n",
       "      <td>17.44</td>\n",
       "    </tr>\n",
       "    <tr>\n",
       "      <th>28</th>\n",
       "      <td>23.04</td>\n",
       "      <td>126</td>\n",
       "      <td>3828</td>\n",
       "      <td>1</td>\n",
       "      <td>2</td>\n",
       "      <td>3.29</td>\n",
       "      <td>1.59</td>\n",
       "      <td>235.16</td>\n",
       "    </tr>\n",
       "    <tr>\n",
       "      <th>29</th>\n",
       "      <td>48.31</td>\n",
       "      <td>300</td>\n",
       "      <td>9751</td>\n",
       "      <td>1</td>\n",
       "      <td>4</td>\n",
       "      <td>3.08</td>\n",
       "      <td>1.33</td>\n",
       "      <td>304.88</td>\n",
       "    </tr>\n",
       "    <tr>\n",
       "      <th>30</th>\n",
       "      <td>42.61</td>\n",
       "      <td>288</td>\n",
       "      <td>9748</td>\n",
       "      <td>1</td>\n",
       "      <td>4</td>\n",
       "      <td>2.95</td>\n",
       "      <td>1.39</td>\n",
       "      <td>354.68</td>\n",
       "    </tr>\n",
       "    <tr>\n",
       "      <th>31</th>\n",
       "      <td>55.63</td>\n",
       "      <td>360</td>\n",
       "      <td>11879</td>\n",
       "      <td>1</td>\n",
       "      <td>5</td>\n",
       "      <td>3.03</td>\n",
       "      <td>1.39</td>\n",
       "      <td>309.12</td>\n",
       "    </tr>\n",
       "    <tr>\n",
       "      <th>32</th>\n",
       "      <td>91.14</td>\n",
       "      <td>541</td>\n",
       "      <td>17571</td>\n",
       "      <td>1</td>\n",
       "      <td>8</td>\n",
       "      <td>3.08</td>\n",
       "      <td>1.48</td>\n",
       "      <td>534.16</td>\n",
       "    </tr>\n",
       "    <tr>\n",
       "      <th>33</th>\n",
       "      <td>35.27</td>\n",
       "      <td>186</td>\n",
       "      <td>6027</td>\n",
       "      <td>1</td>\n",
       "      <td>3</td>\n",
       "      <td>3.09</td>\n",
       "      <td>1.61</td>\n",
       "      <td>266.32</td>\n",
       "    </tr>\n",
       "    <tr>\n",
       "      <th>34</th>\n",
       "      <td>13.01</td>\n",
       "      <td>106</td>\n",
       "      <td>4056</td>\n",
       "      <td>1</td>\n",
       "      <td>2</td>\n",
       "      <td>2.61</td>\n",
       "      <td>1.89</td>\n",
       "      <td>232.08</td>\n",
       "    </tr>\n",
       "    <tr>\n",
       "      <th>35</th>\n",
       "      <td>65.26</td>\n",
       "      <td>412</td>\n",
       "      <td>13534</td>\n",
       "      <td>1</td>\n",
       "      <td>6</td>\n",
       "      <td>3.04</td>\n",
       "      <td>1.46</td>\n",
       "      <td>412.64</td>\n",
       "    </tr>\n",
       "    <tr>\n",
       "      <th>36</th>\n",
       "      <td>50.17</td>\n",
       "      <td>286</td>\n",
       "      <td>9797</td>\n",
       "      <td>1</td>\n",
       "      <td>4</td>\n",
       "      <td>2.92</td>\n",
       "      <td>1.40</td>\n",
       "      <td>411.40</td>\n",
       "    </tr>\n",
       "    <tr>\n",
       "      <th>37</th>\n",
       "      <td>85.14</td>\n",
       "      <td>479</td>\n",
       "      <td>15500</td>\n",
       "      <td>1</td>\n",
       "      <td>7</td>\n",
       "      <td>3.09</td>\n",
       "      <td>1.46</td>\n",
       "      <td>410.88</td>\n",
       "    </tr>\n",
       "    <tr>\n",
       "      <th>38</th>\n",
       "      <td>91.51</td>\n",
       "      <td>592</td>\n",
       "      <td>19433</td>\n",
       "      <td>1</td>\n",
       "      <td>9</td>\n",
       "      <td>3.05</td>\n",
       "      <td>1.52</td>\n",
       "      <td>707.28</td>\n",
       "    </tr>\n",
       "    <tr>\n",
       "      <th>39</th>\n",
       "      <td>65.33</td>\n",
       "      <td>362</td>\n",
       "      <td>11727</td>\n",
       "      <td>1</td>\n",
       "      <td>5</td>\n",
       "      <td>3.09</td>\n",
       "      <td>1.38</td>\n",
       "      <td>317.28</td>\n",
       "    </tr>\n",
       "  </tbody>\n",
       "</table>\n",
       "</div>"
      ],
      "text/plain": [
       "    spend  clicks  impressions  display  transactions   ctr  con_rate  revenue\n",
       "0   22.61     165         8672        0             2  1.90      1.21    58.88\n",
       "1   37.28     228        11875        0             2  1.92      0.88    44.92\n",
       "2   55.57     291        14631        0             3  1.99      1.03   141.56\n",
       "3   45.42     247        11709        0             2  2.11      0.81   209.76\n",
       "4   50.22     290        14768        0             3  1.96      1.03   197.68\n",
       "5   33.05     172         8698        0             2  1.98      1.16   204.36\n",
       "6   12.88      68         2924        0             1  2.33      1.47   117.32\n",
       "7   23.87     112         5919        0             1  1.89      0.89    72.04\n",
       "8   58.38     306        14789        0             3  2.07      0.98   290.40\n",
       "9   48.16     300        14818        0             3  2.02      1.00   245.52\n",
       "10  63.18     355        17488        0             4  2.03      1.13   264.60\n",
       "11  81.28     533        26411        0             5  2.02      0.94   469.40\n",
       "12  28.33     177         9011        0             2  1.96      1.13    66.72\n",
       "13  28.73     117         6043        0             1  1.94      0.85    16.16\n",
       "14  64.82     405        20671        0             4  1.96      0.99   357.76\n",
       "15  55.13     291        14558        0             3  2.00      1.03   298.92\n",
       "16  81.05     473        23621        0             5  2.00      1.06   265.72\n",
       "17  91.28     593        29324        0             6  2.02      1.01   522.00\n",
       "18  65.31     345        17488        0             4  1.97      1.16   311.52\n",
       "19  36.34     238        11855        0             2  2.01      0.84   279.96\n",
       "20  25.02     175         5708        1             3  3.07      1.71   185.36\n",
       "21  38.78     180         5737        1             3  3.14      1.67    81.12\n",
       "22  31.52     226         7958        1             4  2.84      1.77   311.92\n",
       "23  51.86     283         9934        1             4  2.85      1.41   353.68\n",
       "24  33.61     241         7702        1             4  3.13      1.66   168.44\n",
       "25  54.93     303         9820        1             4  3.09      1.32   403.88\n",
       "26  39.68     169         6048        1             3  2.79      1.78   289.28\n",
       "27   1.12      48         1862        1             1  2.58      2.08    17.44\n",
       "28  23.04     126         3828        1             2  3.29      1.59   235.16\n",
       "29  48.31     300         9751        1             4  3.08      1.33   304.88\n",
       "30  42.61     288         9748        1             4  2.95      1.39   354.68\n",
       "31  55.63     360        11879        1             5  3.03      1.39   309.12\n",
       "32  91.14     541        17571        1             8  3.08      1.48   534.16\n",
       "33  35.27     186         6027        1             3  3.09      1.61   266.32\n",
       "34  13.01     106         4056        1             2  2.61      1.89   232.08\n",
       "35  65.26     412        13534        1             6  3.04      1.46   412.64\n",
       "36  50.17     286         9797        1             4  2.92      1.40   411.40\n",
       "37  85.14     479        15500        1             7  3.09      1.46   410.88\n",
       "38  91.51     592        19433        1             9  3.05      1.52   707.28\n",
       "39  65.33     362        11727        1             5  3.09      1.38   317.28"
      ]
     },
     "execution_count": 2,
     "metadata": {},
     "output_type": "execute_result"
    }
   ],
   "source": [
    "data = pd.read_csv(\"ad_dataset.csv\")\n",
    "\n",
    "data"
   ]
  },
  {
   "cell_type": "markdown",
   "id": "639abbe4-053d-4f83-93ad-f184246b0ad8",
   "metadata": {},
   "source": [
    "# 3. Clean Data"
   ]
  },
  {
   "cell_type": "markdown",
   "id": "de77507b-46eb-471c-ac91-9d5026e99a69",
   "metadata": {},
   "source": [
    "## 3.1. Handle Missing Values"
   ]
  },
  {
   "cell_type": "markdown",
   "id": "bde49381-ae26-4d85-850d-a35256c317e8",
   "metadata": {},
   "source": [
    "### 3.1.1. Check Missing Values"
   ]
  },
  {
   "cell_type": "code",
   "execution_count": 3,
   "id": "ed7018c9-b231-4fd0-a927-fb5eb144942f",
   "metadata": {},
   "outputs": [
    {
     "name": "stdout",
     "output_type": "stream",
     "text": [
      "<class 'pandas.core.frame.DataFrame'>\n",
      "RangeIndex: 40 entries, 0 to 39\n",
      "Data columns (total 8 columns):\n",
      " #   Column        Non-Null Count  Dtype  \n",
      "---  ------        --------------  -----  \n",
      " 0   spend         40 non-null     float64\n",
      " 1   clicks        40 non-null     int64  \n",
      " 2   impressions   40 non-null     int64  \n",
      " 3   display       40 non-null     int64  \n",
      " 4   transactions  40 non-null     int64  \n",
      " 5   ctr           40 non-null     float64\n",
      " 6   con_rate      40 non-null     float64\n",
      " 7   revenue       40 non-null     float64\n",
      "dtypes: float64(4), int64(4)\n",
      "memory usage: 2.6 KB\n"
     ]
    }
   ],
   "source": [
    "data.info()"
   ]
  },
  {
   "cell_type": "markdown",
   "id": "d5e9530a-7d0f-4943-a70c-3b20b607b251",
   "metadata": {},
   "source": [
    "### 3.1.2. Remove Missing Values (Listwise Deletion)"
   ]
  },
  {
   "cell_type": "code",
   "execution_count": 4,
   "id": "d1a62e9f-b173-43eb-b795-699de07f3e3a",
   "metadata": {},
   "outputs": [],
   "source": [
    "# no NaN to remove"
   ]
  },
  {
   "cell_type": "markdown",
   "id": "6b5d3620-3a3a-4884-920f-637f888d1a22",
   "metadata": {},
   "source": [
    "## 3.2. Handle Outliers"
   ]
  },
  {
   "cell_type": "markdown",
   "id": "74b6cfc3-22dc-497e-a627-5579c3505a26",
   "metadata": {},
   "source": [
    "### 3.2.1. Check Outliers"
   ]
  },
  {
   "cell_type": "code",
   "execution_count": 5,
   "id": "eba79d02-7f72-4470-91a4-08d32bd3e3f1",
   "metadata": {},
   "outputs": [
    {
     "data": {
      "text/html": [
       "<div>\n",
       "<style scoped>\n",
       "    .dataframe tbody tr th:only-of-type {\n",
       "        vertical-align: middle;\n",
       "    }\n",
       "\n",
       "    .dataframe tbody tr th {\n",
       "        vertical-align: top;\n",
       "    }\n",
       "\n",
       "    .dataframe thead th {\n",
       "        text-align: right;\n",
       "    }\n",
       "</style>\n",
       "<table border=\"1\" class=\"dataframe\">\n",
       "  <thead>\n",
       "    <tr style=\"text-align: right;\">\n",
       "      <th></th>\n",
       "      <th>spend</th>\n",
       "      <th>clicks</th>\n",
       "      <th>impressions</th>\n",
       "      <th>display</th>\n",
       "      <th>transactions</th>\n",
       "      <th>ctr</th>\n",
       "      <th>con_rate</th>\n",
       "      <th>revenue</th>\n",
       "    </tr>\n",
       "  </thead>\n",
       "  <tbody>\n",
       "    <tr>\n",
       "      <th>count</th>\n",
       "      <td>40.000000</td>\n",
       "      <td>40.000000</td>\n",
       "      <td>40.000000</td>\n",
       "      <td>40.00000</td>\n",
       "      <td>40.000000</td>\n",
       "      <td>40.000000</td>\n",
       "      <td>40.000000</td>\n",
       "      <td>40.000000</td>\n",
       "    </tr>\n",
       "    <tr>\n",
       "      <th>mean</th>\n",
       "      <td>48.145750</td>\n",
       "      <td>284.225000</td>\n",
       "      <td>11822.325000</td>\n",
       "      <td>0.50000</td>\n",
       "      <td>3.575000</td>\n",
       "      <td>2.497250</td>\n",
       "      <td>1.297500</td>\n",
       "      <td>268.555000</td>\n",
       "    </tr>\n",
       "    <tr>\n",
       "      <th>std</th>\n",
       "      <td>22.679736</td>\n",
       "      <td>139.346918</td>\n",
       "      <td>6288.169345</td>\n",
       "      <td>0.50637</td>\n",
       "      <td>1.838164</td>\n",
       "      <td>0.518909</td>\n",
       "      <td>0.324691</td>\n",
       "      <td>150.873933</td>\n",
       "    </tr>\n",
       "    <tr>\n",
       "      <th>min</th>\n",
       "      <td>1.120000</td>\n",
       "      <td>48.000000</td>\n",
       "      <td>1862.000000</td>\n",
       "      <td>0.00000</td>\n",
       "      <td>1.000000</td>\n",
       "      <td>1.890000</td>\n",
       "      <td>0.810000</td>\n",
       "      <td>16.160000</td>\n",
       "    </tr>\n",
       "    <tr>\n",
       "      <th>25%</th>\n",
       "      <td>32.667500</td>\n",
       "      <td>176.500000</td>\n",
       "      <td>7288.500000</td>\n",
       "      <td>0.00000</td>\n",
       "      <td>2.000000</td>\n",
       "      <td>1.997500</td>\n",
       "      <td>1.025000</td>\n",
       "      <td>181.130000</td>\n",
       "    </tr>\n",
       "    <tr>\n",
       "      <th>50%</th>\n",
       "      <td>48.235000</td>\n",
       "      <td>287.000000</td>\n",
       "      <td>10821.500000</td>\n",
       "      <td>0.50000</td>\n",
       "      <td>3.000000</td>\n",
       "      <td>2.455000</td>\n",
       "      <td>1.325000</td>\n",
       "      <td>273.140000</td>\n",
       "    </tr>\n",
       "    <tr>\n",
       "      <th>75%</th>\n",
       "      <td>63.590000</td>\n",
       "      <td>356.250000</td>\n",
       "      <td>14796.250000</td>\n",
       "      <td>1.00000</td>\n",
       "      <td>4.000000</td>\n",
       "      <td>3.055000</td>\n",
       "      <td>1.490000</td>\n",
       "      <td>353.930000</td>\n",
       "    </tr>\n",
       "    <tr>\n",
       "      <th>max</th>\n",
       "      <td>91.510000</td>\n",
       "      <td>593.000000</td>\n",
       "      <td>29324.000000</td>\n",
       "      <td>1.00000</td>\n",
       "      <td>9.000000</td>\n",
       "      <td>3.290000</td>\n",
       "      <td>2.080000</td>\n",
       "      <td>707.280000</td>\n",
       "    </tr>\n",
       "  </tbody>\n",
       "</table>\n",
       "</div>"
      ],
      "text/plain": [
       "           spend      clicks   impressions   display  transactions        ctr  \\\n",
       "count  40.000000   40.000000     40.000000  40.00000     40.000000  40.000000   \n",
       "mean   48.145750  284.225000  11822.325000   0.50000      3.575000   2.497250   \n",
       "std    22.679736  139.346918   6288.169345   0.50637      1.838164   0.518909   \n",
       "min     1.120000   48.000000   1862.000000   0.00000      1.000000   1.890000   \n",
       "25%    32.667500  176.500000   7288.500000   0.00000      2.000000   1.997500   \n",
       "50%    48.235000  287.000000  10821.500000   0.50000      3.000000   2.455000   \n",
       "75%    63.590000  356.250000  14796.250000   1.00000      4.000000   3.055000   \n",
       "max    91.510000  593.000000  29324.000000   1.00000      9.000000   3.290000   \n",
       "\n",
       "        con_rate     revenue  \n",
       "count  40.000000   40.000000  \n",
       "mean    1.297500  268.555000  \n",
       "std     0.324691  150.873933  \n",
       "min     0.810000   16.160000  \n",
       "25%     1.025000  181.130000  \n",
       "50%     1.325000  273.140000  \n",
       "75%     1.490000  353.930000  \n",
       "max     2.080000  707.280000  "
      ]
     },
     "execution_count": 5,
     "metadata": {},
     "output_type": "execute_result"
    }
   ],
   "source": [
    "data.describe()"
   ]
  },
  {
   "cell_type": "markdown",
   "id": "67dbb0ac-7279-4e61-91a7-95477350598f",
   "metadata": {},
   "source": [
    "### 3.2.2. Remove Outliers"
   ]
  },
  {
   "cell_type": "code",
   "execution_count": 6,
   "id": "4dd6a01d-14da-4d36-a643-76ae2e2c199b",
   "metadata": {},
   "outputs": [],
   "source": [
    "# no outlier to remove"
   ]
  },
  {
   "cell_type": "markdown",
   "id": "3494bc09-517c-47b1-b641-3debf5e88ad7",
   "metadata": {},
   "source": [
    "# 4. Split Dataset into Training & Test Sets"
   ]
  },
  {
   "cell_type": "code",
   "execution_count": 7,
   "id": "3f38c48a-f765-47ea-b1bf-faa6cef0d694",
   "metadata": {},
   "outputs": [],
   "source": [
    "target_name = \"revenue\"\n",
    "feature_name = list(data.columns.drop(target_name))"
   ]
  },
  {
   "cell_type": "code",
   "execution_count": 8,
   "id": "b0f44796-870f-48a9-bb80-5e91449cab20",
   "metadata": {},
   "outputs": [],
   "source": [
    "X = data[feature_name]\n",
    "y = data[target_name]"
   ]
  },
  {
   "cell_type": "code",
   "execution_count": 9,
   "id": "634f8b31-15b7-4706-84bd-3f4278c27354",
   "metadata": {},
   "outputs": [],
   "source": [
    "X_train, X_test, y_train, y_test = train_test_split(X, y, test_size=0.20, shuffle=True)"
   ]
  },
  {
   "cell_type": "markdown",
   "id": "4418592b-eaa8-4fef-b0d1-7a6674bca500",
   "metadata": {},
   "source": [
    "# ### 5. Data Preparation"
   ]
  },
  {
   "cell_type": "markdown",
   "id": "5c07c67f-065b-4859-9f4a-08b703cf37f7",
   "metadata": {},
   "source": [
    "# 6. Model Creation"
   ]
  },
  {
   "cell_type": "markdown",
   "id": "50a74ba9-bfe8-4622-bf71-fce4a9b724be",
   "metadata": {},
   "source": [
    "## 6.1. Setting Parameters"
   ]
  },
  {
   "cell_type": "code",
   "execution_count": 10,
   "id": "f1218d25-7299-4cf0-b0f4-f89a12f59822",
   "metadata": {},
   "outputs": [],
   "source": [
    "reg = LinearRegression()"
   ]
  },
  {
   "cell_type": "markdown",
   "id": "57b48b62-9aae-4027-80e8-af0e0871eeb6",
   "metadata": {},
   "source": [
    "## 6.2. Train Model"
   ]
  },
  {
   "cell_type": "code",
   "execution_count": 11,
   "id": "e466e449-c14d-441e-a8fc-15d0024163a4",
   "metadata": {},
   "outputs": [
    {
     "data": {
      "text/plain": [
       "LinearRegression()"
      ]
     },
     "execution_count": 11,
     "metadata": {},
     "output_type": "execute_result"
    }
   ],
   "source": [
    "reg.fit(X_train, y_train)"
   ]
  },
  {
   "cell_type": "markdown",
   "id": "3b64ff19-a509-4432-a249-a1e8097b2fb1",
   "metadata": {},
   "source": [
    "## 6.3. Model's Weight & Bias"
   ]
  },
  {
   "cell_type": "code",
   "execution_count": 12,
   "id": "7746c697-e68b-469a-b142-f8dcbf371ec8",
   "metadata": {},
   "outputs": [
    {
     "data": {
      "text/plain": [
       "array([ 2.50673311e+00,  1.47597596e-01,  3.86028107e-03,  7.47774511e+01,\n",
       "        2.25275834e+01, -1.28419191e+01,  6.99353864e+01])"
      ]
     },
     "execution_count": 12,
     "metadata": {},
     "output_type": "execute_result"
    }
   ],
   "source": [
    "reg.coef_"
   ]
  },
  {
   "cell_type": "code",
   "execution_count": 13,
   "id": "66e5e982-cbc3-45a6-bda1-78ea4324997f",
   "metadata": {},
   "outputs": [
    {
     "data": {
      "text/plain": [
       "-120.30153508837242"
      ]
     },
     "execution_count": 13,
     "metadata": {},
     "output_type": "execute_result"
    }
   ],
   "source": [
    "reg.intercept_"
   ]
  },
  {
   "cell_type": "markdown",
   "id": "f1aaf6ca-d7fe-4062-860d-9681a6274b21",
   "metadata": {},
   "source": [
    "# 7. Prediction"
   ]
  },
  {
   "cell_type": "markdown",
   "id": "a9ea58b1-9358-46f0-9370-d21781b68a2b",
   "metadata": {},
   "source": [
    "## 7.1. Training Set"
   ]
  },
  {
   "cell_type": "code",
   "execution_count": 14,
   "id": "397b5a6a-9eb3-4b40-b9b4-df36b52b15f2",
   "metadata": {},
   "outputs": [],
   "source": [
    "y_pred_train = reg.predict(X_train)"
   ]
  },
  {
   "cell_type": "markdown",
   "id": "aa0cbcc3-5890-40e9-a1dc-62f5ce50587b",
   "metadata": {},
   "source": [
    "## 7.2. Test Set"
   ]
  },
  {
   "cell_type": "code",
   "execution_count": 15,
   "id": "ac6cb5e2-ff29-45bf-97bc-3313804628f7",
   "metadata": {},
   "outputs": [],
   "source": [
    "y_pred_test = reg.predict(X_test)"
   ]
  },
  {
   "cell_type": "markdown",
   "id": "9c57f668-894d-4740-818c-b2c09c1a811a",
   "metadata": {},
   "source": [
    "# 8. Model Evaluation"
   ]
  },
  {
   "cell_type": "markdown",
   "id": "5eee3a87-4bec-4bb8-aded-5bd078e5941e",
   "metadata": {},
   "source": [
    "## 8.1. Training Set"
   ]
  },
  {
   "cell_type": "markdown",
   "id": "8ba33c81-f8c3-4713-bf9c-dcb543495560",
   "metadata": {},
   "source": [
    "### 8.1.1. Scoring"
   ]
  },
  {
   "cell_type": "code",
   "execution_count": 16,
   "id": "91c58e40-ae67-4a18-a352-ad4277ff8cff",
   "metadata": {},
   "outputs": [
    {
     "name": "stdout",
     "output_type": "stream",
     "text": [
      "r2_score =\t\t\t 0.8272001159959554\n",
      "mean_squared_error =\t\t 3989.0113282430384\n",
      "mean_absolute_error =\t\t 54.46286900464575\n",
      "mean_absolute_percentage_error = 0.5028554980635457\n"
     ]
    }
   ],
   "source": [
    "print(\"r2_score =\\t\\t\\t\", r2_score(y_train, y_pred_train))\n",
    "print(\"mean_squared_error =\\t\\t\", mean_squared_error(y_train, y_pred_train))\n",
    "print(\"mean_absolute_error =\\t\\t\", mean_absolute_error(y_train, y_pred_train))\n",
    "print(\n",
    "    \"mean_absolute_percentage_error =\",\n",
    "    mean_absolute_percentage_error(y_train, y_pred_train),\n",
    ")"
   ]
  },
  {
   "cell_type": "markdown",
   "id": "a2b82704-410d-41e2-b762-e5034496650f",
   "metadata": {},
   "source": [
    "### 8.1.2. Scatter Plot between Predicted & Actual Values"
   ]
  },
  {
   "cell_type": "code",
   "execution_count": 17,
   "id": "bb8c51ca-1e09-494d-8503-2ce8a6938125",
   "metadata": {},
   "outputs": [
    {
     "data": {
      "text/plain": [
       "Text(0, 0.5, 'Actual')"
      ]
     },
     "execution_count": 17,
     "metadata": {},
     "output_type": "execute_result"
    },
    {
     "data": {
      "image/png": "[encoded data removed]",
      "text/plain": [
       "<Figure size 640x480 with 1 Axes>"
      ]
     },
     "metadata": {},
     "output_type": "display_data"
    }
   ],
   "source": [
    "plt.scatter(y_pred_train, y_train)\n",
    "\n",
    "plt.plot(y_pred_train, y_pred_train, color=\"red\")\n",
    "\n",
    "plt.title(\"Scatter Plot between Predicted & Actual Values\")\n",
    "plt.xlabel(\"Predicted\")\n",
    "plt.ylabel(\"Actual\")"
   ]
  },
  {
   "cell_type": "markdown",
   "id": "4559f6ca-be84-4287-b3bc-842a6f5a5e37",
   "metadata": {},
   "source": [
    "## 8.2. Test Set"
   ]
  },
  {
   "cell_type": "markdown",
   "id": "c4ddb68a-462c-4377-ae29-0f098f810c8d",
   "metadata": {},
   "source": [
    "### 8.2.1. Scoring"
   ]
  },
  {
   "cell_type": "code",
   "execution_count": 18,
   "id": "428406b9-4168-43d3-a0dd-52634b7b3896",
   "metadata": {},
   "outputs": [
    {
     "name": "stdout",
     "output_type": "stream",
     "text": [
      "r2_score =\t\t\t 0.4433027493697399\n",
      "mean_squared_error =\t\t 10334.676830306435\n",
      "mean_absolute_error =\t\t 93.63826617570581\n",
      "mean_absolute_percentage_error = 0.5614025650086505\n"
     ]
    }
   ],
   "source": [
    "print(\"r2_score =\\t\\t\\t\", r2_score(y_test, y_pred_test))\n",
    "print(\"mean_squared_error =\\t\\t\", mean_squared_error(y_test, y_pred_test))\n",
    "print(\"mean_absolute_error =\\t\\t\", mean_absolute_error(y_test, y_pred_test))\n",
    "print(\n",
    "    \"mean_absolute_percentage_error =\",\n",
    "    mean_absolute_percentage_error(y_test, y_pred_test),\n",
    ")"
   ]
  },
  {
   "cell_type": "markdown",
   "id": "ba916f8c-440f-43ed-904a-c8cd9cd09100",
   "metadata": {},
   "source": [
    "### 8.2.2 Scatter Plot between Predicted & Actual Values"
   ]
  },
  {
   "cell_type": "code",
   "execution_count": 19,
   "id": "06f6b341-131d-4fab-a7fb-bfe0e12591fb",
   "metadata": {
    "tags": []
   },
   "outputs": [
    {
     "data": {
      "text/plain": [
       "Text(0, 0.5, 'Actual')"
      ]
     },
     "execution_count": 19,
     "metadata": {},
     "output_type": "execute_result"
    },
    {
     "data": {
      "image/png": "[encoded data removed]",
      "text/plain": [
       "<Figure size 640x480 with 1 Axes>"
      ]
     },
     "metadata": {},
     "output_type": "display_data"
    }
   ],
   "source": [
    "plt.scatter(y_pred_test, y_test)\n",
    "\n",
    "plt.plot(y_pred_test, y_pred_test, color=\"red\")\n",
    "\n",
    "plt.title(\"Scatter Plot between Predicted & Actual Values\")\n",
    "plt.xlabel(\"Predicted\")\n",
    "plt.ylabel(\"Actual\")"
   ]
  },
  {
   "cell_type": "markdown",
   "id": "7c6f98f6-ebdf-4cd2-85b6-0eb45e8f9534",
   "metadata": {},
   "source": [
    "# 9. Save Model"
   ]
  },
  {
   "cell_type": "code",
   "execution_count": 20,
   "id": "6e368e54-0be6-4945-9096-edb224a0f093",
   "metadata": {},
   "outputs": [],
   "source": [
    "import pickle"
   ]
  },
  {
   "cell_type": "code",
   "execution_count": 21,
   "id": "1731177d-fb4a-4d6e-ba5f-399fc4666db6",
   "metadata": {},
   "outputs": [],
   "source": [
    "pickle.dump(\n",
    "    (\n",
    "        reg,\n",
    "        feature_name,\n",
    "    ),\n",
    "    open(\"marketing_model.pickle\", \"wb\"),\n",
    ")"
   ]
  }
 ],
 "metadata": {
  "kernelspec": {
   "display_name": "Python 3 (ipykernel)",
   "language": "python",
   "name": "python3"
  },
  "language_info": {
   "codemirror_mode": {
    "name": "ipython",
    "version": 3
   },
   "file_extension": ".py",
   "mimetype": "text/x-python",
   "name": "python",
   "nbconvert_exporter": "python",
   "pygments_lexer": "ipython3",
   "version": "3.8.13"
  }
 },
 "nbformat": 4,
 "nbformat_minor": 5
}
