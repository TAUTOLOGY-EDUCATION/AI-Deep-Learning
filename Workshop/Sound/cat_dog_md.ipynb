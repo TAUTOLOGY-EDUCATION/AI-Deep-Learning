{
 "cells": [
  {
   "cell_type": "code",
   "execution_count": 39,
   "id": "3f81540e-50a4-49d0-a250-8500763be651",
   "metadata": {},
   "outputs": [],
   "source": [
    "import pickle\n",
    "from glob import glob\n",
    "\n",
    "import cv2\n",
    "import librosa\n",
    "import numpy as np\n",
    "import pandas as pd\n",
    "from PIL import Image\n",
    "import matplotlib.pyplot as plt"
   ]
  },
  {
   "cell_type": "code",
   "execution_count": 40,
   "id": "20256f8d-ea96-42f0-af96-fcbb580e7180",
   "metadata": {},
   "outputs": [],
   "source": [
    "saved_model = pickle.load(open(\"cat_dog_model.pickle\", \"rb\"))"
   ]
  },
  {
   "cell_type": "code",
   "execution_count": 41,
   "id": "05e7f045-d80e-40b2-b740-3b1832876851",
   "metadata": {},
   "outputs": [],
   "source": [
    "clf = saved_model[0]\n",
    "scaler = saved_model[1]"
   ]
  },
  {
   "cell_type": "code",
   "execution_count": 42,
   "id": "a893e6fa-93c7-4864-8a35-3cabec3567f9",
   "metadata": {},
   "outputs": [],
   "source": [
    "def get_img(voice_data, sampling_data, mode):\n",
    "    if mode == \"spec\":\n",
    "        stft = np.abs(librosa.core.spectrum.stft(voice_data))\n",
    "        return librosa.amplitude_to_db(stft, ref=np.max)\n",
    "    elif mode == \"mel\":\n",
    "        stft = np.abs(librosa.feature.melspectrogram(voice_data))\n",
    "        return librosa.amplitude_to_db(stft, ref=np.max)\n",
    "    elif mode == \"chrom\":\n",
    "        stft = np.abs(librosa.core.spectrum.stft(voice_data))\n",
    "        return librosa.feature.chroma_stft(S=stft, sr=sampling_rate)"
   ]
  },
  {
   "cell_type": "code",
   "execution_count": 43,
   "id": "87cbb662-e598-41f2-a8d0-ce16001ca007",
   "metadata": {},
   "outputs": [],
   "source": [
    "mode = \"mel\"\n",
    "width = 256\n",
    "height = 32"
   ]
  },
  {
   "cell_type": "code",
   "execution_count": 44,
   "id": "590ae037-8700-47a2-879c-15b914715e5b",
   "metadata": {},
   "outputs": [
    {
     "name": "stderr",
     "output_type": "stream",
     "text": [
      "C:\\Users\\pre_s\\AppData\\Local\\Temp\\ipykernel_8804\\770029966.py:5: UserWarning: Only one segment is calculated since parameter NFFT (=256) >= signal length (=128).\n",
      "  plt.specgram(incoming_data)\n"
     ]
    },
    {
     "data": {
      "image/png": "[encoded data removed]",
      "text/plain": [
       "<Figure size 640x480 with 1 Axes>"
      ]
     },
     "metadata": {},
     "output_type": "display_data"
    }
   ],
   "source": [
    "img_path = glob(\"dataset/cat/*\")[0]\n",
    "voice_data, sampling_rate = librosa.load(img_path)\n",
    "incoming_data = get_img(voice_data, sampling_rate, mode)\n",
    "\n",
    "plt.specgram(incoming_data)\n",
    "plt.show()"
   ]
  },
  {
   "cell_type": "code",
   "execution_count": 45,
   "id": "5417e082-b1cf-44aa-b03f-64a0e37eeb11",
   "metadata": {},
   "outputs": [
    {
     "data": {
      "text/plain": [
       "array([[0.00667057, 0.02426589, 0.07660446, ..., 0.5       , 0.5       ,\n",
       "        0.5       ]], dtype=float32)"
      ]
     },
     "execution_count": 45,
     "metadata": {},
     "output_type": "execute_result"
    }
   ],
   "source": [
    "incoming_data = cv2.resize(incoming_data, dsize=(width, height))\n",
    "incoming_data = np.array(incoming_data)\n",
    "\n",
    "incoming_data = incoming_data.reshape(1, -1)\n",
    "incoming_data_scaled = scaler.transform(incoming_data)\n",
    "\n",
    "incoming_data_scaled"
   ]
  },
  {
   "cell_type": "markdown",
   "id": "f0fce2ca-fa7f-4822-acbd-5a1127ff3d20",
   "metadata": {},
   "source": [
    "### Prediction"
   ]
  },
  {
   "cell_type": "code",
   "execution_count": 46,
   "id": "b6263dcf-69e7-454c-bb9b-37eb92e75532",
   "metadata": {},
   "outputs": [],
   "source": [
    "predicted_target = clf.predict(incoming_data_scaled)"
   ]
  },
  {
   "cell_type": "code",
   "execution_count": 47,
   "id": "eebe2d3e-4a13-4c1a-b81f-c804bdb99643",
   "metadata": {},
   "outputs": [
    {
     "data": {
      "text/plain": [
       "array(['cat'], dtype='<U3')"
      ]
     },
     "execution_count": 47,
     "metadata": {},
     "output_type": "execute_result"
    }
   ],
   "source": [
    "predicted_target"
   ]
  }
 ],
 "metadata": {
  "kernelspec": {
   "display_name": "Python 3 (ipykernel)",
   "language": "python",
   "name": "python3"
  },
  "language_info": {
   "codemirror_mode": {
    "name": "ipython",
    "version": 3
   },
   "file_extension": ".py",
   "mimetype": "text/x-python",
   "name": "python",
   "nbconvert_exporter": "python",
   "pygments_lexer": "ipython3",
   "version": "3.8.13"
  }
 },
 "nbformat": 4,
 "nbformat_minor": 5
}
