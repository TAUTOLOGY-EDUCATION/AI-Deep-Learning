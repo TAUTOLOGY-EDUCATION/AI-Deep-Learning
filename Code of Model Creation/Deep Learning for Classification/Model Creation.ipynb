{
 "cells": [
  {
   "cell_type": "code",
   "execution_count": 1,
   "id": "48aef40a",
   "metadata": {},
   "outputs": [
    {
     "name": "stderr",
     "output_type": "stream",
     "text": [
      "C:\\ProgramData\\Anaconda3\\lib\\site-packages\\scipy\\__init__.py:138: UserWarning: A NumPy version >=1.16.5 and <1.23.0 is required for this version of SciPy (detected version 1.23.1)\n",
      "  warnings.warn(f\"A NumPy version >={np_minversion} and <{np_maxversion} is required for this version of \"\n"
     ]
    }
   ],
   "source": [
    "import matplotlib.pyplot as plt\n",
    "import numpy as np\n",
    "import pandas as pd\n",
    "from sklearn.neural_network import MLPClassifier\n",
    "\n",
    "np.random.seed(12345)"
   ]
  },
  {
   "cell_type": "markdown",
   "id": "17eb4b80",
   "metadata": {},
   "source": [
    "# ========== Data =========="
   ]
  },
  {
   "cell_type": "code",
   "execution_count": 2,
   "id": "3644860b",
   "metadata": {},
   "outputs": [],
   "source": [
    "data = pd.read_csv(\"dataset.csv\")"
   ]
  },
  {
   "cell_type": "code",
   "execution_count": 3,
   "id": "8c0fa54c",
   "metadata": {},
   "outputs": [
    {
     "data": {
      "text/html": [
       "<div>\n",
       "<style scoped>\n",
       "    .dataframe tbody tr th:only-of-type {\n",
       "        vertical-align: middle;\n",
       "    }\n",
       "\n",
       "    .dataframe tbody tr th {\n",
       "        vertical-align: top;\n",
       "    }\n",
       "\n",
       "    .dataframe thead th {\n",
       "        text-align: right;\n",
       "    }\n",
       "</style>\n",
       "<table border=\"1\" class=\"dataframe\">\n",
       "  <thead>\n",
       "    <tr style=\"text-align: right;\">\n",
       "      <th></th>\n",
       "      <th>x1</th>\n",
       "      <th>x2</th>\n",
       "      <th>y</th>\n",
       "    </tr>\n",
       "  </thead>\n",
       "  <tbody>\n",
       "    <tr>\n",
       "      <th>0</th>\n",
       "      <td>1.305926</td>\n",
       "      <td>1.500783</td>\n",
       "      <td>0</td>\n",
       "    </tr>\n",
       "    <tr>\n",
       "      <th>1</th>\n",
       "      <td>-1.717671</td>\n",
       "      <td>0.612735</td>\n",
       "      <td>1</td>\n",
       "    </tr>\n",
       "    <tr>\n",
       "      <th>2</th>\n",
       "      <td>-1.467331</td>\n",
       "      <td>1.843626</td>\n",
       "      <td>0</td>\n",
       "    </tr>\n",
       "    <tr>\n",
       "      <th>3</th>\n",
       "      <td>1.062857</td>\n",
       "      <td>-0.393577</td>\n",
       "      <td>1</td>\n",
       "    </tr>\n",
       "    <tr>\n",
       "      <th>4</th>\n",
       "      <td>1.378435</td>\n",
       "      <td>-0.722736</td>\n",
       "      <td>1</td>\n",
       "    </tr>\n",
       "    <tr>\n",
       "      <th>...</th>\n",
       "      <td>...</td>\n",
       "      <td>...</td>\n",
       "      <td>...</td>\n",
       "    </tr>\n",
       "    <tr>\n",
       "      <th>95</th>\n",
       "      <td>-0.710393</td>\n",
       "      <td>-0.851150</td>\n",
       "      <td>0</td>\n",
       "    </tr>\n",
       "    <tr>\n",
       "      <th>96</th>\n",
       "      <td>0.291995</td>\n",
       "      <td>-1.458279</td>\n",
       "      <td>0</td>\n",
       "    </tr>\n",
       "    <tr>\n",
       "      <th>97</th>\n",
       "      <td>-0.324825</td>\n",
       "      <td>0.045712</td>\n",
       "      <td>1</td>\n",
       "    </tr>\n",
       "    <tr>\n",
       "      <th>98</th>\n",
       "      <td>0.897479</td>\n",
       "      <td>-1.046809</td>\n",
       "      <td>0</td>\n",
       "    </tr>\n",
       "    <tr>\n",
       "      <th>99</th>\n",
       "      <td>0.959070</td>\n",
       "      <td>-0.892272</td>\n",
       "      <td>1</td>\n",
       "    </tr>\n",
       "  </tbody>\n",
       "</table>\n",
       "<p>100 rows × 3 columns</p>\n",
       "</div>"
      ],
      "text/plain": [
       "          x1        x2  y\n",
       "0   1.305926  1.500783  0\n",
       "1  -1.717671  0.612735  1\n",
       "2  -1.467331  1.843626  0\n",
       "3   1.062857 -0.393577  1\n",
       "4   1.378435 -0.722736  1\n",
       "..       ...       ... ..\n",
       "95 -0.710393 -0.851150  0\n",
       "96  0.291995 -1.458279  0\n",
       "97 -0.324825  0.045712  1\n",
       "98  0.897479 -1.046809  0\n",
       "99  0.959070 -0.892272  1\n",
       "\n",
       "[100 rows x 3 columns]"
      ]
     },
     "execution_count": 3,
     "metadata": {},
     "output_type": "execute_result"
    }
   ],
   "source": [
    "data"
   ]
  },
  {
   "cell_type": "code",
   "execution_count": 4,
   "id": "61a1c6a7",
   "metadata": {},
   "outputs": [],
   "source": [
    "X_train_scaled = data[[\"x1\", \"x2\"]]"
   ]
  },
  {
   "cell_type": "code",
   "execution_count": 5,
   "id": "b9545812",
   "metadata": {},
   "outputs": [],
   "source": [
    "y_train = data[\"y\"]"
   ]
  },
  {
   "cell_type": "markdown",
   "id": "cb7f3adb",
   "metadata": {},
   "source": [
    "# ========== Model =========="
   ]
  },
  {
   "cell_type": "markdown",
   "id": "fc5cdd6c-7f8b-4018-a802-f655ca4f671b",
   "metadata": {},
   "source": [
    "## Setting Parameter"
   ]
  },
  {
   "cell_type": "code",
   "execution_count": 6,
   "id": "8fd655ad",
   "metadata": {},
   "outputs": [],
   "source": [
    "clf = MLPClassifier(\n",
    "    hidden_layer_sizes=(10, 5),\n",
    "    activation=\"relu\",\n",
    "    solver=\"sgd\",\n",
    "    alpha=0,\n",
    "    batch_size=X_train_scaled.shape[0],\n",
    "    learning_rate_init=1,\n",
    "    max_iter=1000,\n",
    "    momentum=0,\n",
    ")"
   ]
  },
  {
   "cell_type": "markdown",
   "id": "c4065a42-6966-4e01-9628-4f7f8a7b365e",
   "metadata": {},
   "source": [
    "## Train Model"
   ]
  },
  {
   "cell_type": "code",
   "execution_count": 7,
   "id": "896e175d",
   "metadata": {},
   "outputs": [
    {
     "data": {
      "text/plain": [
       "MLPClassifier(alpha=0, batch_size=100, hidden_layer_sizes=(10, 5),\n",
       "              learning_rate_init=1, max_iter=1000, momentum=0, solver='sgd')"
      ]
     },
     "execution_count": 7,
     "metadata": {},
     "output_type": "execute_result"
    }
   ],
   "source": [
    "clf.fit(X_train_scaled, y_train)"
   ]
  },
  {
   "cell_type": "markdown",
   "id": "6916f3e8-81e7-49fa-bc2d-0161ee8f10d6",
   "metadata": {},
   "source": [
    "## Loss curve"
   ]
  },
  {
   "cell_type": "code",
   "execution_count": 8,
   "id": "22db516e",
   "metadata": {},
   "outputs": [
    {
     "data": {
      "text/plain": [
       "[<matplotlib.lines.Line2D at 0x23c9c5042e0>]"
      ]
     },
     "execution_count": 8,
     "metadata": {},
     "output_type": "execute_result"
    },
    {
     "data": {
      "image/png": "[encoded data removed]",
      "text/plain": [
       "<Figure size 640x480 with 1 Axes>"
      ]
     },
     "metadata": {},
     "output_type": "display_data"
    }
   ],
   "source": [
    "plt.plot(clf.loss_curve_)"
   ]
  },
  {
   "cell_type": "markdown",
   "id": "28c77c9a-7a15-4e9f-964f-e109a99294b4",
   "metadata": {},
   "source": [
    "## Model's Weight & Bias"
   ]
  },
  {
   "cell_type": "code",
   "execution_count": 9,
   "id": "18c8057a",
   "metadata": {},
   "outputs": [
    {
     "data": {
      "text/plain": [
       "[array([ 3.45530833e-01,  3.18681068e-01,  1.98976778e-01, -5.31766342e-01,\n",
       "         2.68458234e-01,  9.11282024e-02, -4.13547119e-04, -1.03777962e-01,\n",
       "        -3.12792957e-03, -5.02267590e-01]),\n",
       " array([ 0.9286921 , -0.1697565 ,  0.21307591,  0.104865  , -0.17541018]),\n",
       " array([1.8641539])]"
      ]
     },
     "execution_count": 9,
     "metadata": {},
     "output_type": "execute_result"
    }
   ],
   "source": [
    "clf.intercepts_"
   ]
  },
  {
   "cell_type": "code",
   "execution_count": 10,
   "id": "68dfa335",
   "metadata": {},
   "outputs": [
    {
     "data": {
      "text/plain": [
       "[array([[ 0.69599668, -0.9943155 , -0.34540219, -2.23707258, -0.49236328,\n",
       "          0.37005259,  1.82119407, -0.09147874,  0.29894531,  0.16082498],\n",
       "        [ 0.81687177,  1.04653211, -1.73500619, -0.25066436, -0.56217401,\n",
       "          0.34685597, -0.0267678 ,  1.31129011,  1.29760335,  0.26486102]]),\n",
       " array([[-6.53778033e-01,  4.98656561e-01,  5.82284889e-02,\n",
       "         -1.06793324e+00,  2.08574295e-01],\n",
       "        [-3.06803888e-01,  8.28730402e-01, -9.64255265e-01,\n",
       "          6.54436814e-01,  8.84888956e-01],\n",
       "        [ 1.04961420e+00, -1.56580072e-01,  1.01164484e+00,\n",
       "         -5.05448974e-01, -4.44032569e-01],\n",
       "        [-1.25427895e+00, -5.23688357e-01, -4.29109119e-01,\n",
       "          9.18807137e-01, -7.40549784e-01],\n",
       "        [ 3.46096323e-01, -5.83825331e-01,  6.65909534e-01,\n",
       "          5.32131758e-01, -1.17717085e-04],\n",
       "        [-4.34481593e-01,  7.00630055e-02, -3.35981404e-01,\n",
       "          1.94087551e-01,  6.50965326e-01],\n",
       "        [-7.24256869e-01, -7.93600168e-01, -5.93198957e-01,\n",
       "         -8.19794896e-01, -7.47565838e-01],\n",
       "        [ 6.43449024e-01,  8.86799128e-01,  5.63801226e-02,\n",
       "          1.61661273e-01,  6.37026108e-01],\n",
       "        [ 8.55863794e-01,  4.51496702e-01, -3.42375798e-01,\n",
       "         -3.11576963e-01,  4.77948158e-01],\n",
       "        [-3.41782097e-01, -3.81838304e-01,  3.67995985e-01,\n",
       "         -1.66296481e-02,  4.72725097e-01]]),\n",
       " array([[-1.71484567],\n",
       "        [-1.38805606],\n",
       "        [-1.32858455],\n",
       "        [ 1.13071879],\n",
       "        [-1.22143276]])]"
      ]
     },
     "execution_count": 10,
     "metadata": {},
     "output_type": "execute_result"
    }
   ],
   "source": [
    "clf.coefs_"
   ]
  },
  {
   "cell_type": "markdown",
   "id": "5c9a5f8d",
   "metadata": {},
   "source": [
    "# ========== Prediction =========="
   ]
  },
  {
   "cell_type": "code",
   "execution_count": 11,
   "id": "bd026a77",
   "metadata": {},
   "outputs": [],
   "source": [
    "X_test_scaled = pd.read_csv(\"incoming_data.csv\")"
   ]
  },
  {
   "cell_type": "code",
   "execution_count": 12,
   "id": "56a4b443",
   "metadata": {},
   "outputs": [
    {
     "data": {
      "text/html": [
       "<div>\n",
       "<style scoped>\n",
       "    .dataframe tbody tr th:only-of-type {\n",
       "        vertical-align: middle;\n",
       "    }\n",
       "\n",
       "    .dataframe tbody tr th {\n",
       "        vertical-align: top;\n",
       "    }\n",
       "\n",
       "    .dataframe thead th {\n",
       "        text-align: right;\n",
       "    }\n",
       "</style>\n",
       "<table border=\"1\" class=\"dataframe\">\n",
       "  <thead>\n",
       "    <tr style=\"text-align: right;\">\n",
       "      <th></th>\n",
       "      <th>x1</th>\n",
       "      <th>x2</th>\n",
       "    </tr>\n",
       "  </thead>\n",
       "  <tbody>\n",
       "    <tr>\n",
       "      <th>0</th>\n",
       "      <td>1</td>\n",
       "      <td>-1</td>\n",
       "    </tr>\n",
       "    <tr>\n",
       "      <th>1</th>\n",
       "      <td>-1</td>\n",
       "      <td>1</td>\n",
       "    </tr>\n",
       "    <tr>\n",
       "      <th>2</th>\n",
       "      <td>1</td>\n",
       "      <td>0</td>\n",
       "    </tr>\n",
       "    <tr>\n",
       "      <th>3</th>\n",
       "      <td>0</td>\n",
       "      <td>1</td>\n",
       "    </tr>\n",
       "  </tbody>\n",
       "</table>\n",
       "</div>"
      ],
      "text/plain": [
       "   x1  x2\n",
       "0   1  -1\n",
       "1  -1   1\n",
       "2   1   0\n",
       "3   0   1"
      ]
     },
     "execution_count": 12,
     "metadata": {},
     "output_type": "execute_result"
    }
   ],
   "source": [
    "X_test_scaled"
   ]
  },
  {
   "cell_type": "code",
   "execution_count": 13,
   "id": "c34f10a6",
   "metadata": {
    "scrolled": true
   },
   "outputs": [
    {
     "data": {
      "text/plain": [
       "array([0, 0, 1, 0], dtype=int64)"
      ]
     },
     "execution_count": 13,
     "metadata": {},
     "output_type": "execute_result"
    }
   ],
   "source": [
    "clf.predict(X_test_scaled)"
   ]
  },
  {
   "cell_type": "code",
   "execution_count": 14,
   "id": "574e0d76-9b4b-4d37-b3ed-de702998716d",
   "metadata": {},
   "outputs": [
    {
     "data": {
      "text/plain": [
       "array([[7.99727009e-01, 2.00272991e-01],\n",
       "       [8.69837288e-01, 1.30162712e-01],\n",
       "       [1.34219615e-01, 8.65780385e-01],\n",
       "       [9.99832336e-01, 1.67663810e-04]])"
      ]
     },
     "execution_count": 14,
     "metadata": {},
     "output_type": "execute_result"
    }
   ],
   "source": [
    "clf.predict_proba(X_test_scaled)"
   ]
  }
 ],
 "metadata": {
  "kernelspec": {
   "display_name": "Python 3 (ipykernel)",
   "language": "python",
   "name": "python3"
  },
  "language_info": {
   "codemirror_mode": {
    "name": "ipython",
    "version": 3
   },
   "file_extension": ".py",
   "mimetype": "text/x-python",
   "name": "python",
   "nbconvert_exporter": "python",
   "pygments_lexer": "ipython3",
   "version": "3.8.13"
  }
 },
 "nbformat": 4,
 "nbformat_minor": 5
}
