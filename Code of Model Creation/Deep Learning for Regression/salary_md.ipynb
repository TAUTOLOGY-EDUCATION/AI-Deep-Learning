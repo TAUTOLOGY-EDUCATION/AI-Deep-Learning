{
 "cells": [
  {
   "cell_type": "code",
   "execution_count": 1,
   "id": "1bb8f992-b879-4494-a21c-0877ce686f2d",
   "metadata": {},
   "outputs": [],
   "source": [
    "import pickle\n",
    "\n",
    "import numpy as np\n",
    "import pandas as pd"
   ]
  },
  {
   "cell_type": "code",
   "execution_count": 2,
   "id": "c74e6bca-e8ae-48ca-8214-55c7edd0c4f9",
   "metadata": {},
   "outputs": [
    {
     "name": "stderr",
     "output_type": "stream",
     "text": [
      "C:\\ProgramData\\Anaconda3\\lib\\site-packages\\scipy\\__init__.py:138: UserWarning: A NumPy version >=1.16.5 and <1.23.0 is required for this version of SciPy (detected version 1.23.1)\n",
      "  warnings.warn(f\"A NumPy version >={np_minversion} and <{np_maxversion} is required for this version of \"\n"
     ]
    }
   ],
   "source": [
    "saved_model = pickle.load(open(\"salary_model.pickle\", \"rb\"))"
   ]
  },
  {
   "cell_type": "code",
   "execution_count": 3,
   "id": "7d0cdc08-690a-421f-addb-4cfee2d47a2c",
   "metadata": {},
   "outputs": [],
   "source": [
    "reg = saved_model[0]\n",
    "ordinal_encoder = saved_model[1]\n",
    "one_hot_encoder = saved_model[2]\n",
    "feature_name = saved_model[3]\n",
    "numerical_feature = saved_model[4]\n",
    "ordinal_feature = saved_model[5]\n",
    "nominal_feature = saved_model[6]"
   ]
  },
  {
   "cell_type": "code",
   "execution_count": 4,
   "id": "9b8d0e5d-f67a-40d9-9583-df2804f037aa",
   "metadata": {},
   "outputs": [
    {
     "data": {
      "text/plain": [
       "['age', 'experience', 'gpa', 'degree', 'position']"
      ]
     },
     "execution_count": 4,
     "metadata": {},
     "output_type": "execute_result"
    }
   ],
   "source": [
    "feature_name"
   ]
  },
  {
   "cell_type": "code",
   "execution_count": 5,
   "id": "f93973bf-08f4-4f9f-ac18-27f2b2594e45",
   "metadata": {},
   "outputs": [],
   "source": [
    "age = 25\n",
    "experience = 2\n",
    "gpa = 3.5\n",
    "degree = \"bachelor\"\n",
    "position = \"engineer\""
   ]
  },
  {
   "cell_type": "code",
   "execution_count": 6,
   "id": "f60ce157-f401-44bb-9ca7-355d5315df19",
   "metadata": {},
   "outputs": [
    {
     "data": {
      "text/html": [
       "<div>\n",
       "<style scoped>\n",
       "    .dataframe tbody tr th:only-of-type {\n",
       "        vertical-align: middle;\n",
       "    }\n",
       "\n",
       "    .dataframe tbody tr th {\n",
       "        vertical-align: top;\n",
       "    }\n",
       "\n",
       "    .dataframe thead th {\n",
       "        text-align: right;\n",
       "    }\n",
       "</style>\n",
       "<table border=\"1\" class=\"dataframe\">\n",
       "  <thead>\n",
       "    <tr style=\"text-align: right;\">\n",
       "      <th></th>\n",
       "      <th>age</th>\n",
       "      <th>experience</th>\n",
       "      <th>gpa</th>\n",
       "      <th>degree</th>\n",
       "      <th>position</th>\n",
       "    </tr>\n",
       "  </thead>\n",
       "  <tbody>\n",
       "    <tr>\n",
       "      <th>0</th>\n",
       "      <td>25</td>\n",
       "      <td>2</td>\n",
       "      <td>3.5</td>\n",
       "      <td>bachelor</td>\n",
       "      <td>engineer</td>\n",
       "    </tr>\n",
       "  </tbody>\n",
       "</table>\n",
       "</div>"
      ],
      "text/plain": [
       "  age experience  gpa    degree  position\n",
       "0  25          2  3.5  bachelor  engineer"
      ]
     },
     "execution_count": 6,
     "metadata": {},
     "output_type": "execute_result"
    }
   ],
   "source": [
    "incoming_data = pd.DataFrame(\n",
    "    np.array([[age, experience, gpa, degree, position]]),\n",
    "    columns=feature_name,\n",
    ")\n",
    "\n",
    "incoming_data"
   ]
  },
  {
   "cell_type": "code",
   "execution_count": 7,
   "id": "38c73e97-09b2-4875-8547-8bb1e96a929d",
   "metadata": {},
   "outputs": [
    {
     "name": "stdout",
     "output_type": "stream",
     "text": [
      "numerical_feature : ['age', 'experience', 'gpa']\n",
      "ordinal_feature : ['degree']\n",
      "nominal_feature : ['position']\n"
     ]
    }
   ],
   "source": [
    "print(\"numerical_feature :\", numerical_feature)\n",
    "print(\"ordinal_feature :\", ordinal_feature)\n",
    "print(\"nominal_feature :\", nominal_feature)"
   ]
  },
  {
   "cell_type": "markdown",
   "id": "44c672e2-1147-4947-a944-60fb5a3877b0",
   "metadata": {},
   "source": [
    "### Ordinal Encoding"
   ]
  },
  {
   "cell_type": "code",
   "execution_count": 8,
   "id": "903c75e8-88f2-4438-a613-a9d639fd7981",
   "metadata": {},
   "outputs": [],
   "source": [
    "incoming_data[ordinal_feature] = ordinal_encoder.transform(\n",
    "    incoming_data[ordinal_feature]\n",
    ")"
   ]
  },
  {
   "cell_type": "markdown",
   "id": "1f2f9499-76e4-408c-b133-5c39fa29bd8b",
   "metadata": {},
   "source": [
    "### One Hot Encoding"
   ]
  },
  {
   "cell_type": "code",
   "execution_count": 9,
   "id": "03a43588-6d00-4fee-9cfa-9271b8d587c9",
   "metadata": {},
   "outputs": [],
   "source": [
    "one_hot_feature = one_hot_encoder.categories_[0]\n",
    "\n",
    "incoming_data[one_hot_feature] = one_hot_encoder.transform(\n",
    "    incoming_data[nominal_feature]\n",
    ")\n",
    "incoming_data.drop(nominal_feature, axis=1, inplace=True)"
   ]
  },
  {
   "cell_type": "code",
   "execution_count": 10,
   "id": "fb7825fb-6c48-4e8f-ae88-e5d7e9dcb394",
   "metadata": {},
   "outputs": [
    {
     "data": {
      "text/html": [
       "<div>\n",
       "<style scoped>\n",
       "    .dataframe tbody tr th:only-of-type {\n",
       "        vertical-align: middle;\n",
       "    }\n",
       "\n",
       "    .dataframe tbody tr th {\n",
       "        vertical-align: top;\n",
       "    }\n",
       "\n",
       "    .dataframe thead th {\n",
       "        text-align: right;\n",
       "    }\n",
       "</style>\n",
       "<table border=\"1\" class=\"dataframe\">\n",
       "  <thead>\n",
       "    <tr style=\"text-align: right;\">\n",
       "      <th></th>\n",
       "      <th>age</th>\n",
       "      <th>experience</th>\n",
       "      <th>gpa</th>\n",
       "      <th>degree</th>\n",
       "      <th>accountant</th>\n",
       "      <th>engineer</th>\n",
       "      <th>secretary</th>\n",
       "    </tr>\n",
       "  </thead>\n",
       "  <tbody>\n",
       "    <tr>\n",
       "      <th>0</th>\n",
       "      <td>25</td>\n",
       "      <td>2</td>\n",
       "      <td>3.5</td>\n",
       "      <td>0.0</td>\n",
       "      <td>0.0</td>\n",
       "      <td>1.0</td>\n",
       "      <td>0.0</td>\n",
       "    </tr>\n",
       "  </tbody>\n",
       "</table>\n",
       "</div>"
      ],
      "text/plain": [
       "  age experience  gpa  degree  accountant  engineer  secretary\n",
       "0  25          2  3.5     0.0         0.0       1.0        0.0"
      ]
     },
     "execution_count": 10,
     "metadata": {},
     "output_type": "execute_result"
    }
   ],
   "source": [
    "incoming_data"
   ]
  },
  {
   "cell_type": "markdown",
   "id": "0a13c0b2-884e-496b-9725-2e34939bc4df",
   "metadata": {},
   "source": [
    "### Prediction"
   ]
  },
  {
   "cell_type": "code",
   "execution_count": 11,
   "id": "439e3d46-99e6-4e68-a866-53a06e317291",
   "metadata": {},
   "outputs": [],
   "source": [
    "predicted_target = reg.predict(incoming_data)"
   ]
  },
  {
   "cell_type": "code",
   "execution_count": 12,
   "id": "619f25c8-1c7a-4754-9b29-72e9d7dfd41a",
   "metadata": {},
   "outputs": [
    {
     "data": {
      "text/plain": [
       "array([276529.09059145])"
      ]
     },
     "execution_count": 12,
     "metadata": {},
     "output_type": "execute_result"
    }
   ],
   "source": [
    "predicted_target"
   ]
  }
 ],
 "metadata": {
  "kernelspec": {
   "display_name": "Python 3 (ipykernel)",
   "language": "python",
   "name": "python3"
  },
  "language_info": {
   "codemirror_mode": {
    "name": "ipython",
    "version": 3
   },
   "file_extension": ".py",
   "mimetype": "text/x-python",
   "name": "python",
   "nbconvert_exporter": "python",
   "pygments_lexer": "ipython3",
   "version": "3.8.13"
  }
 },
 "nbformat": 4,
 "nbformat_minor": 5
}
