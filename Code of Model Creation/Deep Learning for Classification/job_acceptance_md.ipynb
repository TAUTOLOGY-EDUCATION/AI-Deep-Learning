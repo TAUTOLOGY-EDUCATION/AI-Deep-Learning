{
 "cells": [
  {
   "cell_type": "code",
   "execution_count": 1,
   "id": "e4592c1c-971b-4aca-b2c5-89c52447e5a7",
   "metadata": {},
   "outputs": [],
   "source": [
    "import pickle\n",
    "\n",
    "import numpy as np\n",
    "import pandas as pd"
   ]
  },
  {
   "cell_type": "code",
   "execution_count": 2,
   "id": "3b7cfe0b-d9f2-4704-9c5c-c2bb4affa51c",
   "metadata": {},
   "outputs": [
    {
     "name": "stderr",
     "output_type": "stream",
     "text": [
      "C:\\ProgramData\\Anaconda3\\lib\\site-packages\\scipy\\__init__.py:138: UserWarning: A NumPy version >=1.16.5 and <1.23.0 is required for this version of SciPy (detected version 1.23.1)\n",
      "  warnings.warn(f\"A NumPy version >={np_minversion} and <{np_maxversion} is required for this version of \"\n"
     ]
    }
   ],
   "source": [
    "saved_model = pickle.load(open(\"job_acceptance_model.pickle\", \"rb\"))"
   ]
  },
  {
   "cell_type": "code",
   "execution_count": 3,
   "id": "ff8709c3-7438-44a8-b2e1-a8daec37b0f9",
   "metadata": {},
   "outputs": [],
   "source": [
    "clf = saved_model[0]\n",
    "ordinal_encoder = saved_model[1]\n",
    "one_hot_encoder = saved_model[2]\n",
    "scaler = saved_model[3]\n",
    "feature_name = saved_model[4]\n",
    "numerical_feature = saved_model[5]\n",
    "ordinal_feature = saved_model[6]\n",
    "nominal_feature = saved_model[7]"
   ]
  },
  {
   "cell_type": "code",
   "execution_count": 4,
   "id": "db7d6d9a-15af-42b8-ad1a-a9be63a90e28",
   "metadata": {},
   "outputs": [
    {
     "data": {
      "text/plain": [
       "['age', 'experience', 'gpa', 'degree', 'position', 'expected_salary']"
      ]
     },
     "execution_count": 4,
     "metadata": {},
     "output_type": "execute_result"
    }
   ],
   "source": [
    "feature_name"
   ]
  },
  {
   "cell_type": "code",
   "execution_count": 5,
   "id": "f3f023bc-e46e-44a2-bcdf-a3f345709f7c",
   "metadata": {},
   "outputs": [],
   "source": [
    "age = 35\n",
    "experience = 10\n",
    "gpa = 3.5\n",
    "degree = \"bachelor\"\n",
    "position = \"engineer\"\n",
    "expected_salary = 100000"
   ]
  },
  {
   "cell_type": "code",
   "execution_count": 6,
   "id": "318a5779-e245-4047-8fea-86ef1e2f2245",
   "metadata": {},
   "outputs": [
    {
     "data": {
      "text/html": [
       "<div>\n",
       "<style scoped>\n",
       "    .dataframe tbody tr th:only-of-type {\n",
       "        vertical-align: middle;\n",
       "    }\n",
       "\n",
       "    .dataframe tbody tr th {\n",
       "        vertical-align: top;\n",
       "    }\n",
       "\n",
       "    .dataframe thead th {\n",
       "        text-align: right;\n",
       "    }\n",
       "</style>\n",
       "<table border=\"1\" class=\"dataframe\">\n",
       "  <thead>\n",
       "    <tr style=\"text-align: right;\">\n",
       "      <th></th>\n",
       "      <th>age</th>\n",
       "      <th>experience</th>\n",
       "      <th>gpa</th>\n",
       "      <th>degree</th>\n",
       "      <th>position</th>\n",
       "      <th>expected_salary</th>\n",
       "    </tr>\n",
       "  </thead>\n",
       "  <tbody>\n",
       "    <tr>\n",
       "      <th>0</th>\n",
       "      <td>35</td>\n",
       "      <td>10</td>\n",
       "      <td>3.5</td>\n",
       "      <td>bachelor</td>\n",
       "      <td>engineer</td>\n",
       "      <td>100000</td>\n",
       "    </tr>\n",
       "  </tbody>\n",
       "</table>\n",
       "</div>"
      ],
      "text/plain": [
       "  age experience  gpa    degree  position expected_salary\n",
       "0  35         10  3.5  bachelor  engineer          100000"
      ]
     },
     "execution_count": 6,
     "metadata": {},
     "output_type": "execute_result"
    }
   ],
   "source": [
    "incoming_data = pd.DataFrame(\n",
    "    np.array(\n",
    "        [\n",
    "            [\n",
    "                age,\n",
    "                experience,\n",
    "                gpa,\n",
    "                degree,\n",
    "                position,\n",
    "                expected_salary,\n",
    "            ]\n",
    "        ]\n",
    "    ),\n",
    "    columns=feature_name,\n",
    ")\n",
    "\n",
    "incoming_data"
   ]
  },
  {
   "cell_type": "markdown",
   "id": "fff379da-fa7e-4946-af6f-62a0920532c7",
   "metadata": {},
   "source": [
    "### Ordinal Encoding"
   ]
  },
  {
   "cell_type": "code",
   "execution_count": 7,
   "id": "a90d374a-0ae0-44c4-bbdb-e06e18fbad90",
   "metadata": {},
   "outputs": [],
   "source": [
    "incoming_data[ordinal_feature] = ordinal_encoder.transform(\n",
    "    incoming_data[ordinal_feature]\n",
    ")"
   ]
  },
  {
   "cell_type": "markdown",
   "id": "00efa6b9-ece6-48ca-be6f-2cbce3c8d576",
   "metadata": {},
   "source": [
    "### One Hot Encoding"
   ]
  },
  {
   "cell_type": "code",
   "execution_count": 8,
   "id": "65c21cab-91ac-4d9d-aadc-fcd1e0a0a29f",
   "metadata": {},
   "outputs": [],
   "source": [
    "one_hot_feature = one_hot_encoder.categories_[0]\n",
    "\n",
    "incoming_data[one_hot_feature] = one_hot_encoder.transform(\n",
    "    incoming_data[nominal_feature]\n",
    ")\n",
    "incoming_data.drop(nominal_feature, axis=1, inplace=True)"
   ]
  },
  {
   "cell_type": "code",
   "execution_count": 9,
   "id": "2a10bc75-3d6c-4b7c-b12c-ec7b2e4ad5b6",
   "metadata": {},
   "outputs": [
    {
     "data": {
      "text/html": [
       "<div>\n",
       "<style scoped>\n",
       "    .dataframe tbody tr th:only-of-type {\n",
       "        vertical-align: middle;\n",
       "    }\n",
       "\n",
       "    .dataframe tbody tr th {\n",
       "        vertical-align: top;\n",
       "    }\n",
       "\n",
       "    .dataframe thead th {\n",
       "        text-align: right;\n",
       "    }\n",
       "</style>\n",
       "<table border=\"1\" class=\"dataframe\">\n",
       "  <thead>\n",
       "    <tr style=\"text-align: right;\">\n",
       "      <th></th>\n",
       "      <th>age</th>\n",
       "      <th>experience</th>\n",
       "      <th>gpa</th>\n",
       "      <th>degree</th>\n",
       "      <th>expected_salary</th>\n",
       "      <th>accountant</th>\n",
       "      <th>engineer</th>\n",
       "      <th>secretary</th>\n",
       "    </tr>\n",
       "  </thead>\n",
       "  <tbody>\n",
       "    <tr>\n",
       "      <th>0</th>\n",
       "      <td>35</td>\n",
       "      <td>10</td>\n",
       "      <td>3.5</td>\n",
       "      <td>0.0</td>\n",
       "      <td>100000</td>\n",
       "      <td>0.0</td>\n",
       "      <td>1.0</td>\n",
       "      <td>0.0</td>\n",
       "    </tr>\n",
       "  </tbody>\n",
       "</table>\n",
       "</div>"
      ],
      "text/plain": [
       "  age experience  gpa  degree expected_salary  accountant  engineer  secretary\n",
       "0  35         10  3.5     0.0          100000         0.0       1.0        0.0"
      ]
     },
     "execution_count": 9,
     "metadata": {},
     "output_type": "execute_result"
    }
   ],
   "source": [
    "incoming_data"
   ]
  },
  {
   "cell_type": "markdown",
   "id": "cd105f87-51cf-4576-88dd-c5009b6c60e5",
   "metadata": {},
   "source": [
    "### Feature Scaler"
   ]
  },
  {
   "cell_type": "code",
   "execution_count": 10,
   "id": "51d4fd9b-07ac-457b-9404-0ca37fbe47ce",
   "metadata": {},
   "outputs": [],
   "source": [
    "incoming_data_scaled = scaler.transform(incoming_data)"
   ]
  },
  {
   "cell_type": "markdown",
   "id": "aa71eaf4-5b70-4848-b81d-15ef2ab7ebfc",
   "metadata": {},
   "source": [
    "### Prediction"
   ]
  },
  {
   "cell_type": "code",
   "execution_count": 11,
   "id": "cad58370-7b46-4a8c-8534-dd9574b82562",
   "metadata": {},
   "outputs": [],
   "source": [
    "predicted_target = clf.predict(incoming_data_scaled)"
   ]
  },
  {
   "cell_type": "code",
   "execution_count": 12,
   "id": "0fe638a6-0416-4b82-8aaa-0a5bab0ac0cc",
   "metadata": {},
   "outputs": [
    {
     "data": {
      "text/plain": [
       "array(['reject'], dtype='<U6')"
      ]
     },
     "execution_count": 12,
     "metadata": {},
     "output_type": "execute_result"
    }
   ],
   "source": [
    "predicted_target"
   ]
  }
 ],
 "metadata": {
  "kernelspec": {
   "display_name": "Python 3 (ipykernel)",
   "language": "python",
   "name": "python3"
  },
  "language_info": {
   "codemirror_mode": {
    "name": "ipython",
    "version": 3
   },
   "file_extension": ".py",
   "mimetype": "text/x-python",
   "name": "python",
   "nbconvert_exporter": "python",
   "pygments_lexer": "ipython3",
   "version": "3.8.13"
  }
 },
 "nbformat": 4,
 "nbformat_minor": 5
}
