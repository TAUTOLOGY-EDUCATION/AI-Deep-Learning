{
 "cells": [
  {
   "cell_type": "code",
   "execution_count": 1,
   "id": "08491ced-58b9-4441-b3b7-834aa654d81f",
   "metadata": {},
   "outputs": [],
   "source": [
    "import pickle\n",
    "\n",
    "import numpy as np\n",
    "import pandas as pd"
   ]
  },
  {
   "cell_type": "code",
   "execution_count": 2,
   "id": "014c914d-5b80-48f2-81d4-b922072a1fe7",
   "metadata": {},
   "outputs": [
    {
     "name": "stderr",
     "output_type": "stream",
     "text": [
      "C:\\ProgramData\\Anaconda3\\lib\\site-packages\\scipy\\__init__.py:138: UserWarning: A NumPy version >=1.16.5 and <1.23.0 is required for this version of SciPy (detected version 1.23.1)\n",
      "  warnings.warn(f\"A NumPy version >={np_minversion} and <{np_maxversion} is required for this version of \"\n"
     ]
    }
   ],
   "source": [
    "saved_model = pickle.load(open(\"job_acceptance_model.pickle\", \"rb\"))"
   ]
  },
  {
   "cell_type": "code",
   "execution_count": 3,
   "id": "3c98bbac-30f6-403e-a019-e85da4b74a93",
   "metadata": {},
   "outputs": [],
   "source": [
    "clf = saved_model[0]\n",
    "ordinal_encoder = saved_model[1]\n",
    "one_hot_encoder = saved_model[2]\n",
    "scaler = saved_model[3]\n",
    "feature_name = saved_model[4]\n",
    "numerical_feature = saved_model[5]\n",
    "ordinal_feature = saved_model[6]\n",
    "nominal_feature = saved_model[7]"
   ]
  },
  {
   "cell_type": "code",
   "execution_count": 4,
   "id": "1a04d850-eb85-4391-a383-0e2275941fdf",
   "metadata": {},
   "outputs": [
    {
     "data": {
      "text/plain": [
       "['age', 'experience', 'gpa', 'degree', 'position', 'expected_salary']"
      ]
     },
     "execution_count": 4,
     "metadata": {},
     "output_type": "execute_result"
    }
   ],
   "source": [
    "feature_name"
   ]
  },
  {
   "cell_type": "code",
   "execution_count": 5,
   "id": "cac0ed44-8f8e-48ab-a001-385eebacee1b",
   "metadata": {},
   "outputs": [],
   "source": [
    "age = 35\n",
    "experience = 10\n",
    "gpa = 3.5\n",
    "degree = \"bachelor\"\n",
    "position = \"engineer\"\n",
    "expected_salary = 100000"
   ]
  },
  {
   "cell_type": "code",
   "execution_count": 6,
   "id": "081f2afc-7eb7-483d-aa6d-df2f4767cad6",
   "metadata": {},
   "outputs": [
    {
     "data": {
      "text/html": [
       "<div>\n",
       "<style scoped>\n",
       "    .dataframe tbody tr th:only-of-type {\n",
       "        vertical-align: middle;\n",
       "    }\n",
       "\n",
       "    .dataframe tbody tr th {\n",
       "        vertical-align: top;\n",
       "    }\n",
       "\n",
       "    .dataframe thead th {\n",
       "        text-align: right;\n",
       "    }\n",
       "</style>\n",
       "<table border=\"1\" class=\"dataframe\">\n",
       "  <thead>\n",
       "    <tr style=\"text-align: right;\">\n",
       "      <th></th>\n",
       "      <th>age</th>\n",
       "      <th>experience</th>\n",
       "      <th>gpa</th>\n",
       "      <th>degree</th>\n",
       "      <th>position</th>\n",
       "      <th>expected_salary</th>\n",
       "    </tr>\n",
       "  </thead>\n",
       "  <tbody>\n",
       "    <tr>\n",
       "      <th>0</th>\n",
       "      <td>35</td>\n",
       "      <td>10</td>\n",
       "      <td>3.5</td>\n",
       "      <td>bachelor</td>\n",
       "      <td>engineer</td>\n",
       "      <td>100000</td>\n",
       "    </tr>\n",
       "  </tbody>\n",
       "</table>\n",
       "</div>"
      ],
      "text/plain": [
       "  age experience  gpa    degree  position expected_salary\n",
       "0  35         10  3.5  bachelor  engineer          100000"
      ]
     },
     "execution_count": 6,
     "metadata": {},
     "output_type": "execute_result"
    }
   ],
   "source": [
    "incoming_data = pd.DataFrame(\n",
    "    np.array(\n",
    "        [\n",
    "            [\n",
    "                age,\n",
    "                experience,\n",
    "                gpa,\n",
    "                degree,\n",
    "                position,\n",
    "                expected_salary,\n",
    "            ]\n",
    "        ]\n",
    "    ),\n",
    "    columns=feature_name,\n",
    ")\n",
    "\n",
    "incoming_data"
   ]
  },
  {
   "cell_type": "markdown",
   "id": "e7ee0e4a-3e2c-4e1b-8cd2-2b7a49a163c0",
   "metadata": {},
   "source": [
    "### Ordinal Encoding"
   ]
  },
  {
   "cell_type": "code",
   "execution_count": 7,
   "id": "7dac369e-ad3b-4a89-ba8e-03e12563390e",
   "metadata": {},
   "outputs": [],
   "source": [
    "incoming_data[ordinal_feature] = ordinal_encoder.transform(\n",
    "    incoming_data[ordinal_feature]\n",
    ")"
   ]
  },
  {
   "cell_type": "markdown",
   "id": "47ed5413-dca4-4a81-b663-ba26c1f4d9c8",
   "metadata": {},
   "source": [
    "### One Hot Encoding"
   ]
  },
  {
   "cell_type": "code",
   "execution_count": 8,
   "id": "941c888b-7d14-4f82-93a1-c03a1fcbf08b",
   "metadata": {},
   "outputs": [],
   "source": [
    "one_hot_feature = one_hot_encoder.categories_[0]\n",
    "\n",
    "incoming_data[one_hot_feature] = one_hot_encoder.transform(\n",
    "    incoming_data[nominal_feature]\n",
    ")\n",
    "incoming_data.drop(nominal_feature, axis=1, inplace=True)"
   ]
  },
  {
   "cell_type": "code",
   "execution_count": 9,
   "id": "f343f9dd-6a3a-43a1-b10c-fcb0d4f7a558",
   "metadata": {},
   "outputs": [
    {
     "data": {
      "text/html": [
       "<div>\n",
       "<style scoped>\n",
       "    .dataframe tbody tr th:only-of-type {\n",
       "        vertical-align: middle;\n",
       "    }\n",
       "\n",
       "    .dataframe tbody tr th {\n",
       "        vertical-align: top;\n",
       "    }\n",
       "\n",
       "    .dataframe thead th {\n",
       "        text-align: right;\n",
       "    }\n",
       "</style>\n",
       "<table border=\"1\" class=\"dataframe\">\n",
       "  <thead>\n",
       "    <tr style=\"text-align: right;\">\n",
       "      <th></th>\n",
       "      <th>age</th>\n",
       "      <th>experience</th>\n",
       "      <th>gpa</th>\n",
       "      <th>degree</th>\n",
       "      <th>expected_salary</th>\n",
       "      <th>accountant</th>\n",
       "      <th>engineer</th>\n",
       "      <th>secretary</th>\n",
       "    </tr>\n",
       "  </thead>\n",
       "  <tbody>\n",
       "    <tr>\n",
       "      <th>0</th>\n",
       "      <td>35</td>\n",
       "      <td>10</td>\n",
       "      <td>3.5</td>\n",
       "      <td>0.0</td>\n",
       "      <td>100000</td>\n",
       "      <td>0.0</td>\n",
       "      <td>1.0</td>\n",
       "      <td>0.0</td>\n",
       "    </tr>\n",
       "  </tbody>\n",
       "</table>\n",
       "</div>"
      ],
      "text/plain": [
       "  age experience  gpa  degree expected_salary  accountant  engineer  secretary\n",
       "0  35         10  3.5     0.0          100000         0.0       1.0        0.0"
      ]
     },
     "execution_count": 9,
     "metadata": {},
     "output_type": "execute_result"
    }
   ],
   "source": [
    "incoming_data"
   ]
  },
  {
   "cell_type": "markdown",
   "id": "0b3dc5a5-9384-48c4-8268-2566bae632af",
   "metadata": {},
   "source": [
    "### Feature Scaler"
   ]
  },
  {
   "cell_type": "code",
   "execution_count": 10,
   "id": "05f04cb3-51a0-4023-b2d0-7fb437f24cc8",
   "metadata": {},
   "outputs": [],
   "source": [
    "incoming_data_scaled = scaler.transform(incoming_data)"
   ]
  },
  {
   "cell_type": "markdown",
   "id": "f765d0e4-f1d6-43d6-aa87-a952cc682dc7",
   "metadata": {},
   "source": [
    "### Prediction"
   ]
  },
  {
   "cell_type": "code",
   "execution_count": 11,
   "id": "90b3f3e8-a221-4c44-b09a-be7ab1cc92aa",
   "metadata": {},
   "outputs": [],
   "source": [
    "predicted_target = clf.predict(incoming_data_scaled)"
   ]
  },
  {
   "cell_type": "code",
   "execution_count": 12,
   "id": "f416230f-50b7-47fb-9460-9288b78754e5",
   "metadata": {},
   "outputs": [
    {
     "data": {
      "text/plain": [
       "array(['reject'], dtype=object)"
      ]
     },
     "execution_count": 12,
     "metadata": {},
     "output_type": "execute_result"
    }
   ],
   "source": [
    "predicted_target"
   ]
  }
 ],
 "metadata": {
  "kernelspec": {
   "display_name": "Python 3 (ipykernel)",
   "language": "python",
   "name": "python3"
  },
  "language_info": {
   "codemirror_mode": {
    "name": "ipython",
    "version": 3
   },
   "file_extension": ".py",
   "mimetype": "text/x-python",
   "name": "python",
   "nbconvert_exporter": "python",
   "pygments_lexer": "ipython3",
   "version": "3.8.13"
  }
 },
 "nbformat": 4,
 "nbformat_minor": 5
}
